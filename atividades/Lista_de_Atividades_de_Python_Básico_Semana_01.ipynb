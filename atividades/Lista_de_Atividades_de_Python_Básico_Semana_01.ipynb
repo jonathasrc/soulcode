{
  "nbformat": 4,
  "nbformat_minor": 0,
  "metadata": {
    "colab": {
      "provenance": []
    },
    "kernelspec": {
      "name": "python3",
      "display_name": "Python 3"
    },
    "language_info": {
      "name": "python"
    }
  },
  "cells": [
    {
      "cell_type": "markdown",
      "source": [
        "# 1 - Variáveis e Tipos de Dados"
      ],
      "metadata": {
        "id": "uxGISqtR2yNT"
      }
    },
    {
      "cell_type": "code",
      "execution_count": null,
      "metadata": {
        "id": "tLS0FEGj2rS7",
        "colab": {
          "base_uri": "https://localhost:8080/"
        },
        "outputId": "d296cc77-d5d0-4fb6-9bdc-29cd49f19ab3"
      },
      "outputs": [
        {
          "output_type": "stream",
          "name": "stdout",
          "text": [
            "Digite seu nome: jonathas\n",
            "Digite seu peso: 100\n",
            "Digite sua altura: 181\n",
            "nome: jonathas, tipo <class 'str'>\n",
            "idade: 25, tipo: <class 'int'>\n",
            "peso: 100.0, tipo: <class 'float'>\n",
            "altura: 181.0, tipo: <class 'float'>\n"
          ]
        }
      ],
      "source": [
        "'''\n",
        "1.1. Crie variáveis para armazenar o nome, idade, peso e altura de uma pessoa.\n",
        "Imprima os valores e os tipos de dados dessas variáveis.\n",
        "'''\n",
        "\n",
        "name = input(\"Digite seu nome: \")\n",
        "age = int(input(\"Digite sua idade: \"))\n",
        "weight = float(input(\"Digite seu peso: \"))\n",
        "height = float(input(\"Digite sua altura: \"))\n",
        "\n",
        "\n",
        "print(f\"nome: {name}, tipo {type(name)}\")\n",
        "print(f\"idade: {age}, tipo: {type(age)}\")\n",
        "print(f\"peso: {weight}, tipo: {type(weight)}\")\n",
        "print(f\"altura: {height}, tipo: {type(height)}\")"
      ]
    },
    {
      "cell_type": "code",
      "source": [
        "'''\n",
        "1.2. Atualize a variável de peso para um valor diferente e imprima o novo valor.\n",
        "'''\n",
        "\n",
        "age = 25\n",
        "print(f\"idade: {age}, tipo: {type(age)}\")"
      ],
      "metadata": {
        "id": "VFVgrodF27TT",
        "colab": {
          "base_uri": "https://localhost:8080/"
        },
        "outputId": "58ec7c5a-324d-4363-e7c5-09c59dba1b93"
      },
      "execution_count": null,
      "outputs": [
        {
          "output_type": "stream",
          "name": "stdout",
          "text": [
            "idade: 25, tipo: <class 'int'>\n"
          ]
        }
      ]
    },
    {
      "cell_type": "markdown",
      "source": [
        "# 2 - Operadores Matemáticos"
      ],
      "metadata": {
        "id": "RRRbkSkr3Ajw"
      }
    },
    {
      "cell_type": "code",
      "source": [
        "'''\n",
        "2.1. Crie uma variável a com valor 10 e uma variável b com valor 3. Realize as\n",
        "seguintes operações e imprima os resultados:\n",
        "Soma\n",
        "Subtração\n",
        "Multiplicação\n",
        "Divisão\n",
        "Parte inteira da divisão\n",
        "Resto da divisão\n",
        "Exponenciação\n",
        "'''\n",
        "\n",
        "a = 10\n",
        "b = 3\n",
        "\n",
        "print(f\"Soma: {a + b}\")\n",
        "print(f\"Subtração: {a - b}\")\n",
        "print(f\"Multiplicação: {a * b}\")\n",
        "print(f\"Divisão: {a / b}\")\n",
        "print(f\"Parte inteira da divisão: {a // b}\")\n",
        "print(f\"Resto da divisão: {a % b}\")\n",
        "print(f\"Exponenciação: {a ** b}\")"
      ],
      "metadata": {
        "id": "hHAztIDU3AJP",
        "colab": {
          "base_uri": "https://localhost:8080/"
        },
        "outputId": "14175794-bfbd-43b0-99c1-c3f93ef840c7"
      },
      "execution_count": null,
      "outputs": [
        {
          "output_type": "stream",
          "name": "stdout",
          "text": [
            "Soma: 13\n",
            "Subtração: 7\n",
            "Multiplicação: 30\n",
            "Divisão: 3.3333333333333335\n",
            "Parte inteira da divisão: 3\n",
            "Resto da divisão: 1\n",
            "Exponenciação: 1000\n"
          ]
        }
      ]
    },
    {
      "cell_type": "markdown",
      "source": [
        "# 3 - Entrada de Dados pelo Usuário\n"
      ],
      "metadata": {
        "id": "jWJt5Ep23OFd"
      }
    },
    {
      "cell_type": "code",
      "source": [
        "'''\n",
        "3.1. Peça ao usuário para digitar seu nome e armazene em uma variável. Imprima\n",
        "uma mensagem de boas-vindas usando o nome fornecido.\n",
        "'''\n",
        "name = input(\"Digite seu nome: \")\n",
        "print(f\"Olá {name}, seja bem-vindo!\")"
      ],
      "metadata": {
        "id": "IiD6jUJh3eiD",
        "colab": {
          "base_uri": "https://localhost:8080/"
        },
        "outputId": "7da76877-c1b2-4e13-9958-ffbeae774f51"
      },
      "execution_count": null,
      "outputs": [
        {
          "output_type": "stream",
          "name": "stdout",
          "text": [
            "Digite seu nome: Jonathas\n",
            "Olá Jonathas, seja bem-vindo!\n"
          ]
        }
      ]
    },
    {
      "cell_type": "code",
      "source": [
        "'''\n",
        "3.2. Peça ao usuário para digitar sua idade, peso e altura. Calcule o IMC e\n",
        "imprima o resultado arredondado para três casas decimais.\n",
        "'''\n",
        "age = int(input(\"Digite sua idade: \"))\n",
        "weight = float(input(\"Digite seu peso em kilograma: \"))\n",
        "height = float(input(\"Digite sua altura em metros: \"))\n",
        "\n",
        "imc = weight / (height ** 2)\n",
        "\n",
        "print(f\"Seu IMC é: {imc:.3f}\")\n",
        "#TODO:informar se ta baixo, normal ou alto"
      ],
      "metadata": {
        "id": "Y4kz72aR3k8d",
        "colab": {
          "base_uri": "https://localhost:8080/"
        },
        "outputId": "22da0349-6f01-49af-bdb8-8da538dac860"
      },
      "execution_count": null,
      "outputs": [
        {
          "output_type": "stream",
          "name": "stdout",
          "text": [
            "Digite sua idade: 27\n",
            "Digite seu peso em kilograma: 100\n",
            "Digite sua altura em metros: 1.81\n",
            "Seu IMC é: 30.524\n"
          ]
        }
      ]
    },
    {
      "cell_type": "markdown",
      "source": [
        "# 4 - Função de Impressão"
      ],
      "metadata": {
        "id": "zqRV3Plv3pjL"
      }
    },
    {
      "cell_type": "code",
      "source": [
        "'''\n",
        "4.1. Peça ao usuário para digitar um número e imprima o número digitado.\n",
        "'''\n",
        "\n",
        "number = float(input(\"Digite um número: \"))\n",
        "print(f\"O número digitado foi: {number}\")"
      ],
      "metadata": {
        "id": "N5AbRV3i3vYV",
        "colab": {
          "base_uri": "https://localhost:8080/"
        },
        "outputId": "1db67a96-2349-460d-f42a-18689537eba9"
      },
      "execution_count": null,
      "outputs": [
        {
          "output_type": "stream",
          "name": "stdout",
          "text": [
            "Digite um número: 20.304\n",
            "O número digitado foi: 20.304\n"
          ]
        }
      ]
    },
    {
      "cell_type": "code",
      "source": [
        "'''\n",
        "4.2. Peça ao usuário para digitar dois números e imprima a soma deles.\n",
        "'''\n",
        "\n",
        "number1, number2 = input(\"Digite dois números separado por virgula (,)\").split(\",\")\n",
        "print(f\"A soma dos números é: {float(number1) + float(number2)}\")"
      ],
      "metadata": {
        "id": "qM2ocOFl3vpB",
        "colab": {
          "base_uri": "https://localhost:8080/"
        },
        "outputId": "154cd586-708e-45c8-fcc5-09c574427707"
      },
      "execution_count": null,
      "outputs": [
        {
          "output_type": "stream",
          "name": "stdout",
          "text": [
            "Digite dois números separado por virgula (,)10.2,10.3\n",
            "A soma dos números é: 20.5\n"
          ]
        }
      ]
    },
    {
      "cell_type": "markdown",
      "source": [
        "# 5 - Métodos de Strings"
      ],
      "metadata": {
        "id": "RWwlLaOu35jq"
      }
    },
    {
      "cell_type": "code",
      "source": [
        "'''\n",
        "5.1. Peça ao usuário para digitar um e-mail e verifique se o e-mail contém o\n",
        "caractere '@'. Imprima uma mensagem indicando se é um e-mail válido ou não.\n",
        "'''\n",
        "\n",
        "email = input(\"Digite seu e-mail: \")\n",
        "\n",
        "if \"@\" in email:\n",
        "    print(\"válido\")\n",
        "else:\n",
        "    print(\"inválido\")"
      ],
      "metadata": {
        "id": "PnAPaeXY3-dA",
        "colab": {
          "base_uri": "https://localhost:8080/"
        },
        "outputId": "0ec27d72-839c-4574-e732-1f882f21d4a4"
      },
      "execution_count": null,
      "outputs": [
        {
          "output_type": "stream",
          "name": "stdout",
          "text": [
            "Digite seu e-mail: dom@hotmail.com\n",
            "válido\n"
          ]
        }
      ]
    },
    {
      "cell_type": "code",
      "source": [
        "'''\n",
        "5.2. Peça ao usuário para digitar uma frase e:\n",
        "Converta a frase para maiúsculas.\n",
        "Converta a frase para minúsculas.\n",
        "Converta a primeira letra de cada palavra para maiúscula.\n",
        "Verifique se a frase começa com uma determinada palavra (ex.: 'Olá').\n",
        "'''\n",
        "\n",
        "text = input(\"Digite uma frase: \")\n",
        "\n",
        "print(f\"Maiúsculo: {text.upper()}\")\n",
        "print(f\"Minúsculo: {text.lower()}\")\n",
        "print(f\"Primeira letra de cada palavra em maiúsculo: {text.title()}\")"
      ],
      "metadata": {
        "id": "nkwe0I9c3-w-",
        "colab": {
          "base_uri": "https://localhost:8080/"
        },
        "outputId": "d62ce4b4-e649-48ab-e8b4-0719ba01684f"
      },
      "execution_count": null,
      "outputs": [
        {
          "output_type": "stream",
          "name": "stdout",
          "text": [
            "Digite uma frase: O bootcamp soul code é 10\n",
            "Maiúsculo: O BOOTCAMP SOUL CODE É 10\n",
            "Minúsculo: o bootcamp soul code é 10\n",
            "Primeira letra de cada palavra em maiúsculo: O Bootcamp Soul Code É 10\n"
          ]
        }
      ]
    },
    {
      "cell_type": "markdown",
      "source": [
        "# 6 - Listas"
      ],
      "metadata": {
        "id": "HZQlB-8K4snX"
      }
    },
    {
      "cell_type": "code",
      "source": [
        "'''\n",
        "6.1. Crie uma lista com os nomes de cinco amigos. Imprima o nome do terceiro\n",
        "amigo na lista.\n",
        "\n",
        "'''\n",
        "list_name = [\"Joyce\", \"Milena\", \"Agatha\", \"Dom\", \"Andressa\"]\n",
        "print(lista[2])"
      ],
      "metadata": {
        "id": "3_3JLvXZ4sBG",
        "colab": {
          "base_uri": "https://localhost:8080/"
        },
        "outputId": "1add2358-864c-427f-9030-6f3914662f6c"
      },
      "execution_count": null,
      "outputs": [
        {
          "output_type": "stream",
          "name": "stdout",
          "text": [
            "Agatha\n"
          ]
        }
      ]
    },
    {
      "cell_type": "code",
      "source": [
        "'''\n",
        "6.2. Adicione um novo nome à lista de amigos e remova o primeiro nome.\n",
        "Imprima a lista atualizada.\n",
        "'''\n",
        "list_name.append(\"João\")\n",
        "list_name.pop(0)\n",
        "print(list_name)"
      ],
      "metadata": {
        "id": "ppcjLqMb4yDu",
        "colab": {
          "base_uri": "https://localhost:8080/"
        },
        "outputId": "2dec203c-8a5f-4781-dc1a-acd00a9a560e"
      },
      "execution_count": null,
      "outputs": [
        {
          "output_type": "stream",
          "name": "stdout",
          "text": [
            "['Milena', 'Agatha', 'Dom', 'Andressa', 'João']\n"
          ]
        }
      ]
    },
    {
      "cell_type": "code",
      "source": [
        "'''\n",
        "6.3. Crie uma lista com as idades dos seus amigos e:\n",
        "Imprima a idade do amigo mais velho.\n",
        "Imprima a idade do amigo mais novo.\n",
        "Calcule e imprima a soma das idades.\n",
        "'''\n",
        "\n",
        "list_age = [23, 8, 27, 28, 80]\n",
        "print(f\"Amigo mais velho: {max(list_age)}\")\n",
        "print(f\"Amigo mais novo: {min(list_age)}\")\n",
        "print(f\"Soma das idades: {sum(list_age)}\")"
      ],
      "metadata": {
        "id": "Hoz7RcUW4zc4",
        "colab": {
          "base_uri": "https://localhost:8080/"
        },
        "outputId": "55391520-bca4-403e-8d19-c1e5a192a60e"
      },
      "execution_count": null,
      "outputs": [
        {
          "output_type": "stream",
          "name": "stdout",
          "text": [
            "Amigo mais velho: 80\n",
            "Amigo mais novo: 8\n",
            "Soma das idades: 166\n"
          ]
        }
      ]
    },
    {
      "cell_type": "markdown",
      "source": [
        "# 7 - Tuplas"
      ],
      "metadata": {
        "id": "9WTzsCNH4-tT"
      }
    },
    {
      "cell_type": "code",
      "source": [
        "'''\n",
        "7.1 Crie uma tupla com as informações de um cliente (nome, idade, peso, altura).\n",
        "Imprima todas as informações.\n",
        "'''\n",
        "\n",
        "tuple_client = (\"Joyce\", 23, 60, 1.60)\n",
        "print(tuple_client, type(tuple_client))"
      ],
      "metadata": {
        "id": "XpWW7G-p5BOJ",
        "colab": {
          "base_uri": "https://localhost:8080/"
        },
        "outputId": "4295fcd2-6abb-4920-84f0-6fcb8b7e93a6"
      },
      "execution_count": null,
      "outputs": [
        {
          "output_type": "stream",
          "name": "stdout",
          "text": [
            "('Joyce', 23, 60, 1.6) <class 'tuple'>\n"
          ]
        }
      ]
    },
    {
      "cell_type": "code",
      "source": [
        "'''\n",
        "7.2. Crie uma nova tupla concatenando a tupla do exercício anterior com o e-mail\n",
        "do cliente. Imprima a nova tupla.\n",
        "'''\n",
        "\n",
        "new_tuple_client = tuple_client + (\"dom@gmail.com\",)\n",
        "print(new_tuple_client, type(new_tuple_client))"
      ],
      "metadata": {
        "id": "tIzWFwzc5GQ8",
        "colab": {
          "base_uri": "https://localhost:8080/"
        },
        "outputId": "08b55fc1-bb11-44dd-be95-5769233ef8d4"
      },
      "execution_count": null,
      "outputs": [
        {
          "output_type": "stream",
          "name": "stdout",
          "text": [
            "('Joyce', 23, 60, 1.6, 'dom@gmail.com') <class 'tuple'>\n"
          ]
        }
      ]
    },
    {
      "cell_type": "markdown",
      "source": [
        "# 8 - Dicionários"
      ],
      "metadata": {
        "id": "-zg06dPu5ZJC"
      }
    },
    {
      "cell_type": "code",
      "source": [
        "'''\n",
        "8.1. Crie um dicionário com informações de um cliente\n",
        "(nome, idade, peso, altura). Imprima o valor associado à chave 'nome'.\n",
        "'''\n",
        "dictionary_client = {\n",
        "    \"name\": \"dom\",\n",
        "    \"age\": 27,\n",
        "    \"weight\": 60,\n",
        "    \"height\": 1.60\n",
        "}\n",
        "\n",
        "print(dictionary_client[\"name\"])"
      ],
      "metadata": {
        "id": "E_wd3pdX5clA",
        "colab": {
          "base_uri": "https://localhost:8080/"
        },
        "outputId": "052404f6-ea85-4b04-ac0a-a7c0b96f6c3a"
      },
      "execution_count": null,
      "outputs": [
        {
          "output_type": "stream",
          "name": "stdout",
          "text": [
            "dom\n"
          ]
        }
      ]
    },
    {
      "cell_type": "code",
      "source": [
        "'''\n",
        "8.2. Adicione uma nova chave 'email' ao dicionário do exercício anterior e\n",
        "imprima o dicionário atualizado.\n",
        "'''\n",
        "dictionary_client[\"email\"] = \"dom@gmail.com\"\n",
        "print(dictionary_client)"
      ],
      "metadata": {
        "id": "kM-tUW7o5eK7",
        "colab": {
          "base_uri": "https://localhost:8080/"
        },
        "outputId": "4357177e-ddb1-4704-ee7e-1e21007421ae"
      },
      "execution_count": null,
      "outputs": [
        {
          "output_type": "stream",
          "name": "stdout",
          "text": [
            "{'name': 'dom', 'age': 27, 'weight': 60, 'height': 1.6, 'email': 'dom@gmail.com'}\n"
          ]
        }
      ]
    },
    {
      "cell_type": "code",
      "source": [
        "'''\n",
        "8.3. Remova a chave 'peso' do dicionário e verifique se a chave 'endereço' está\n",
        "no dicionário. Imprima os resultados.\n",
        "'''\n",
        "\n",
        "del dictionary_client[\"weight\"]\n",
        "print(dictionary_client)\n",
        "\n",
        "if \"address\" in dictionary_client:\n",
        "    print(\"Há a chave 'address' no dicionário\")\n",
        "else:\n",
        "    print(\"Não há chave 'address' no dicionário\")"
      ],
      "metadata": {
        "id": "xFhFuFOV5ffs",
        "colab": {
          "base_uri": "https://localhost:8080/"
        },
        "outputId": "ef3e8498-3262-4a05-bdb2-36fe3fefe61b"
      },
      "execution_count": null,
      "outputs": [
        {
          "output_type": "stream",
          "name": "stdout",
          "text": [
            "{'name': 'dom', 'age': 27, 'height': 1.6, 'email': 'dom@gmail.com'}\n",
            "Não há chave 'address' no dicionário\n"
          ]
        }
      ]
    },
    {
      "cell_type": "markdown",
      "source": [
        "# 9 - Controle de Fluxo"
      ],
      "metadata": {
        "id": "zDOsohbe5sjQ"
      }
    },
    {
      "cell_type": "code",
      "source": [
        "# Condicionais\n",
        "'''\n",
        "9.1. Peça ao usuário para digitar sua idade e verifique se ele é menor de idade,\n",
        " adulto ou idoso. Imprima uma mensagem correspondente.\n",
        "'''\n",
        "\n",
        "age = int(input(\"Digite sua idade: \"))\n",
        "\n",
        "if age < 18:\n",
        "    print(\"Menor de idade\")\n",
        "elif age >= 18 and age <= 65:\n",
        "    print(\"Adulto\")\n",
        "else:\n",
        "    print(\"Idoso\")"
      ],
      "metadata": {
        "id": "efFgv5Xx5wFC",
        "colab": {
          "base_uri": "https://localhost:8080/"
        },
        "outputId": "21b90a1d-1fc9-4cdc-ac22-107bd15593ea"
      },
      "execution_count": null,
      "outputs": [
        {
          "output_type": "stream",
          "name": "stdout",
          "text": [
            "Digite sua idade: 17\n",
            "Menor de idade\n"
          ]
        }
      ]
    },
    {
      "cell_type": "code",
      "source": [
        "# Condicionais\n",
        "'''\n",
        "9.2. Peça ao usuário para digitar uma nota (0 a 100) e imprima se ele foi\n",
        "aprovado (nota >= 60) ou reprovado.\n",
        "'''\n",
        "\n",
        "\n",
        "grade = int(input(\"Digite sua nota: \"))\n",
        "#TODO:validar entradas invalidas\n",
        "\n",
        "if grade >= 60:\n",
        "    print(\"Aprovado\")\n",
        "else:\n",
        "    print(\"Reprovado\")"
      ],
      "metadata": {
        "id": "pse5b4NO52OP",
        "colab": {
          "base_uri": "https://localhost:8080/"
        },
        "outputId": "28118466-1400-40fa-b65b-c11d2e26bfe6"
      },
      "execution_count": null,
      "outputs": [
        {
          "output_type": "stream",
          "name": "stdout",
          "text": [
            "Digite sua nota: 32\n",
            "Reprovado\n"
          ]
        }
      ]
    },
    {
      "cell_type": "code",
      "source": [
        "# Loop For\n",
        "'''\n",
        "9.3. Crie uma lista com os nomes de cinco cidades. Use um loop for para imprimir\n",
        "cada nome de cidade.\n",
        "'''\n",
        "\n",
        "cities_list = [\"Maceió\", \"Salvador\", \"Recife\", \"Fortaleza\", \"Mossoro\"]\n",
        "\n",
        "for city in cities_list:\n",
        "    print(city)"
      ],
      "metadata": {
        "id": "inMnGHFy525K",
        "colab": {
          "base_uri": "https://localhost:8080/"
        },
        "outputId": "b381e559-799d-4762-c707-97a50f0adf63"
      },
      "execution_count": null,
      "outputs": [
        {
          "output_type": "stream",
          "name": "stdout",
          "text": [
            "Maceió\n",
            "Salvador\n",
            "Recife\n",
            "Fortaleza\n",
            "Mossoro\n"
          ]
        }
      ]
    },
    {
      "cell_type": "code",
      "source": [
        "# Loop For\n",
        "'''\n",
        "9.4. Crie uma lista com os números de 1 a 10. Use um loop for para imprimir o\n",
        "quadrado de cada número.\n",
        "'''\n",
        "\n",
        "[print(x ** 2, end=' ') for x in range(1,11)]"
      ],
      "metadata": {
        "id": "GitTfGfM539Y",
        "colab": {
          "base_uri": "https://localhost:8080/"
        },
        "outputId": "4252b3fb-b395-4d69-dea6-a49bd741d769"
      },
      "execution_count": null,
      "outputs": [
        {
          "output_type": "stream",
          "name": "stdout",
          "text": [
            "1 4 9 16 25 36 49 64 81 100 "
          ]
        },
        {
          "output_type": "execute_result",
          "data": {
            "text/plain": [
              "[None, None, None, None, None, None, None, None, None, None]"
            ]
          },
          "metadata": {},
          "execution_count": 41
        }
      ]
    },
    {
      "cell_type": "markdown",
      "source": [
        "# 10 - Estudo de caso 01"
      ],
      "metadata": {
        "id": "_vJUEjo_6mWX"
      }
    },
    {
      "cell_type": "code",
      "source": [
        "'''\n",
        "Contexto:\n",
        "Uma empresa precisa registrar informações sobre seus clientes e calcular o IMC\n",
        "(Índice de Massa Corporal) de cada um deles. As informações devem ser\n",
        "armazenadas em um dicionário e exibidas ao final.\n",
        "'''\n",
        "\n",
        "\n",
        "'''\n",
        "Requisitos:\n",
        "Peça ao usuário para inserir os seguintes dados de um cliente:\n",
        "Nome\n",
        "Idade\n",
        "Peso (em kg)\n",
        "Altura (em metros)\n",
        "E-mail\n",
        "Armazene essas informações em um dicionário.\n",
        "Calcule o IMC do cliente (IMC = Peso / (Altura * Altura)) e adicione esse valor ao dicionário.\n",
        "Exiba todas as informações do cliente, incluindo o IMC arredondado para duas casas decimais.\n",
        "\n",
        "'''\n",
        "#TODO: MELHORAR COM VALIDADORES DE DADOS\n",
        "name = input(\"Digite seu nome: \")\n",
        "age = int(input(\"Digite sua idade: \"))\n",
        "weight = float(input(\"Digite seu peso: \"))\n",
        "height = float(input(\"Digite sua altura (metros): \"))\n",
        "email = input(\"Digite seu e-mail: \")\n",
        "\n",
        "client = {\n",
        "    \"name\": name,\n",
        "    \"age\": age,\n",
        "    \"weight\": weight,\n",
        "    \"height\": height,\n",
        "    \"email\": email,\n",
        "    \"imc\": round(weight / (height ** 2), 2)\n",
        "}\n",
        "\n",
        "print(client)"
      ],
      "metadata": {
        "id": "llIsNhsG6l_z",
        "colab": {
          "base_uri": "https://localhost:8080/"
        },
        "outputId": "5e835531-32b6-4597-9667-0121e55c1a2a"
      },
      "execution_count": null,
      "outputs": [
        {
          "output_type": "stream",
          "name": "stdout",
          "text": [
            "Digite seu nome: jonathas\n",
            "Digite sua idade: 27\n",
            "Digite seu peso: 100\n",
            "Digite sua altura (metros): 1.81\n",
            "Digite seu e-mail: dom@email.com\n",
            "{'name': 'jonathas', 'age': 27, 'weight': 100.0, 'height': 1.81, 'email': 'dom@email.com', 'imc': 30.52}\n"
          ]
        }
      ]
    },
    {
      "cell_type": "markdown",
      "source": [
        "# 11 - Estudo de Caso 02"
      ],
      "metadata": {
        "id": "_Yi8lRKQ68B3"
      }
    },
    {
      "cell_type": "code",
      "source": [
        "'''\n",
        "Contexto:\n",
        "Uma escola precisa analisar as notas de seus alunos e determinar se cada aluno\n",
        "foi aprovado ou reprovado. As notas serão armazenadas em uma lista e a análise\n",
        "deve ser realizada em um loop.\n",
        "'''\n",
        "\n",
        "'''\n",
        "Requisitos:\n",
        "Peça ao usuário para inserir o nome e a nota de cinco alunos.\n",
        "Armazene os nomes e as notas em listas separadas.\n",
        "Para cada aluno, verifique se a nota é maior ou igual a 60. Se sim, o aluno está\n",
        "aprovado; caso contrário, está reprovado.\n",
        "Exiba uma mensagem para cada aluno informando seu nome, nota e se foi aprovado\n",
        "ou reprovado.\n",
        "'''\n",
        "list_name = []\n",
        "list_grade = []\n",
        "\n",
        "for i in range(5):\n",
        "  list_name.append(input(\"Digite seu nome: \"))\n",
        "  list_grade.append(int(input(\"Digite sua nota: \")))\n",
        "\n",
        "for i in range(len(list_name)):\n",
        "  relatorio = f\"Aluno {list_name[i]} obteve a nota {list_grade[i]} e foi {'Aprovado' if list_grade[i] >= 6 else 'Reprovado'}\"\n",
        "  print(relatorio)\n",
        "\n"
      ],
      "metadata": {
        "id": "mrqCtmjg6_It",
        "colab": {
          "base_uri": "https://localhost:8080/"
        },
        "outputId": "6cb8dfcd-def9-4d6f-a8a5-dda3e7669e11"
      },
      "execution_count": 21,
      "outputs": [
        {
          "output_type": "stream",
          "name": "stdout",
          "text": [
            "Digite seu nome: dom\n",
            "Digite sua nota: 10\n",
            "Digite seu nome: dom2\n",
            "Digite sua nota: 3\n",
            "Digite seu nome: dom3\n",
            "Digite sua nota: 4\n",
            "Digite seu nome: dom4\n",
            "Digite sua nota: 6\n",
            "Digite seu nome: dom5\n",
            "Digite sua nota: 7\n",
            "Aluno dom obteve a nota 10 e foi Aprovado\n",
            "Aluno dom2 obteve a nota 3 e foi Reprovado\n",
            "Aluno dom3 obteve a nota 4 e foi Reprovado\n",
            "Aluno dom4 obteve a nota 6 e foi Aprovado\n",
            "Aluno dom5 obteve a nota 7 e foi Aprovado\n"
          ]
        }
      ]
    },
    {
      "cell_type": "markdown",
      "source": [
        "# 12 - Estudo de caso 03"
      ],
      "metadata": {
        "id": "DoDAFqG37QWG"
      }
    },
    {
      "cell_type": "code",
      "source": [
        "'''\n",
        "Contexto\n",
        "Uma empresa deseja realizar uma pesquisa de opinião com cinco participantes\n",
        "sobre um novo produto. As respostas devem ser armazenadas e analisadas para\n",
        "verificar a satisfação dos clientes.\n",
        "'''\n",
        "\n",
        "'''\n",
        "Requisitos\n",
        "Peça ao usuário para inserir o nome e a opinião (satisfeito/insatisfeito) de\n",
        "cinco participantes.\n",
        "Armazene os nomes e as opiniões em um dicionário.\n",
        "Conte o número de participantes satisfeitos e insatisfeitos.\n",
        "Exiba a lista de participantes satisfeitos e insatisfeitos, bem como o número\n",
        "total de cada categoria.\n",
        "'''\n",
        "\n",
        "# client1 = {\"name\": \"Joyce\", \"opinion\": \"satisfeito\"}\n",
        "# client2 = {\"name\": \"Andresa\", \"opinion\": \"insatisfeito\"}\n",
        "# client3 = {\"name\": \"Dom\", \"opinion\": \"satisfeito\"}\n",
        "# client4 = {\"name\": \"Agatha\", \"opinion\": \"insatisfeito\"}\n",
        "# client5 = {\"name\": \"Milena\", \"opinion\": \"satisfeito\"}\n",
        "# list_clients = [client1, client2, client3, client4, client5]\n",
        "\n",
        "list_clients = []\n",
        "\n",
        "for i in range(5):\n",
        "    list_clients.append({\n",
        "        \"name\": input(\"Digite seu nome: \"),\n",
        "        \"opinion\": input(\"Digite sua opinião (satisfeito/insatisfeito): \")\n",
        "    })\n",
        "\n",
        "counter_happy_opinion = 0\n",
        "counter_sad_opinion = 0\n",
        "list_clients_happy_opinion = []\n",
        "list_clients_sad_opinion = []\n",
        "\n",
        "\n",
        "for client in list_clients:\n",
        "    if client[\"opinion\"] == \"satisfeito\":\n",
        "        list_clients_happy_opinion.append(client)\n",
        "        counter_happy_opinion += 1\n",
        "    elif client[\"opinion\"] == \"insatisfeito\":\n",
        "        list_clients_sad_opinion.append(client)\n",
        "        counter_sad_opinion += 1\n",
        "\n",
        "\n",
        "print(\"-\"*80);print(\"\\n\")\n",
        "for value in list_clients_sad_opinion:\n",
        "    print(f\"O cliente {value['name']} está {value['opinion']}\")\n",
        "\n",
        "print(f\"\\nTotal de clientes satisfeitos: {counter_sad_opinion}\\n\")\n",
        "print(\"-\"*80)\n",
        "\n",
        "for value in list_clients_happy_opinion:\n",
        "    print(f\"O cliente {value['name']} está {value['opinion']}\")\n",
        "\n",
        "print(f\"\\nTotal de clientes insatisfeitos: {counter_happy_opinion}\\n\")"
      ],
      "metadata": {
        "id": "34JqxL0B7Tvj",
        "colab": {
          "base_uri": "https://localhost:8080/"
        },
        "outputId": "f16a210a-c4ea-4650-8ee9-af16f969f1c5"
      },
      "execution_count": 51,
      "outputs": [
        {
          "output_type": "stream",
          "name": "stdout",
          "text": [
            "Digite seu nome: dom1\n",
            "Digite sua opinião (satisfeito/insatisfeito): satisfeito\n",
            "Digite seu nome: dom2\n",
            "Digite sua opinião (satisfeito/insatisfeito): satisfeito\n",
            "Digite seu nome: dom3\n",
            "Digite sua opinião (satisfeito/insatisfeito): insatisfeito\n",
            "Digite seu nome: dom4\n",
            "Digite sua opinião (satisfeito/insatisfeito): insatisfeito\n",
            "Digite seu nome: dom5\n",
            "Digite sua opinião (satisfeito/insatisfeito): imparcial\n",
            "--------------------------------------------------------------------------------\n",
            "\n",
            "\n",
            "O cliente dom3 está insatisfeito\n",
            "O cliente dom4 está insatisfeito\n",
            "\n",
            "Total de clientes satisfeitos: 2\n",
            "\n",
            "--------------------------------------------------------------------------------\n",
            "O cliente dom1 está satisfeito\n",
            "O cliente dom2 está satisfeito\n",
            "\n",
            "Total de clientes insatisfeitos: 2\n",
            "\n"
          ]
        }
      ]
    },
    {
      "cell_type": "code",
      "source": [],
      "metadata": {
        "id": "z9AqowmneHBq"
      },
      "execution_count": null,
      "outputs": []
    }
  ]
}