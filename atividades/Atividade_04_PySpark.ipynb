{
 "cells": [
  {
   "cell_type": "markdown",
   "metadata": {
    "id": "_EGyu5nGlPxS"
   },
   "source": [
    "# Atividade 04 PySpark\n",
    "\n",
    "1. Análise de Consistência de Dados: Identificar e corrigir inconsistências nos valores de \"Área\" e \"Status de Emprego\" (e.g., diferenças de maiúsculas/minúsculas).\n",
    "2. Limpeza de Dados Faltantes: Detectar e tratar os valores ausentes na coluna \"Idade\" e \"Área\".\n",
    "3. Distribuição de Idade: Analisar a distribuição da idade dos funcionários por departamento.\n",
    "4. Salário por Departamento: Calcular a média, mediana e desvio padrão dos salários por departamento.\n",
    "5. Análise de Outliers: Identificar salários que estão fora do padrão (outliers) para cada departamento.\n",
    "6. Correlação Idade-Salário: Analisar a correlação entre idade e salário dos funcionários.\n",
    "7. Tempo de Casa: Calcular o tempo de contratação dos funcionários e categorizá-los em grupos (e.g., 1-3 anos, 4-6 anos, etc.).\n",
    "8. Análise de Rotatividade: Identificar padrões entre os funcionários que estão ativos versus os que não estão.\n",
    "9. Análise de Desempenho por Data de Contratação: Verificar se existe uma correlação entre o ano de contratação e o nível de salário.\n",
    "10. Histograma de Salário: Criar um histograma de salários para visualizar a distribuição geral.\n",
    "11. Análise de Frequência: Quantificar a frequência dos nomes dos funcionários para identificar nomes comuns.\n",
    "12. Agrupamento de Departamentos: Analisar o impacto do departamento na variação salarial e na distribuição de idade.\n",
    "13. Normalização de Dados: Normalizar o salário e idade para comparações entre diferentes departamentos.\n",
    "14. Proporção de Gêneros: Analisar a proporção de gêneros entre os funcionários, caso houvesse uma coluna de gênero.\n",
    "15. Correção de Formato de Data: Uniformizar o formato das datas de contratação.\n",
    "16. Impacto de Status no Salário: Comparar salários médios entre funcionários ativos e não ativos.\n",
    "17. Data de Contratação e Demografia: Relacionar a data de contratação com a idade dos funcionários na época da contratação.\n",
    "18. Distribuição de Status de Emprego: Analisar a distribuição do status de emprego (ativo vs. não ativo).\n",
    "19. Criação de Coluna de Idade de Contratação: Criar uma coluna que calcule a idade do funcionário na época da contratação e analisar os dados.\n",
    "20. Análise de Promoções: Analisar possíveis promoções dentro da empresa ao comparar datas de contratação e aumentos salariais, se houvesse uma coluna histórica de salários.\n",
    "21. Análise de Desempenho Temporal: Verificar se o tempo de casa influencia o salário ou a permanência no emprego.\n",
    "22. Filtragem por Data de Contratação: Identificar funcionários contratados em períodos específicos (e.g., antes de 2019, entre 2019-2020).\n",
    "23. Análise de Status de Emprego e Tempo de Casa: Verificar a relação entre tempo de casa e status de emprego (ativo vs. não ativo).\n",
    "24. Identificação de Funcionários Veteranos: Encontrar os funcionários com maior tempo de casa e analisar seu impacto na empresa.\n",
    "25. Análise de Tendências de Contratação: Identificar padrões de contratação ao longo do tempo, como sazonalidade.\n",
    "26. Salário Máximo e Mínimo por Departamento: Determinar os salários mais altos e mais baixos dentro de cada departamento.\n",
    "27. Classificação de Funcionários por Salário: Criar rankings de funcionários por salário dentro de cada departamento.\n",
    "28. Projeção de Aposentadoria: Estimar o número de funcionários que podem se aposentar em breve com base na idade.\n",
    "29. Segmentação de Funcionários por Faixa Salarial: Agrupar funcionários em faixas salariais (e.g., 2000-3000, 3001-4000) e analisar a distribuição.\n",
    "30. Análise de Equidade Salarial: Verificar se há desigualdade salarial dentro de departamentos específicos.\n",
    "31. Comparação de Salários por Período de Contratação: Comparar os salários de funcionários contratados em diferentes anos para identificar tendências de aumento salarial.\n",
    "32. Criação de Coluna de Faixa Etária: Agrupar os funcionários em faixas etárias (e.g., 20-30 anos, 31-40 anos) e analisar diferenças entre elas.\n",
    "33. Relação Entre Área e Tempo de Contratação: Identificar se alguns departamentos tendem a manter seus funcionários por mais tempo do que outros.\n",
    "34. Previsão de Turnover: Usar dados históricos para prever quais funcionários têm maior probabilidade de deixar a empresa.\n",
    "35. Análise de Homogeneidade Salarial: Verificar a homogeneidade dos salários dentro de cada departamento.\n",
    "36. Detecção de Funcionários Com Anomalias: Identificar funcionários com salários e idades que destoam significativamente dos outros no mesmo departamento.\n",
    "37. Comparação de Salários por Região: Se houvesse uma coluna de localização, comparar os salários entre diferentes regiões.\n",
    "38. Criação de Métricas Personalizadas: Desenvolver novas métricas como \"salário ajustado pela idade\" ou \"tempo de casa ajustado pela idade\".\n",
    "39. Análise de Recrutamento Recente: Focar na análise dos funcionários contratados nos últimos 12 meses para ver tendências.\n",
    "40. Distribuição de Funcionários por Departamento: Quantificar o número de funcionários por departamento e comparar com a média salarial.\n",
    "41. Análise de Rotatividade por Departamento: Verificar se há departamentos com alta rotatividade de funcionários.\n",
    "42. Comparação de Salários por Gênero: Se houvesse uma coluna de gênero, comparar os salários médios entre homens e mulheres.\n",
    "43. Correlação Entre Status de Emprego e Desempenho Salarial: Avaliar se há diferença significativa de salários entre diferentes status de emprego.\n",
    "44. Análise de Impacto de Promoções: Se houvesse dados de promoções, analisar o impacto das promoções no salário ao longo do tempo.\n",
    "45. Projeção de Custos Salariais: Calcular o custo projetado para a empresa em termos de salários nos próximos anos.\n",
    "46. Análise de Desempenho por Escolaridade: Se houvesse uma coluna de escolaridade, analisar o impacto da escolaridade no salário.\n",
    "47. Comparação Entre Funcionários com Benefícios: Se houvesse dados de benefícios, comparar o salário entre funcionários que recebem ou não benefícios.\n",
    "48. Análise de Desempenho por Formação Acadêmica: Se houvesse uma coluna de formação, analisar como diferentes formações afetam o salário e tempo de casa.\n",
    "49. Previsão de Salários Futuros: Usar regressão linear ou outros modelos para prever o crescimento salarial futuro.\n",
    "50. Identificação de Padrões de Promoção Interna: Analisar os padrões de promoção dentro da empresa ao longo dos anos.\n"
   ]
  },
  {
   "cell_type": "code",
   "execution_count": 1,
   "metadata": {
    "colab": {
     "base_uri": "https://localhost:8080/",
     "height": 408
    },
    "id": "BxBdbqt9uCmr",
    "outputId": "76e17857-f9f9-4a6f-8e4f-41ffcf51a52c"
   },
   "outputs": [],
   "source": [
    "from pyspark.sql import DataFrame, SparkSession\n",
    "from pyspark.sql.functions import col, corr, round, avg, min, max, stddev, regexp_replace, when, expr\n",
    "from pyspark.sql.types import DoubleType\n",
    "from unidecode import unidecode\n",
    "from pyspark.sql.functions import month, dayofmonth,year,current_date, count, to_date, coalesce\n",
    "\n"
   ]
  },
  {
   "cell_type": "markdown",
   "metadata": {
    "id": "RJthmuWWtYca"
   },
   "source": [
    "## Utils"
   ]
  },
  {
   "cell_type": "code",
   "execution_count": 2,
   "metadata": {
    "id": "PGL09dhZtXCl"
   },
   "outputs": [],
   "source": [
    "from pyspark.sql.functions import initcap\n",
    "\n",
    "def clean_column_names(df):\n",
    "\n",
    "    if isinstance(df, DataFrame):\n",
    "      for col in df.columns:\n",
    "        df = df.withColumnRenamed(col, unidecode(col.lower().replace(' ', '_')))\n",
    "    else:\n",
    "      for col in df.columns:\n",
    "        df.rename(columns={col:unidecode(col.lower().replace(' ', '_'))}, inplace=True)\n",
    "\n",
    "    return df\n",
    "\n",
    "    \n",
    "def translate_first_letter_uppercase_df(df, subset=[]):\n",
    "    if not subset:\n",
    "        subset = df.columns\n",
    "    \n",
    "    for column in subset:\n",
    "        df = df.withColumn(column, initcap(column))\n",
    "    \n",
    "    return df\n"
   ]
  },
  {
   "cell_type": "code",
   "execution_count": 3,
   "metadata": {
    "id": "S4MgjgY3nr6g"
   },
   "outputs": [],
   "source": [
    "# Create a PySpark session\n",
    "spark = SparkSession.builder.appName(\"Atividade_04_pyspark\").getOrCreate()\n"
   ]
  },
  {
   "cell_type": "code",
   "execution_count": 4,
   "metadata": {
    "id": "j5-P9vbmoxf9"
   },
   "outputs": [
    {
     "name": "stdout",
     "output_type": "stream",
     "text": [
      "root\n",
      " |-- id: integer (nullable = true)\n",
      " |-- nome: string (nullable = true)\n",
      " |-- idade: integer (nullable = true)\n",
      " |-- area: string (nullable = true)\n",
      " |-- salario: double (nullable = true)\n",
      " |-- data_de_contratacao: date (nullable = true)\n",
      " |-- status_de_emprego: string (nullable = true)\n",
      "\n"
     ]
    }
   ],
   "source": [
    "dir_dataset = '/home/jovyan/code/dataset/'\n",
    "dataset = 'base_suja.csv'\n",
    "\n",
    "df = spark.read.csv(dir_dataset + dataset, header=True, inferSchema=True)\n",
    "df = clean_column_names(df)\n",
    "df = df.withColumn('salario', regexp_replace(col('salario'),\"R\\\\$\",\"\" ))\\\n",
    "    .withColumn('salario',col('salario').cast(DoubleType()))\n",
    "df = df.withColumn('data_de_contratacao',\n",
    "                                coalesce(to_date(col('data_de_contratacao'), 'dd/MM/yyyy'),\n",
    "                                         to_date(col('data_de_contratacao'), 'dd-MM-yyyy'),\n",
    "                                         to_date(col('data_de_contratacao'), 'yyyy/MM/dd'),\n",
    "                                         to_date(col('data_de_contratacao'), 'dd.MM.yyyy')))\n",
    "\n",
    "df.printSchema()\n",
    "\n"
   ]
  },
  {
   "cell_type": "markdown",
   "metadata": {
    "id": "TEeT8a-qotDi"
   },
   "source": [
    "## 1. Análise de Consistência de Dados: Identificar e corrigir inconsistências nos valores de \"Área\" e \"Status de Emprego\" (e.g., diferenças de maiúsculas/minúsculas).\n"
   ]
  },
  {
   "cell_type": "code",
   "execution_count": 5,
   "metadata": {},
   "outputs": [
    {
     "name": "stdout",
     "output_type": "stream",
     "text": [
      "+---+--------------+-----+----------+-------+-------------------+-----------------+\n",
      "| id|          nome|idade|      area|salario|data_de_contratacao|status_de_emprego|\n",
      "+---+--------------+-----+----------+-------+-------------------+-----------------+\n",
      "|  1|    João Silva|   29|Financeiro| 5500.0|         2020-02-01|            Ativo|\n",
      "|  2|   Maria Souza|   30|        Rh| 4800.0|         2019-03-15|            Ativo|\n",
      "|  3|Carlos Pereira| NULL| Finaceiro| 6200.0|         2020-04-01|            Ativo|\n",
      "|  4|     Ana Clara|   27| Marketing| 4800.0|         2018-06-12|            Ativo|\n",
      "|  5|  Fabio Santos|   31|      NULL| 5500.0|         2017-11-20|            Ativo|\n",
      "|  6|   Sandra Lima|   28|        Rh|   NULL|         2020-05-05|            Ativo|\n",
      "|  7|    José Alves|   34| Marketing| 5400.0|         2018-02-01|          Inativo|\n",
      "|  8| Luciana Costa|   30|Financeiro| 5200.0|         2019-01-01|            Ativo|\n",
      "|  9| Paulo Ricardo| NULL| Finaceiro| 6100.0|         2020-12-12|          Inativo|\n",
      "| 10| Fernanda Dias|   29|        Rh| 4800.0|               NULL|            Ativo|\n",
      "|  1|    João Silva|   29|Financeiro| 5500.0|         2020-02-01|            Ativo|\n",
      "+---+--------------+-----+----------+-------+-------------------+-----------------+\n",
      "\n"
     ]
    }
   ],
   "source": [
    "df = translate_first_letter_uppercase_df(df,subset=['area','status_de_emprego'])\n",
    "df.show()"
   ]
  },
  {
   "cell_type": "markdown",
   "metadata": {},
   "source": [
    "## 2. Limpeza de Dados Faltantes: Detectar e tratar os valores ausentes na coluna \"Idade\" e \"Área\".\n"
   ]
  },
  {
   "cell_type": "code",
   "execution_count": 6,
   "metadata": {},
   "outputs": [
    {
     "name": "stdout",
     "output_type": "stream",
     "text": [
      "+---+-------------+-----+----------+-------+-------------------+-----------------+\n",
      "| id|         nome|idade|      area|salario|data_de_contratacao|status_de_emprego|\n",
      "+---+-------------+-----+----------+-------+-------------------+-----------------+\n",
      "|  1|   João Silva|   29|Financeiro| 5500.0|         2020-02-01|            Ativo|\n",
      "|  2|  Maria Souza|   30|        Rh| 4800.0|         2019-03-15|            Ativo|\n",
      "|  4|    Ana Clara|   27| Marketing| 4800.0|         2018-06-12|            Ativo|\n",
      "|  7|   José Alves|   34| Marketing| 5400.0|         2018-02-01|          Inativo|\n",
      "|  8|Luciana Costa|   30|Financeiro| 5200.0|         2019-01-01|            Ativo|\n",
      "|  1|   João Silva|   29|Financeiro| 5500.0|         2020-02-01|            Ativo|\n",
      "+---+-------------+-----+----------+-------+-------------------+-----------------+\n",
      "\n"
     ]
    }
   ],
   "source": [
    "df.na.drop(how='any', subset=[]) ## list com nomes das colunas\n",
    "df = df.na.drop(how='any') # any | all | thresh \n",
    "df.show()"
   ]
  },
  {
   "cell_type": "markdown",
   "metadata": {},
   "source": [
    "## 3. Distribuição de Idade: Analisar a distribuição da idade dos funcionários por departamento.3. Distribuição de Idade: Analisar a distribuição da idade dos funcionários por departamento.\n",
    "\n"
   ]
  },
  {
   "cell_type": "code",
   "execution_count": 7,
   "metadata": {},
   "outputs": [
    {
     "name": "stdout",
     "output_type": "stream",
     "text": [
      "+-------+-----+\n",
      "|summary|idade|\n",
      "+-------+-----+\n",
      "|  count|  6.0|\n",
      "|   mean|29.83|\n",
      "| stddev| 2.32|\n",
      "|    min| 27.0|\n",
      "|    25%| 29.0|\n",
      "|    50%| 29.0|\n",
      "|    75%| 30.0|\n",
      "|    max| 34.0|\n",
      "+-------+-----+\n",
      "\n",
      "Analise de distribuição do Rh\n",
      "+-------+-----+\n",
      "|summary|idade|\n",
      "+-------+-----+\n",
      "|  count|  1.0|\n",
      "|   mean| 30.0|\n",
      "| stddev| NULL|\n",
      "|    min| 30.0|\n",
      "|    25%| 30.0|\n",
      "|    50%| 30.0|\n",
      "|    75%| 30.0|\n",
      "|    max| 30.0|\n",
      "+-------+-----+\n",
      "\n",
      "Analise de distribuição do Financeiro\n",
      "+-------+-----+\n",
      "|summary|idade|\n",
      "+-------+-----+\n",
      "|  count|  3.0|\n",
      "|   mean| 29.0|\n",
      "| stddev|  1.0|\n",
      "|    min| 29.0|\n",
      "|    25%| 29.0|\n",
      "|    50%| 29.0|\n",
      "|    75%| 30.0|\n",
      "|    max| 30.0|\n",
      "+-------+-----+\n",
      "\n",
      "Analise de distribuição do Marketing\n",
      "+-------+-----+\n",
      "|summary|idade|\n",
      "+-------+-----+\n",
      "|  count|  2.0|\n",
      "|   mean| 31.0|\n",
      "| stddev|  5.0|\n",
      "|    min| 27.0|\n",
      "|    25%| 27.0|\n",
      "|    50%| 27.0|\n",
      "|    75%| 34.0|\n",
      "|    max| 34.0|\n",
      "+-------+-----+\n",
      "\n"
     ]
    }
   ],
   "source": [
    "\n",
    "df_age_departament = df.select('idade','area')\n",
    "departaments = df_age_departament.select('area').distinct().collect()\n",
    "departaments = [row['area'] for row in departaments]\n",
    "\n",
    "df_age_departament.select('idade').summary() \\\n",
    "    .withColumn('idade', round(col('idade'), 2)) \\\n",
    "        .show() # alternativo para describe()\n",
    "\n",
    "for departament in departaments:\n",
    "    print(f'Analise de distribuição do {departament}')\n",
    "    df_age_departament.filter(df_age_departament.area == departament)\\\n",
    "        .select('idade')\\\n",
    "        .summary()\\\n",
    "        .withColumn('idade', round(col('idade')))\\\n",
    "        .show()\n",
    "\n",
    "    "
   ]
  },
  {
   "cell_type": "markdown",
   "metadata": {},
   "source": [
    "## 4. Salário por Departamento: Calcular a média, mediana e desvio padrão dos salários por departamento.\n"
   ]
  },
  {
   "cell_type": "code",
   "execution_count": 8,
   "metadata": {},
   "outputs": [
    {
     "name": "stdout",
     "output_type": "stream",
     "text": [
      "+-------+----------+\n",
      "|salario|      area|\n",
      "+-------+----------+\n",
      "| 5500.0|Financeiro|\n",
      "| 4800.0|        Rh|\n",
      "| 4800.0| Marketing|\n",
      "| 5400.0| Marketing|\n",
      "| 5200.0|Financeiro|\n",
      "| 5500.0|Financeiro|\n",
      "+-------+----------+\n",
      "\n",
      "root\n",
      " |-- salario: double (nullable = true)\n",
      " |-- area: string (nullable = true)\n",
      "\n",
      "Estasticas dos departamentos: Rh\n",
      "+----+-------------+--------------+--------------+---------------------+\n",
      "|area|media_salario|salario_minimo|salario_maximo|desvio_padrao_salario|\n",
      "+----+-------------+--------------+--------------+---------------------+\n",
      "|  Rh|       4800.0|        4800.0|        4800.0|                 NULL|\n",
      "+----+-------------+--------------+--------------+---------------------+\n",
      "\n",
      "Estasticas dos departamentos: Financeiro\n",
      "+----------+-------------+--------------+--------------+---------------------+\n",
      "|      area|media_salario|salario_minimo|salario_maximo|desvio_padrao_salario|\n",
      "+----------+-------------+--------------+--------------+---------------------+\n",
      "|Financeiro|       5400.0|        5200.0|        5500.0|                173.0|\n",
      "+----------+-------------+--------------+--------------+---------------------+\n",
      "\n",
      "Estasticas dos departamentos: Marketing\n",
      "+---------+-------------+--------------+--------------+---------------------+\n",
      "|     area|media_salario|salario_minimo|salario_maximo|desvio_padrao_salario|\n",
      "+---------+-------------+--------------+--------------+---------------------+\n",
      "|Marketing|       5100.0|        4800.0|        5400.0|                424.0|\n",
      "+---------+-------------+--------------+--------------+---------------------+\n",
      "\n"
     ]
    }
   ],
   "source": [
    "\n",
    "\n",
    "df_salary_departament = df.select('salario', 'area')\n",
    "df_salary_departament.show()\n",
    "df_salary_departament.printSchema()\n",
    "\n",
    "for departament in departaments:\n",
    "    print(f'Estasticas dos departamentos: {departament}')    \n",
    "    df_stats = df_salary_departament \\\n",
    "        .groupBy('area') \\\n",
    "        .agg(\n",
    "            round(avg('salario')).alias('media_salario'),\n",
    "            min('salario').alias('salario_minimo'),\n",
    "            max('salario').alias('salario_maximo'),\n",
    "            round(stddev('salario')).alias('desvio_padrao_salario')\n",
    "        ).filter(col('area') == departament) \\\n",
    "        .show()\n",
    "\n",
    "\n"
   ]
  },
  {
   "cell_type": "markdown",
   "metadata": {},
   "source": [
    "## 5. Análise de Outliers: Identificar salários que estão fora do padrão (outliers) para cada departamento."
   ]
  },
  {
   "cell_type": "code",
   "execution_count": 9,
   "metadata": {},
   "outputs": [
    {
     "data": {
      "text/plain": [
       "False"
      ]
     },
     "execution_count": 9,
     "metadata": {},
     "output_type": "execute_result"
    }
   ],
   "source": [
    "df2 = df.select('*')\n",
    "# df2 = df.alias('df2')\n",
    "id(df2) == id(df)  # False"
   ]
  },
  {
   "cell_type": "code",
   "execution_count": 10,
   "metadata": {},
   "outputs": [
    {
     "name": "stdout",
     "output_type": "stream",
     "text": [
      "limite inferior 3750.0\n",
      "limite superior 6550.0\n",
      "+-------+----------+\n",
      "|salario|      area|\n",
      "+-------+----------+\n",
      "| 5500.0|Financeiro|\n",
      "| 4800.0|        Rh|\n",
      "| 4800.0| Marketing|\n",
      "| 5400.0| Marketing|\n",
      "| 5200.0|Financeiro|\n",
      "| 5500.0|Financeiro|\n",
      "+-------+----------+\n",
      "\n",
      "+-------+----------+-------------+\n",
      "|salario|      area|outlier_value|\n",
      "+-------+----------+-------------+\n",
      "| 5500.0|Financeiro|Não é outlier|\n",
      "| 4800.0|        Rh|Não é outlier|\n",
      "| 4800.0| Marketing|Não é outlier|\n",
      "| 5400.0| Marketing|Não é outlier|\n",
      "| 5200.0|Financeiro|Não é outlier|\n",
      "| 5500.0|Financeiro|Não é outlier|\n",
      "+-------+----------+-------------+\n",
      "\n"
     ]
    }
   ],
   "source": [
    "\n",
    "df_outliers = df.select('*')\n",
    "\n",
    "\n",
    "quantiles = df_salary_departament.stat.approxQuantile('salario',[0.25, 0.75], 0.01)\n",
    "q1 = quantiles[0]\n",
    "q3 = quantiles[1]\n",
    "IQR = q3 - q1\n",
    "\n",
    "lower_bound = q1 - 1.5 * IQR\n",
    "print(f'limite inferior {lower_bound}')\n",
    "upper_bound = q3 + 1.5 * IQR\n",
    "print(f'limite superior {upper_bound}')\n",
    "\n",
    "\n",
    "df_salary_departament.show()\n",
    "\n",
    "df_salary_departament_outliers = df_salary_departament.filter(\n",
    "    (col('salario') < lower_bound) | (col('salario') > upper_bound)\n",
    ")\n",
    "\n",
    "df_salary_outliers = df_salary_departament.withColumn(\n",
    "    'outlier_value', \n",
    "    when((col('salario') < lower_bound) | (col('salario') > upper_bound), col('salario')).otherwise('Não é outlier')\n",
    ")\n",
    "\n",
    "df_salary_outliers.show()\n",
    "# PERGUNTAR O PROFESSOR O MOTIVO DELE NÃO CRIAR NA ORDEM\n",
    "# new_data = [\n",
    "#     {'id': '12', 'nome': 'Dom', 'area': 'TI','salario':'7500', 'data_de_contratacao':'01/02/2024', 'status_de_emprego': 'ativo'},\n",
    "#     {\"id\": 9, \"nome\": \"Carlos Pereira\", \"idade\": 40, \"area\": \"TI\", \"salario\": 6200.0, \"data_de_contratacao\": \"15/07/2021\", \"status_de_emprego\": \"Ativo\"},\n",
    "#     {\"id\": 10, \"nome\": \"Fernanda Lima\", \"idade\": 28, \"area\": \"TI\", \"salario\": 5100.0, \"data_de_contratacao\": \"23/04/2020\", \"status_de_emprego\": \"Ativo\"},\n",
    "#     {\"id\": 11, \"nome\": \"Roberto Castro\", \"idade\": 45, \"area\": \"RH\", \"salario\": 7000.0, \"data_de_contratacao\": \"10/10/2017\", \"status_de_emprego\": \"Ativo\"},\n",
    "#     {\"id\": 12, \"nome\": \"Juliana Azevedo\", \"idade\": 38, \"area\": \"Financeiro\", \"salario\": 5300.0, \"data_de_contratacao\": \"01/03/2019\", \"status_de_emprego\": \"Inativo\"},\n",
    "#     {\"id\": 13, \"nome\": \"Mariana Oliveira\", \"idade\": 26, \"area\": \"Marketing\", \"salario\": 4800.0, \"data_de_contratacao\": \"05/06/2022\", \"status_de_emprego\": \"Ativo\"}\n",
    "# ]\n",
    "\n",
    "# data = [(20,\"Douglas\", 45, 'Financeiro', 7000,'28/08/2024', \"Ativo\"),\n",
    "#         (21,\"Daniela\", 7, 'Financeiro', 5500,'28/08/2024', \"Ativo\"),\n",
    "#         (22,\"Pedro\", 65, 'Financeiro', 870,'28/08/2024', \"Ativo\"),\n",
    "#         (23,\"Maria\", 64, 'Financeiro', 6400,'28/08/2024', \"Ativo\"),\n",
    "#         (24,\"Eduardo\", 42, 'Financeiro', 9600,'28/08/2024', \"Ativo\"),\n",
    "#         (25,\"Ester\", 37, 'Financeiro', 68,'28/08/2024', \"Ativo\")]\n",
    "# columns = [\"id\", \"nome\", \"idade\", \"area\", \"salario\",'data_de_contratacao','status_de_emprego']\n",
    "# dfps = spark.createDataFrame(data, columns)\n",
    "\n",
    "# dfps.filter(\n",
    "#     (col('salario') < lower_bound) | (col('salario') > upper_bound)\n",
    "# ).show()\n",
    "\n",
    "# dfps = dfps.withColumn(\n",
    "#     'outlier_value', \n",
    "#     when((col('salario') < lower_bound) | (col('salario') > upper_bound), col('salario')).otherwise(None)\n",
    "    \n",
    "# )\n",
    "# dfps.show()\n",
    "\n",
    "# df_salary_departament = df_salary_departament.union(df_new_data)\n",
    "# df_salary_departament.show()\n",
    "# df_salary_departament_outliers.show()\n",
    "# Metodo de quartis\n",
    "# wages = df_salary_departament_outliers.select('salario').collect()\n",
    "# wages_sorted = sorted([row['salario'] for row in wages])\n",
    "# q1, q3\n",
    "# IQR\n",
    "# limites inferior e limites superior\n",
    "\n",
    "\n",
    "\n",
    "\n",
    "\n",
    "\n",
    "\n",
    "\n",
    "\n"
   ]
  },
  {
   "cell_type": "markdown",
   "metadata": {},
   "source": [
    "## 6. Correlação Idade-Salário: Analisar a correlação entre idade e salário dos funcionários.\n"
   ]
  },
  {
   "cell_type": "code",
   "execution_count": 11,
   "metadata": {},
   "outputs": [
    {
     "name": "stdout",
     "output_type": "stream",
     "text": [
      "Correlação entre idade x salario: 0.36778485624491336\n"
     ]
    },
    {
     "data": {
      "text/plain": [
       "'\\n- O valor da correlação varia entre -1 e 1\\n- Quanto mais pŕoximo de 1 mais forte se correlacionam\\n- valor 0 a correlação nula \\n- correlação negativas mostra uma grandeza inversamente desproporcional conforme uma aumente a outra diminui\\n'"
      ]
     },
     "execution_count": 11,
     "metadata": {},
     "output_type": "execute_result"
    }
   ],
   "source": [
    "\n",
    "df_age_salary = df.select('salario', 'idade')\n",
    "correlation = df_age_salary.stat.corr('idade','salario')\n",
    "print(f'Correlação entre idade x salario: {correlation}')\n",
    "\n",
    "\"\"\"\n",
    "- O valor da correlação varia entre -1 e 1\n",
    "- Quanto mais pŕoximo de 1 mais forte se correlacionam\n",
    "- valor 0 a correlação nula \n",
    "- correlação negativas mostra uma grandeza inversamente desproporcional conforme uma aumente a outra diminui\n",
    "\"\"\""
   ]
  },
  {
   "cell_type": "markdown",
   "metadata": {},
   "source": [
    "## 7. Tempo de Casa: Calcular o tempo de contratação dos funcionários e categorizá-los em grupos (e.g., 1-3 anos, 4-6 anos, etc.).\n"
   ]
  },
  {
   "cell_type": "code",
   "execution_count": 12,
   "metadata": {},
   "outputs": [
    {
     "name": "stdout",
     "output_type": "stream",
     "text": [
      "+-------------------+\n",
      "|data_de_contratacao|\n",
      "+-------------------+\n",
      "|         2020-02-01|\n",
      "|         2019-03-15|\n",
      "|         2018-06-12|\n",
      "|         2018-02-01|\n",
      "|         2019-01-01|\n",
      "|         2020-02-01|\n",
      "+-------------------+\n",
      "\n"
     ]
    }
   ],
   "source": [
    "df.select('data_de_contratacao').show()"
   ]
  },
  {
   "cell_type": "code",
   "execution_count": 13,
   "metadata": {},
   "outputs": [
    {
     "name": "stdout",
     "output_type": "stream",
     "text": [
      "+-------+------------------+\n",
      "|summary|       hiring_time|\n",
      "+-------+------------------+\n",
      "|  count|                 6|\n",
      "|   mean|               5.0|\n",
      "| stddev|0.8944271909999159|\n",
      "|    min|                 4|\n",
      "|    25%|                 4|\n",
      "|    50%|                 5|\n",
      "|    75%|                 6|\n",
      "|    max|                 6|\n",
      "+-------+------------------+\n",
      "\n",
      "+-------------------+-----------+\n",
      "|data_de_contratacao|hiring_time|\n",
      "+-------------------+-----------+\n",
      "|         2020-02-01|          4|\n",
      "|         2019-03-15|          5|\n",
      "|         2018-06-12|          6|\n",
      "|         2018-02-01|          6|\n",
      "|         2019-01-01|          5|\n",
      "|         2020-02-01|          4|\n",
      "+-------------------+-----------+\n",
      "\n",
      "+-------------------+-----------+--------------------+\n",
      "|data_de_contratacao|hiring_time|hiring_time_category|\n",
      "+-------------------+-----------+--------------------+\n",
      "|         2020-02-01|          4|                 3-4|\n",
      "|         2019-03-15|          5|                 5-6|\n",
      "|         2018-06-12|          6|                 5-6|\n",
      "|         2018-02-01|          6|                 5-6|\n",
      "|         2019-01-01|          5|                 5-6|\n",
      "|         2020-02-01|          4|                 3-4|\n",
      "+-------------------+-----------+--------------------+\n",
      "\n",
      "+--------------------+------------------------------+\n",
      "|hiring_time_category|Numero de qnt de vezes repetiu|\n",
      "+--------------------+------------------------------+\n",
      "|                 3-4|                             2|\n",
      "|                 5-6|                             4|\n",
      "+--------------------+------------------------------+\n",
      "\n"
     ]
    }
   ],
   "source": [
    "# coalesce?\n",
    "# to_date?\n",
    "df_hiring_time = df.select('data_de_contratacao')\n",
    "\n",
    "df_hiring_time = df_hiring_time.withColumn(\"hiring_time\"\\\n",
    "                                           ,year(current_date()) - year(col(\"data_de_contratacao\")))\n",
    "\n",
    "df_hiring_time.select('hiring_time').summary().show()\n",
    "df_hiring_time.show()\n",
    "\n",
    "bins = [1,3,5,6]\n",
    "labels = ['1-2','3-4','5-6']\n",
    "\n",
    "\n",
    "df_hiring_time_category = df_hiring_time.withColumn('hiring_time_category', \n",
    "                                         when(col('hiring_time') < 3, '1-2')\n",
    "                                         .when(\n",
    "                                             ((col('hiring_time') >= 3) & (col('hiring_time') <= 4) ) , '3-4'\n",
    "                                            ) \n",
    "                                         .when((col('hiring_time') >= 5) & (col('hiring_time') <= 6) , '5-6')\n",
    "                                         .otherwise('7+'))\n",
    "\n",
    "df_hiring_time_category.show()\n",
    "df_hiring_time_category.groupBy('hiring_time_category')\\\n",
    "                        .agg(count('*').alias('Numero de qnt de vezes repetiu')).show()\n",
    "\n",
    "#\n",
    "                                           "
   ]
  },
  {
   "cell_type": "markdown",
   "metadata": {},
   "source": [
    "## 8. Análise de Rotatividade: Identificar padrões entre os funcionários que estão ativos versus os que não estão.\n"
   ]
  },
  {
   "cell_type": "code",
   "execution_count": 14,
   "metadata": {},
   "outputs": [
    {
     "name": "stdout",
     "output_type": "stream",
     "text": [
      "+---+-------------+-----+----------+-------+-------------------+-----------------+\n",
      "| id|         nome|idade|      area|salario|data_de_contratacao|status_de_emprego|\n",
      "+---+-------------+-----+----------+-------+-------------------+-----------------+\n",
      "|  1|   João Silva|   29|Financeiro| 5500.0|         2020-02-01|            Ativo|\n",
      "|  2|  Maria Souza|   30|        Rh| 4800.0|         2019-03-15|            Ativo|\n",
      "|  4|    Ana Clara|   27| Marketing| 4800.0|         2018-06-12|            Ativo|\n",
      "|  8|Luciana Costa|   30|Financeiro| 5200.0|         2019-01-01|            Ativo|\n",
      "|  1|   João Silva|   29|Financeiro| 5500.0|         2020-02-01|            Ativo|\n",
      "+---+-------------+-----+----------+-------+-------------------+-----------------+\n",
      "\n",
      "+---+----------+-----+---------+-------+-------------------+-----------------+\n",
      "| id|      nome|idade|     area|salario|data_de_contratacao|status_de_emprego|\n",
      "+---+----------+-----+---------+-------+-------------------+-----------------+\n",
      "|  7|José Alves|   34|Marketing| 5400.0|         2018-02-01|          Inativo|\n",
      "+---+----------+-----+---------+-------+-------------------+-----------------+\n",
      "\n",
      "+------------------+--------------------+--------------------+----------------------+\n",
      "|media_idade_ativos|media_salario_ativos|media_idade_inativos|media_salario_inativos|\n",
      "+------------------+--------------------+--------------------+----------------------+\n",
      "|              29.0|              5160.0|                34.0|                5400.0|\n",
      "+------------------+--------------------+--------------------+----------------------+\n",
      "\n"
     ]
    }
   ],
   "source": [
    "from pyspark.sql.functions import col, count, mean, stddev, expr\n",
    "df_turnover = df.select('*')\n",
    "# Unico dado de usuario inativo\n",
    "# Masculino, idade > 30, salario > 5000, ano contratracao = 2018\n",
    "\n",
    "df_active = df.filter(col('status_de_emprego') == 'Ativo')\n",
    "df_active.show()\n",
    "df_inactive = df.filter(col('status_de_emprego') == 'Inativo')\n",
    "df_inactive.show()\n",
    "\n",
    "\n",
    "# estastisticas descritivas\n",
    "df_compare = df_active.groupBy().agg(\n",
    "    mean('idade').alias('media_idade_ativos'),\n",
    "    mean('salario').alias('media_salario_ativos')).crossJoin(\n",
    "        df_inactive.groupBy().agg(\n",
    "                mean('idade').alias('media_idade_inativos'),\n",
    "                mean('salario').alias('media_salario_inativos')))\n",
    "\n",
    "df_compare.show()\n"
   ]
  },
  {
   "cell_type": "markdown",
   "metadata": {},
   "source": [
    "## 9. Análise de Desempenho por Data de Contratação: Verificar se existe uma correlação entre o ano de contratação e o nível de salário."
   ]
  },
  {
   "cell_type": "code",
   "execution_count": 15,
   "metadata": {},
   "outputs": [
    {
     "name": "stdout",
     "output_type": "stream",
     "text": [
      "+-------+---------------+\n",
      "|salario|ano_contratacao|\n",
      "+-------+---------------+\n",
      "| 5500.0|           2020|\n",
      "| 4800.0|           2019|\n",
      "| 4800.0|           2018|\n",
      "| 5400.0|           2018|\n",
      "| 5200.0|           2019|\n",
      "| 5500.0|           2020|\n",
      "+-------+---------------+\n",
      "\n",
      "Correlação entre ano de contratacao x salario: 0.5443310539518225\n",
      "+-------+---------------+\n",
      "|salario|ano_contratacao|\n",
      "+-------+---------------+\n",
      "|      1|           2019|\n",
      "|      1|           2018|\n",
      "|      3|           2019|\n",
      "|      4|           2018|\n",
      "|      5|           2020|\n",
      "|      5|           2020|\n",
      "+-------+---------------+\n",
      "\n",
      "Correlação entre ano de contratacao x salario: 0.5443310539518225\n"
     ]
    }
   ],
   "source": [
    "from pyspark.sql.window import Window\n",
    "from pyspark.sql.functions import rank, corr\n",
    "\n",
    "df_age_salary = df.select('salario', year('data_de_contratacao').alias('ano_contratacao'))\n",
    "df_age_salary.show()\n",
    "correlation = df_age_salary.stat.corr('ano_contratacao', 'salario')\n",
    "print(f'Correlação entre ano de contratacao x salario: {correlation}')\n",
    "\n",
    "\n",
    "#Correlação Spearman\n",
    "\n",
    "windowSpec = Window.orderBy(\"ano_contratacao\")\n",
    "df2 = df_age_salary.withColumn(\"ano_contratacao\", rank().over(windowSpec))\n",
    "\n",
    "windowSpec = Window.orderBy(\"salario\")\n",
    "df2 = df_age_salary.withColumn(\"salario\", rank().over(windowSpec))\n",
    "df2.show()\n",
    "\n",
    "correlacao_spearman = df2.stat.corr(\"ano_contratacao\", \"salario\")\n",
    "print(f'Correlação entre ano de contratacao x salario: {correlation}')\n"
   ]
  },
  {
   "cell_type": "markdown",
   "metadata": {},
   "source": [
    "## 10. Histograma de Salário: Criar um histograma de salários para visualizar a distribuição geral.\n"
   ]
  },
  {
   "cell_type": "code",
   "execution_count": 29,
   "metadata": {},
   "outputs": [
    {
     "data": {
      "text/plain": [
       "\u001b[0;31mSignature:\u001b[0m \u001b[0mhistogram_numeric\u001b[0m\u001b[0;34m(\u001b[0m\u001b[0mcol\u001b[0m\u001b[0;34m:\u001b[0m \u001b[0;34m'ColumnOrName'\u001b[0m\u001b[0;34m,\u001b[0m \u001b[0mnBins\u001b[0m\u001b[0;34m:\u001b[0m \u001b[0;34m'ColumnOrName'\u001b[0m\u001b[0;34m)\u001b[0m \u001b[0;34m->\u001b[0m \u001b[0mpyspark\u001b[0m\u001b[0;34m.\u001b[0m\u001b[0msql\u001b[0m\u001b[0;34m.\u001b[0m\u001b[0mcolumn\u001b[0m\u001b[0;34m.\u001b[0m\u001b[0mColumn\u001b[0m\u001b[0;34m\u001b[0m\u001b[0;34m\u001b[0m\u001b[0m\n",
       "\u001b[0;31mDocstring:\u001b[0m\n",
       "Computes a histogram on numeric 'col' using nb bins.\n",
       "The return value is an array of (x,y) pairs representing the centers of the\n",
       "histogram's bins. As the value of 'nb' is increased, the histogram approximation\n",
       "gets finer-grained, but may yield artifacts around outliers. In practice, 20-40\n",
       "histogram bins appear to work well, with more bins being required for skewed or\n",
       "smaller datasets. Note that this function creates a histogram with non-uniform\n",
       "bin widths. It offers no guarantees in terms of the mean-squared-error of the\n",
       "histogram, but in practice is comparable to the histograms produced by the R/S-Plus\n",
       "statistical computing packages. Note: the output type of the 'x' field in the return value is\n",
       "propagated from the input value consumed in the aggregate function.\n",
       "\n",
       ".. versionadded:: 3.5.0\n",
       "\n",
       "Parameters\n",
       "----------\n",
       "col : :class:`~pyspark.sql.Column` or str\n",
       "    target column to work on.\n",
       "nBins : :class:`~pyspark.sql.Column` or str\n",
       "    number of Histogram columns.\n",
       "\n",
       "Returns\n",
       "-------\n",
       ":class:`~pyspark.sql.Column`\n",
       "    a histogram on numeric 'col' using nb bins.\n",
       "\n",
       "Examples\n",
       "--------\n",
       ">>> df = spark.createDataFrame([(\"a\", 1),\n",
       "...                             (\"a\", 2),\n",
       "...                             (\"a\", 3),\n",
       "...                             (\"b\", 8),\n",
       "...                             (\"b\", 2)], [\"c1\", \"c2\"])\n",
       ">>> df.select(histogram_numeric('c2', lit(5))).show()\n",
       "+------------------------+\n",
       "|histogram_numeric(c2, 5)|\n",
       "+------------------------+\n",
       "|    [{1, 1.0}, {2, 1....|\n",
       "+------------------------+\n",
       "\u001b[0;31mFile:\u001b[0m      /usr/local/spark/python/pyspark/sql/functions.py\n",
       "\u001b[0;31mType:\u001b[0m      function"
      ]
     },
     "metadata": {},
     "output_type": "display_data"
    }
   ],
   "source": [
    "import matplotlib.pyplot as plt\n",
    "import seaborn as sns\n",
    "from pyspark.sql.functions import lit, histogram_numeric\n",
    "histogram_numeric?\n",
    "# df.show()# Creates a new column filled with the value 10"
   ]
  },
  {
   "cell_type": "code",
   "execution_count": 30,
   "metadata": {
    "scrolled": true
   },
   "outputs": [
    {
     "data": {
      "image/png": "[encoded data removed]",
      "text/plain": [
       "<Figure size 640x480 with 1 Axes>"
      ]
     },
     "metadata": {},
     "output_type": "display_data"
    },
    {
     "data": {
      "image/png": "[encoded data removed]",
      "text/plain": [
       "<Figure size 640x480 with 1 Axes>"
      ]
     },
     "metadata": {},
     "output_type": "display_data"
    }
   ],
   "source": [
    "import matplotlib.pyplot as plt\n",
    "import seaborn as sns\n",
    "#matplotlib\n",
    "df_salary = df.select('salario').toPandas()\n",
    "ax1 = df_salary['salario'].plot(kind='hist', bins=6, facecolor='lightblue')\n",
    "ax1.set_title('Distribuição de salario')\n",
    "ax1.set_xlabel('Salarios($)')\n",
    "ax1.set_ylabel('Quantidades')\n",
    "plt.suptitle('')\n",
    "plt.show()\n",
    "\n",
    "\n",
    "\n",
    "#seaborn\n",
    "ax2 = sns.histplot(df_salary['salario'], bins=6, kde=True, color='purple')\n",
    "ax2.set_title('Distribuição de salario')\n",
    "ax2.set_xlabel('Salarios($)')\n",
    "ax2.set_ylabel('Quantidades')\n",
    "plt.show()"
   ]
  },
  {
   "cell_type": "markdown",
   "metadata": {},
   "source": [
    "## 11. Análise de Frequência: Quantificar a frequência dos nomes dos funcionários para identificar nomes comuns.\n"
   ]
  },
  {
   "cell_type": "code",
   "execution_count": 18,
   "metadata": {},
   "outputs": [
    {
     "name": "stdout",
     "output_type": "stream",
     "text": [
      "+-------------+\n",
      "|         nome|\n",
      "+-------------+\n",
      "|   João Silva|\n",
      "|  Maria Souza|\n",
      "|    Ana Clara|\n",
      "|   José Alves|\n",
      "|Luciana Costa|\n",
      "|   João Silva|\n",
      "+-------------+\n",
      "\n",
      "o nome João se repetiu 2 e teve mais repetição \n"
     ]
    }
   ],
   "source": [
    "from pyspark.sql.functions import split\n",
    "from pyspark.sql.functions import desc\n",
    "\n",
    "df_names = df.select('nome')\n",
    "df_names.show()\n",
    "\n",
    "df_names  = df_names.withColumn('names_split', split(col('nome'),' '))\\\n",
    "                .withColumn('first_name', col('names_split')[0])\\\n",
    "                .withColumn('last_name', col('names_split')[1])\\\n",
    "                .drop('names_split')\n",
    "\n",
    "name = df_names.groupBy('first_name').count()\\\n",
    "        .orderBy(desc('count')).first()\n",
    "\n",
    "print(f'o nome {name[0]} se repetiu {name[1]} e teve mais repetição ')"
   ]
  },
  {
   "cell_type": "markdown",
   "metadata": {},
   "source": [
    "## 12. Agrupamento de Departamentos: Analisar o impacto do departamento na variação salarial e na distribuição de idade."
   ]
  },
  {
   "cell_type": "code",
   "execution_count": 39,
   "metadata": {},
   "outputs": [
    {
     "name": "stdout",
     "output_type": "stream",
     "text": [
      "+----------+--------------+--------------+-------------+-------------------------------------------------+\n",
      "|      area|Salario_minimo|Salario_Maximo|Media_salario|round(stddev(salario) AS desvio_padra_salario, 0)|\n",
      "+----------+--------------+--------------+-------------+-------------------------------------------------+\n",
      "|        Rh|        4800.0|        4800.0|       4800.0|                                             NULL|\n",
      "|Financeiro|        5200.0|        5500.0|       5400.0|                                            173.0|\n",
      "| Marketing|        4800.0|        5400.0|       5100.0|                                            424.0|\n",
      "+----------+--------------+--------------+-------------+-------------------------------------------------+\n",
      "\n",
      "+----------+--------------+--------------+------------------+-----------------------------------------------+\n",
      "|      area|Salario_minimo|Salario_Maximo|     Media_salario|round(stddev(idade) AS desvio_padra_salario, 0)|\n",
      "+----------+--------------+--------------+------------------+-----------------------------------------------+\n",
      "|        Rh|            30|            30|              30.0|                                           NULL|\n",
      "|Financeiro|            29|            30|29.333333333333332|                                            1.0|\n",
      "| Marketing|            27|            34|              30.5|                                            5.0|\n",
      "+----------+--------------+--------------+------------------+-----------------------------------------------+\n",
      "\n"
     ]
    }
   ],
   "source": [
    "df_salary_stats = df.select('*')\n",
    "\n",
    "df_salary_stats_area = df.groupBy('area').agg(\n",
    "                        min('salario').alias('Salario_minimo'),\n",
    "                        max('salario').alias('Salario_Maximo'),\n",
    "                        avg('salario').alias('Media_salario'),\n",
    "                        round(stddev('salario').alias('desvio_padra_salario')))\n",
    "\n",
    "df_salary_stats_age = df.groupBy('area').agg(\n",
    "                        min('idade').alias('Salario_minimo'),\n",
    "                        max('idade').alias('Salario_Maximo'),\n",
    "                        avg('idade').alias('Media_salario'),\n",
    "                        round(stddev('idade').alias('desvio_padra_salario')))\n",
    "df_salary_stats_area.show()\n",
    "df_salary_stats_age.show()\n",
    "    "
   ]
  },
  {
   "cell_type": "markdown",
   "metadata": {},
   "source": [
    "## 13. Normalização de Dados: Normalizar o salário e idade para comparações entre diferentes departamentos."
   ]
  },
  {
   "cell_type": "code",
   "execution_count": 92,
   "metadata": {},
   "outputs": [
    {
     "name": "stdout",
     "output_type": "stream",
     "text": [
      "+---+-------------+-----+----------+-------+-------------------+-----------------+--------------+----------------+\n",
      "| id|         nome|idade|      area|salario|data_de_contratacao|status_de_emprego|salario_vector|salario_vector_n|\n",
      "+---+-------------+-----+----------+-------+-------------------+-----------------+--------------+----------------+\n",
      "|  1|   João Silva|   29|Financeiro| 5500.0|         2020-02-01|            Ativo|      [5500.0]|           [1.0]|\n",
      "|  2|  Maria Souza|   30|        Rh| 4800.0|         2019-03-15|            Ativo|      [4800.0]|           [1.0]|\n",
      "|  4|    Ana Clara|   27| Marketing| 4800.0|         2018-06-12|            Ativo|      [4800.0]|           [1.0]|\n",
      "|  7|   José Alves|   34| Marketing| 5400.0|         2018-02-01|          Inativo|      [5400.0]|           [1.0]|\n",
      "|  8|Luciana Costa|   30|Financeiro| 5200.0|         2019-01-01|            Ativo|      [5200.0]|           [1.0]|\n",
      "|  1|   João Silva|   29|Financeiro| 5500.0|         2020-02-01|            Ativo|      [5500.0]|           [1.0]|\n",
      "+---+-------------+-----+----------+-------+-------------------+-----------------+--------------+----------------+\n",
      "\n",
      "+---+-------------+-----+----------+-------+-------------------+-----------------+--------------+----------------------+\n",
      "| id|         nome|idade|      area|salario|data_de_contratacao|status_de_emprego|salario_vector|salario_vector_min_max|\n",
      "+---+-------------+-----+----------+-------+-------------------+-----------------+--------------+----------------------+\n",
      "|  1|   João Silva|   29|Financeiro| 5500.0|         2020-02-01|            Ativo|      [5500.0]|                 [1.0]|\n",
      "|  2|  Maria Souza|   30|        Rh| 4800.0|         2019-03-15|            Ativo|      [4800.0]|                 [0.0]|\n",
      "|  4|    Ana Clara|   27| Marketing| 4800.0|         2018-06-12|            Ativo|      [4800.0]|                 [0.0]|\n",
      "|  7|   José Alves|   34| Marketing| 5400.0|         2018-02-01|          Inativo|      [5400.0]|  [0.8571428571428571]|\n",
      "|  8|Luciana Costa|   30|Financeiro| 5200.0|         2019-01-01|            Ativo|      [5200.0]|  [0.5714285714285714]|\n",
      "|  1|   João Silva|   29|Financeiro| 5500.0|         2020-02-01|            Ativo|      [5500.0]|                 [1.0]|\n",
      "+---+-------------+-----+----------+-------+-------------------+-----------------+--------------+----------------------+\n",
      "\n",
      "+---+-------------+-----+----------+-------+-------------------+-----------------+--------------+----------------------+\n",
      "| id|         nome|idade|      area|salario|data_de_contratacao|status_de_emprego|salario_vector|salario_vector_min_max|\n",
      "+---+-------------+-----+----------+-------+-------------------+-----------------+--------------+----------------------+\n",
      "|  1|   João Silva|   29|Financeiro| 5500.0|         2020-02-01|            Ativo|      [5500.0]|                   1.0|\n",
      "|  2|  Maria Souza|   30|        Rh| 4800.0|         2019-03-15|            Ativo|      [4800.0]|                   0.0|\n",
      "|  4|    Ana Clara|   27| Marketing| 4800.0|         2018-06-12|            Ativo|      [4800.0]|                   0.0|\n",
      "|  7|   José Alves|   34| Marketing| 5400.0|         2018-02-01|          Inativo|      [5400.0]|    0.8571428571428571|\n",
      "|  8|Luciana Costa|   30|Financeiro| 5200.0|         2019-01-01|            Ativo|      [5200.0]|    0.5714285714285714|\n",
      "|  1|   João Silva|   29|Financeiro| 5500.0|         2020-02-01|            Ativo|      [5500.0]|                   1.0|\n",
      "+---+-------------+-----+----------+-------+-------------------+-----------------+--------------+----------------------+\n",
      "\n",
      "+----------+----------------------+\n",
      "|      area|salario_vector_min_max|\n",
      "+----------+----------------------+\n",
      "|Financeiro|                   1.0|\n",
      "|Financeiro|    0.5714285714285714|\n",
      "|Financeiro|                   1.0|\n",
      "| Marketing|                   0.0|\n",
      "| Marketing|    0.8571428571428571|\n",
      "|        Rh|                   0.0|\n",
      "+----------+----------------------+\n",
      "\n"
     ]
    }
   ],
   "source": [
    "'''\n",
    "- https://scikit-learn.org/stable/modules/generated/sklearn.preprocessing.Normalizer.html\n",
    "- https://spark.apache.org/docs/latest/api/python/reference/api/pyspark.ml.feature.Normalizer.html\n",
    "'''\n",
    "\n",
    "from pyspark.ml.feature import MinMaxScaler #\n",
    "# from sklearn.preprocessing import Normalizer #  Mil vezes trabalhar com sklearn\n",
    "from pyspark.ml.linalg import Vectors\n",
    "from pyspark.ml.feature import Normalizer\n",
    "from pyspark.ml.linalg import DenseVector, SparseVector # semelhante ao DenseVector mas ignora os valores faltantes\n",
    "from pyspark.ml.feature import VectorAssembler\n",
    "from pyspark.sql.functions import udf\n",
    "from pyspark.sql.types import DoubleType\n",
    "\n",
    "\n",
    "df_normalizer = df.select('*')\n",
    "# create a denseVector obejct\n",
    "vector_assembler = VectorAssembler(inputCols=['salario'], outputCol='salario_vector')\n",
    "df_vector = vector_assembler.transform(df_normalizer)\n",
    "\n",
    "# Create a Normalizer object\n",
    "normalizer = Normalizer(p=1.0, inputCol='salario_vector', outputCol='salario_vector_n')\n",
    "# utilizando Min e Max e criando MinMax object\n",
    "scaler = MinMaxScaler(inputCol=\"salario_vector\", outputCol=\"salario_vector_min_max\", min=0, max=1)\n",
    "df_normalized = normalizer.transform(df_vector)\n",
    "scaler_model = scaler.fit(df_vector)\n",
    "df_scaled  = scaler_model.transform(df_vector)\n",
    "\n",
    "df_normalized.show()\n",
    "df_scaled.show()\n",
    "\n",
    "extract_udf_salary = udf(lambda x: float(x[0]), DoubleType())\n",
    "df_normalizer = df_scaled.withColumn('salario_vector_min_max', extract_udf_salary(col('salario_vector_min_max')))\n",
    "df_normalizer.show()\n",
    "\n",
    "df_normalizer.orderBy(\"area\").select(col(\"area\"), col(\"salario_vector_min_max\")).show()\n",
    "\n",
    "\n",
    "\n",
    "\n",
    "\n",
    "# example sklearn\n",
    "# transformer = Normalizer().fit(X)  # fit does nothing.\n",
    "# transformer\n",
    "# transformer.transform(X)\n",
    "\n",
    "                                         "
   ]
  },
  {
   "cell_type": "markdown",
   "metadata": {},
   "source": [
    "## Referencias\n",
    "\n",
    "- https://colab.research.google.com/drive/10EufW2wlVEy3NJZtkDa6h6cyhWjP2TfD?usp=sharing#scrollTo=2jrxJJzHcHX2 (Professor: Adriano Gomes) \n",
    "\n",
    "- https://www.analyticsvidhya.com/blog/2022/05/data-preprocessing-using-pyspark-handling-missing-values/ (limpeza de dados)\n",
    "- https://spark.apache.org/docs/latest/api/python/reference/pyspark.sql/api/pyspark.sql.functions.initcap.html \n",
    "- https://deepnote.com/app/rajshekar-2021/Outlier-Detection-Pyspark-069e69af-2c1d-4d4d-884a-92aad276d06f(outliers)\n",
    "- https://learn.microsoft.com/pt-br/azure/synapse-analytics/spark/apache-spark-data-visualization-tutorial (histograma)\n",
    "- https://hub.asimov.academy/tutorial/como-criar-histogramas-com-python/ (histograma lib seaborn)\n",
    "- https://docs.databricks.com/en/udf/index.html (UDF functions)\n",
    "- https://spark.apache.org/docs/latest/api/python/reference/api/pyspark.ml.feature.Normalizer.html (normalização)\n"
   ]
  },
  {
   "cell_type": "markdown",
   "metadata": {
    "id": "0kZAzBjT-1Wv"
   },
   "source": [
    "## 4. Elabore Análises com filtros e agrupamentos aprendidos em PySpark na aula de ontem"
   ]
  },
  {
   "cell_type": "code",
   "execution_count": 19,
   "metadata": {
    "id": "Ckt6Ugxu_PjC"
   },
   "outputs": [
    {
     "name": "stdout",
     "output_type": "stream",
     "text": [
      "(6, 7)\n"
     ]
    }
   ],
   "source": [
    "# shape da matriz\n",
    "print((df.count(), len(df.columns)))"
   ]
  },
  {
   "cell_type": "code",
   "execution_count": 20,
   "metadata": {
    "id": "5JwCN3NC_a0C"
   },
   "outputs": [
    {
     "name": "stdout",
     "output_type": "stream",
     "text": [
      "+---+---------+-----+---------+-------+-------------------+-----------------+\n",
      "| id|     nome|idade|     area|salario|data_de_contratacao|status_de_emprego|\n",
      "+---+---------+-----+---------+-------+-------------------+-----------------+\n",
      "|  4|Ana Clara|   27|Marketing| 4800.0|         2018-06-12|            Ativo|\n",
      "+---+---------+-----+---------+-------+-------------------+-----------------+\n",
      "\n"
     ]
    }
   ],
   "source": [
    "df.sample(False,0.1).show(1) #(probabilidade vazio, chance de ser sorteado novamente)\n"
   ]
  },
  {
   "cell_type": "code",
   "execution_count": 21,
   "metadata": {
    "id": "Ea9gmzhM_6wL"
   },
   "outputs": [
    {
     "data": {
      "text/plain": [
       "Row(_1=Row(id=1, nome='João Silva', idade=29, area='Financeiro', salario=5500.0, data_de_contratacao=datetime.date(2020, 2, 1), status_de_emprego='Ativo'), _2=0)"
      ]
     },
     "execution_count": 21,
     "metadata": {},
     "output_type": "execute_result"
    }
   ],
   "source": [
    "df_tmp = df.rdd.map(lambda row:row).zipWithIndex().toDF()\n",
    "\n",
    "df_tmp.first() # primeira linha"
   ]
  },
  {
   "cell_type": "code",
   "execution_count": null,
   "metadata": {
    "id": "hIp3KLdxC1I1"
   },
   "outputs": [],
   "source": []
  },
  {
   "cell_type": "code",
   "execution_count": 22,
   "metadata": {
    "id": "203pOjmEsPGj"
   },
   "outputs": [
    {
     "name": "stdout",
     "output_type": "stream",
     "text": [
      "root\n",
      " |-- id: integer (nullable = true)\n",
      " |-- nome: string (nullable = true)\n",
      " |-- idade: integer (nullable = true)\n",
      " |-- area: string (nullable = true)\n",
      " |-- salario: double (nullable = true)\n",
      " |-- data_de_contratacao: date (nullable = true)\n",
      " |-- status_de_emprego: string (nullable = true)\n",
      "\n"
     ]
    }
   ],
   "source": [
    "df.printSchema()"
   ]
  },
  {
   "cell_type": "code",
   "execution_count": 23,
   "metadata": {
    "id": "pgcvKGyrsBpW"
   },
   "outputs": [
    {
     "name": "stdout",
     "output_type": "stream",
     "text": [
      "+-------+------------------+-----------+------------------+----------+-----------------+-----------------+\n",
      "|summary|                id|       nome|             idade|      area|          salario|status_de_emprego|\n",
      "+-------+------------------+-----------+------------------+----------+-----------------+-----------------+\n",
      "|  count|                 6|          6|                 6|         6|                6|                6|\n",
      "|   mean|3.8333333333333335|       NULL|29.833333333333332|      NULL|           5200.0|             NULL|\n",
      "| stddev| 3.060501048303474|       NULL|2.3166067138525404|      NULL|328.6335345030997|             NULL|\n",
      "|    min|                 1|  Ana Clara|                27|Financeiro|           4800.0|            Ativo|\n",
      "|    max|                 8|Maria Souza|                34|        Rh|           5500.0|          Inativo|\n",
      "+-------+------------------+-----------+------------------+----------+-----------------+-----------------+\n",
      "\n"
     ]
    }
   ],
   "source": [
    "# Display the summary statistics of the data\n",
    "df.describe().show()"
   ]
  },
  {
   "cell_type": "code",
   "execution_count": null,
   "metadata": {
    "id": "Y9WOWYnpDC9-"
   },
   "outputs": [],
   "source": []
  },
  {
   "cell_type": "code",
   "execution_count": 24,
   "metadata": {
    "id": "-V98aLmOC_9C"
   },
   "outputs": [
    {
     "name": "stdout",
     "output_type": "stream",
     "text": [
      "+---+-------------+-----+----------+-------+-------------------+-----------------+\n",
      "| id|         nome|idade|      area|salario|data_de_contratacao|status_de_emprego|\n",
      "+---+-------------+-----+----------+-------+-------------------+-----------------+\n",
      "|  1|   João Silva|   29|Financeiro| 5500.0|         2020-02-01|            Ativo|\n",
      "|  2|  Maria Souza|   30|        Rh| 4800.0|         2019-03-15|            Ativo|\n",
      "|  4|    Ana Clara|   27| Marketing| 4800.0|         2018-06-12|            Ativo|\n",
      "|  7|   José Alves|   34| Marketing| 5400.0|         2018-02-01|          Inativo|\n",
      "|  8|Luciana Costa|   30|Financeiro| 5200.0|         2019-01-01|            Ativo|\n",
      "+---+-------------+-----+----------+-------+-------------------+-----------------+\n",
      "only showing top 5 rows\n",
      "\n"
     ]
    }
   ],
   "source": [
    "df.show(5)"
   ]
  },
  {
   "cell_type": "code",
   "execution_count": 25,
   "metadata": {
    "id": "szj2ImVzDE2P"
   },
   "outputs": [
    {
     "name": "stdout",
     "output_type": "stream",
     "text": [
      "+---+-------------+-----+----------+-------+-------------------+-----------------+\n",
      "| id|         nome|idade|      area|salario|data_de_contratacao|status_de_emprego|\n",
      "+---+-------------+-----+----------+-------+-------------------+-----------------+\n",
      "|  7|   José Alves|   34| Marketing| 5400.0|         2018-02-01|          Inativo|\n",
      "|  2|  Maria Souza|   30|        Rh| 4800.0|         2019-03-15|            Ativo|\n",
      "|  8|Luciana Costa|   30|Financeiro| 5200.0|         2019-01-01|            Ativo|\n",
      "|  1|   João Silva|   29|Financeiro| 5500.0|         2020-02-01|            Ativo|\n",
      "|  1|   João Silva|   29|Financeiro| 5500.0|         2020-02-01|            Ativo|\n",
      "+---+-------------+-----+----------+-------+-------------------+-----------------+\n",
      "only showing top 5 rows\n",
      "\n"
     ]
    }
   ],
   "source": [
    "df.orderBy(col('idade').desc()).show(5)"
   ]
  },
  {
   "cell_type": "code",
   "execution_count": 26,
   "metadata": {
    "id": "8hD8V8CbHsBP"
   },
   "outputs": [
    {
     "name": "stdout",
     "output_type": "stream",
     "text": [
      "+---+\n",
      "| id|\n",
      "+---+\n",
      "|  1|\n",
      "|  2|\n",
      "|  4|\n",
      "|  7|\n",
      "|  8|\n",
      "+---+\n",
      "only showing top 5 rows\n",
      "\n",
      "+-----+\n",
      "|idade|\n",
      "+-----+\n",
      "|   29|\n",
      "|   30|\n",
      "|   27|\n",
      "|   34|\n",
      "|   30|\n",
      "+-----+\n",
      "only showing top 5 rows\n",
      "\n"
     ]
    }
   ],
   "source": [
    "# Ìndice PySpark\n",
    "'''\n",
    "Em PySpark não temos suporte direto à índices, pois os dados\n",
    "não estão alocados em disco, mas podemos fazer ajustes técnicos (gambiarra)\n",
    "como veremos mais pra frente.\n",
    "'''\n",
    "\n",
    "df.select(df.columns[0]).show(5)\n",
    "df.select(col('idade')).show(5)"
   ]
  },
  {
   "cell_type": "code",
   "execution_count": 27,
   "metadata": {
    "id": "Q_ajekpdIEMX"
   },
   "outputs": [
    {
     "name": "stdout",
     "output_type": "stream",
     "text": [
      "+---+----------+-----+---------+-------+-------------------+-----------------+\n",
      "| id|      nome|idade|     area|salario|data_de_contratacao|status_de_emprego|\n",
      "+---+----------+-----+---------+-------+-------------------+-----------------+\n",
      "|  7|José Alves|   34|Marketing| 5400.0|         2018-02-01|          Inativo|\n",
      "+---+----------+-----+---------+-------+-------------------+-----------------+\n",
      "\n"
     ]
    }
   ],
   "source": [
    "df.filter(col('idade') > 30).show(5) # pelo rotulo (cabecalho)"
   ]
  },
  {
   "cell_type": "code",
   "execution_count": 28,
   "metadata": {
    "id": "S4JzlgTAIW67"
   },
   "outputs": [
    {
     "name": "stdout",
     "output_type": "stream",
     "text": [
      "[Row(id=1, nome='João Silva', idade=29, area='Financeiro', salario=5500.0, data_de_contratacao=datetime.date(2020, 2, 1), status_de_emprego='Ativo'), Row(id=7, nome='José Alves', idade=34, area='Marketing', salario=5400.0, data_de_contratacao=datetime.date(2018, 2, 1), status_de_emprego='Inativo'), Row(id=1, nome='João Silva', idade=29, area='Financeiro', salario=5500.0, data_de_contratacao=datetime.date(2020, 2, 1), status_de_emprego='Ativo')]\n",
      "<class 'list'>\n",
      "--------------------------------------------------------------------------------\n"
     ]
    },
    {
     "data": {
      "text/plain": [
       "DataFrame[id: int, nome: string, idade: int, area: string, salario: double, data_de_contratacao: date, status_de_emprego: string]"
      ]
     },
     "execution_count": 28,
     "metadata": {},
     "output_type": "execute_result"
    }
   ],
   "source": [
    "rows = df.collect() # retorna uma lista de das linhas (big dataset -> out of memory)\n",
    "# len(rows)\n",
    "\n",
    "select_rows = [rows[x] for x in [0,3,5]]\n",
    "print(select_rows)\n",
    "print(type(select_rows))\n",
    "print('-'*80)\n",
    "\n",
    "df_select_rows = spark.createDataFrame(select_rows, df.schema)\n",
    "df_select_rows"
   ]
  },
  {
   "cell_type": "markdown",
   "metadata": {
    "id": "U1s9JzoBnMUw"
   },
   "source": [
    "## Referencias\n",
    "- https://medium.com/@dipan.saha/pyspark-made-easy-day-2-execute-pyspark-on-google-colabs-f3e57da946a\n",
    "\n"
   ]
  }
 ],
 "metadata": {
  "colab": {
   "provenance": []
  },
  "kernelspec": {
   "display_name": "Python 3 (ipykernel)",
   "language": "python",
   "name": "python3"
  },
  "language_info": {
   "codemirror_mode": {
    "name": "ipython",
    "version": 3
   },
   "file_extension": ".py",
   "mimetype": "text/x-python",
   "name": "python",
   "nbconvert_exporter": "python",
   "pygments_lexer": "ipython3",
   "version": "3.11.6"
  }
 },
 "nbformat": 4,
 "nbformat_minor": 4
}
