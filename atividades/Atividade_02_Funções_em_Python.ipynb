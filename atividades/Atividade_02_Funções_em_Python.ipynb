{
  "nbformat": 4,
  "nbformat_minor": 0,
  "metadata": {
    "colab": {
      "provenance": []
    },
    "kernelspec": {
      "name": "python3",
      "display_name": "Python 3"
    },
    "language_info": {
      "name": "python"
    }
  },
  "cells": [
    {
      "cell_type": "markdown",
      "source": [
        "1. **Função de Saudação**:\n",
        "   - Crie uma função chamada `saudacao` que receba um nome como argumento e exiba uma mensagem de saudação no console."
      ],
      "metadata": {
        "id": "dpA-9LXh82Th"
      }
    },
    {
      "cell_type": "code",
      "execution_count": null,
      "metadata": {
        "id": "2_P26JO_OcE5",
        "colab": {
          "base_uri": "https://localhost:8080/",
          "height": 34
        },
        "outputId": "0a5765b3-e060-42ff-bf08-012824282bf8"
      },
      "outputs": [
        {
          "output_type": "execute_result",
          "data": {
            "text/plain": [
              "'Olá Agatha!'"
            ],
            "application/vnd.google.colaboratory.intrinsic+json": {
              "type": "string"
            }
          },
          "metadata": {},
          "execution_count": 1
        }
      ],
      "source": [
        "def greeting(name: str) -> str:\n",
        " return f'Olá {name}!' if name else 'Invalid name'\n",
        "\n",
        "greeting(\"Agatha\")"
      ]
    },
    {
      "cell_type": "markdown",
      "source": [
        "2. **Função de Soma**:\n",
        "   - Crie uma função chamada `soma` que receba dois números como argumentos e retorne a soma deles.\n",
        "\n"
      ],
      "metadata": {
        "id": "PpfYyqCCAacm"
      }
    },
    {
      "cell_type": "code",
      "source": [
        "addition = lambda x, y: x + y\n",
        "\n",
        "addition(1, 2)"
      ],
      "metadata": {
        "colab": {
          "base_uri": "https://localhost:8080/"
        },
        "id": "QSyFFt1KEFcq",
        "outputId": "48124f4e-a3c1-4279-f276-780586801f30"
      },
      "execution_count": null,
      "outputs": [
        {
          "output_type": "execute_result",
          "data": {
            "text/plain": [
              "3"
            ]
          },
          "metadata": {},
          "execution_count": 2
        }
      ]
    },
    {
      "cell_type": "markdown",
      "source": [
        "3. **Função de Subtração**:\n",
        "   - Crie uma função chamada `subtracao` que receba dois números como argumentos e retorne a subtração do segundo número pelo primeiro."
      ],
      "metadata": {
        "id": "_MeShz_pEjJ6"
      }
    },
    {
      "cell_type": "code",
      "source": [
        "subtraction = lambda x, y: x - y\n",
        "\n",
        "subtraction(1, 2)"
      ],
      "metadata": {
        "colab": {
          "base_uri": "https://localhost:8080/"
        },
        "id": "oHBCsfyNEj2i",
        "outputId": "4417799d-f34b-40ec-fec4-20a3149765b5"
      },
      "execution_count": null,
      "outputs": [
        {
          "output_type": "execute_result",
          "data": {
            "text/plain": [
              "-1"
            ]
          },
          "metadata": {},
          "execution_count": 3
        }
      ]
    },
    {
      "cell_type": "markdown",
      "source": [
        "4. **Função de Multiplicação**:\n",
        "   - Crie uma função chamada `multiplicacao` que receba dois números como argumentos e retorne a multiplicação deles.\n"
      ],
      "metadata": {
        "id": "2egF56XbFIPD"
      }
    },
    {
      "cell_type": "code",
      "source": [
        "multiplication= lambda x, y: x * y\n",
        "\n",
        "multiplication(3, 2)"
      ],
      "metadata": {
        "colab": {
          "base_uri": "https://localhost:8080/"
        },
        "id": "mcaSrQXLFVZz",
        "outputId": "944b6da1-269c-40f7-eaf1-a99c62ef5a8c"
      },
      "execution_count": null,
      "outputs": [
        {
          "output_type": "execute_result",
          "data": {
            "text/plain": [
              "6"
            ]
          },
          "metadata": {},
          "execution_count": 4
        }
      ]
    },
    {
      "cell_type": "markdown",
      "source": [
        " **Função de Divisão**:\n",
        "   - Crie uma função chamada `divisao` que receba dois números como argumentos e retorne a divisão do primeiro pelo segundo."
      ],
      "metadata": {
        "id": "KLsQLrbaFmUN"
      }
    },
    {
      "cell_type": "code",
      "source": [
        "division= lambda x, y: x / y\n",
        "\n",
        "division(10, 2)"
      ],
      "metadata": {
        "colab": {
          "base_uri": "https://localhost:8080/"
        },
        "id": "Mq5zf1qMFsm9",
        "outputId": "e0702475-0c89-41a0-92b1-490764838021"
      },
      "execution_count": null,
      "outputs": [
        {
          "output_type": "execute_result",
          "data": {
            "text/plain": [
              "5.0"
            ]
          },
          "metadata": {},
          "execution_count": 5
        }
      ]
    },
    {
      "cell_type": "markdown",
      "source": [
        " **Função de Fatorial**:\n",
        "   - Crie uma função chamada `fatorial` que receba um número como argumento e retorne o fatorial desse número."
      ],
      "metadata": {
        "id": "y6ztsLTQGgXB"
      }
    },
    {
      "cell_type": "code",
      "source": [
        "def factorial(n: int) -> int:\n",
        "    if n < 0:\n",
        "      raise ValueError('Invalid arguments')\n",
        "\n",
        "    return 1 if n == 0 else n * factorial(n - 1)\n",
        "\n",
        "try:\n",
        "  factorial(-5)\n",
        "except ValueError as e:\n",
        "  print(e)\n",
        "\n",
        "try:\n",
        "  x = factorial(5)\n",
        "  print(x , type(x))\n",
        "except ValueError as e:\n",
        "  print(e)"
      ],
      "metadata": {
        "colab": {
          "base_uri": "https://localhost:8080/"
        },
        "id": "344AbdzeGhjU",
        "outputId": "bcfa613b-8633-453a-f4ec-06e0a83d56d1"
      },
      "execution_count": null,
      "outputs": [
        {
          "output_type": "stream",
          "name": "stdout",
          "text": [
            "Invalid arguments\n",
            "120 <class 'int'>\n"
          ]
        }
      ]
    },
    {
      "cell_type": "markdown",
      "source": [
        "7. **Função para Verificar Número Primo**:\n",
        "   - Crie uma função chamada `ePrimo` que receba um número como argumento e retorne `true` se o número for primo e `false` caso contrário."
      ],
      "metadata": {
        "id": "5a22XYn3IiDn"
      }
    },
    {
      "cell_type": "code",
      "source": [
        "def is_prime_number(number: int) -> bool:\n",
        "  if not number:\n",
        "    raise ValueError('Invalid arguments')\n",
        "\n",
        "  is_prime = False\n",
        "\n",
        "  if number > 1:\n",
        "    for i in range(2, number):\n",
        "      if (number % i) == 0:\n",
        "        break\n",
        "    else:\n",
        "      is_prime = True\n",
        "\n",
        "  return is_prime\n",
        "\n",
        "assert is_prime_number(5) == True\n",
        "assert is_prime_number(4) == False\n",
        "assert is_prime_number(-5) == False"
      ],
      "metadata": {
        "id": "EdN0UTSYIsco"
      },
      "execution_count": null,
      "outputs": []
    },
    {
      "cell_type": "markdown",
      "source": [
        "8. **Função para Calcular Média**:\n",
        "   - Crie uma função chamada `media` que receba um array de números como argumento e retorne a média dos números."
      ],
      "metadata": {
        "id": "h-31wlVlLNks"
      }
    },
    {
      "cell_type": "code",
      "source": [
        "def average(*args: float) -> float:\n",
        "  if not args:\n",
        "    raise ValueError('Invalid arguments')\n",
        "\n",
        "  return sum(args) / len(args)\n",
        "\n",
        "\n",
        "try:\n",
        "  average(1, 2, 3, 4, 5)\n",
        "except ValueError as e:\n",
        "  print(e)\n",
        "\n"
      ],
      "metadata": {
        "id": "83lVH1ZZLaL4"
      },
      "execution_count": null,
      "outputs": []
    },
    {
      "cell_type": "markdown",
      "source": [
        "9. **Função para Inverter String**:\n",
        "   - Crie uma função chamada `inverterString` que receba uma string como argumento e retorne a string invertida."
      ],
      "metadata": {
        "id": "twv_g8kicio5"
      }
    },
    {
      "cell_type": "code",
      "source": [
        "def inverter_string(string: str) -> str:\n",
        "  if not isinstance(string, str):\n",
        "    raise TypeError('Invalid arguments')\n",
        "  return string[::-1]\n",
        "\n",
        "try:\n",
        "  print(inverter_string('Agatha'))\n",
        "except ValueError as e:\n",
        "  print(e)"
      ],
      "metadata": {
        "colab": {
          "base_uri": "https://localhost:8080/"
        },
        "id": "N9L0ag-4cm91",
        "outputId": "1d2c6570-ef70-4632-d52e-e7377f355a59"
      },
      "execution_count": null,
      "outputs": [
        {
          "output_type": "stream",
          "name": "stdout",
          "text": [
            "ahtagA\n"
          ]
        }
      ]
    },
    {
      "cell_type": "markdown",
      "source": [
        "10. **Função para Contar Caracteres**:\n",
        "    - Crie uma função chamada `contarCaracteres` que receba uma string e um caractere como argumentos e retorne o número de vezes que o caractere aparece na string."
      ],
      "metadata": {
        "id": "Axh5kbK1eIvC"
      }
    },
    {
      "cell_type": "code",
      "source": [
        "def count_characters(string: str, character: str) -> int:\n",
        "  if not isinstance(string, str) or not isinstance(character, str):\n",
        "    raise TypeError('Invalid arguments')\n",
        "  return string.count(character)\n",
        "\n",
        "try:\n",
        "  print(count_characters('Agatha', 'a'))\n",
        "  # print(count_characters('Agatha', 1))\n",
        "except ValueError as e:\n",
        "  print(e)"
      ],
      "metadata": {
        "colab": {
          "base_uri": "https://localhost:8080/"
        },
        "id": "4hQiTDedeJ7_",
        "outputId": "22e43b42-9a7c-42ee-9444-fa82993e1dba"
      },
      "execution_count": null,
      "outputs": [
        {
          "output_type": "stream",
          "name": "stdout",
          "text": [
            "2\n"
          ]
        }
      ]
    },
    {
      "cell_type": "markdown",
      "source": [
        "11. **Função Anônima**:\n",
        "    - Crie uma função anônima e atribua-a a uma variável chamada `multiplicar`. A função deve receber dois números como argumentos e retornar a multiplicação deles."
      ],
      "metadata": {
        "id": "OMMGygo7eqxw"
      }
    },
    {
      "cell_type": "code",
      "source": [
        "multiplication = lambda x, y: x * y\n",
        "\n",
        "multiplication(2, 3)"
      ],
      "metadata": {
        "colab": {
          "base_uri": "https://localhost:8080/"
        },
        "id": "6lUeJmmafo31",
        "outputId": "8aa13ac7-d2fa-4afa-edfd-c3c27f0a9ee3"
      },
      "execution_count": null,
      "outputs": [
        {
          "output_type": "execute_result",
          "data": {
            "text/plain": [
              "6"
            ]
          },
          "metadata": {},
          "execution_count": 11
        }
      ]
    },
    {
      "cell_type": "markdown",
      "source": [
        "12. **Função de Ordem Superior**:\n",
        "    - Crie uma função chamada `operacao` que receba dois números e uma função como argumentos. A função deve aplicar a função fornecida aos dois números e retornar o resultado."
      ],
      "metadata": {
        "id": "afvJZmdIgB0Y"
      }
    },
    {
      "cell_type": "code",
      "source": [
        "def operation(x: int, y: int, func) -> int:\n",
        "  if not isinstance(x, (int, float)) or not isinstance(y, (int, float)):\n",
        "    raise TypeError('Invalid arguments')\n",
        "\n",
        "  return func(x, y)\n",
        "\n",
        "operation(2, 3, lambda x,y: x * y)"
      ],
      "metadata": {
        "colab": {
          "base_uri": "https://localhost:8080/"
        },
        "id": "VNBgLer8gCz8",
        "outputId": "e557cd9e-5791-4249-e5a5-4e1e74ba8096"
      },
      "execution_count": null,
      "outputs": [
        {
          "output_type": "execute_result",
          "data": {
            "text/plain": [
              "6"
            ]
          },
          "metadata": {},
          "execution_count": 12
        }
      ]
    },
    {
      "cell_type": "markdown",
      "source": [
        "13. **Função de Retorno**:\n",
        "    - Crie uma função chamada `criarSaudacao` que receba uma saudação como argumento e retorne uma nova função. A função retornada deve receber um nome como argumento e exibir a saudação seguida pelo nome."
      ],
      "metadata": {
        "id": "VGvn5z1BhaQV"
      }
    },
    {
      "cell_type": "markdown",
      "source": [],
      "metadata": {
        "id": "BcvyDAZghM8r"
      }
    },
    {
      "cell_type": "code",
      "source": [
        "def create_greeting(greeting: str):\n",
        "  if not isinstance(greeting, str):\n",
        "    raise TypeError('Invalid arguments')\n",
        "\n",
        "  return lambda name: print(f'{greeting} {name}')\n",
        "\n",
        "try:\n",
        "  create_greeting('Olá')('Agatha')\n",
        "except TypeError as e:\n",
        "  print(e)\n"
      ],
      "metadata": {
        "id": "wnEA8MaahZAo",
        "colab": {
          "base_uri": "https://localhost:8080/"
        },
        "outputId": "c5a22658-2f4e-466a-9720-9779f61fa5a0"
      },
      "execution_count": null,
      "outputs": [
        {
          "output_type": "stream",
          "name": "stdout",
          "text": [
            "Olá Agatha\n"
          ]
        }
      ]
    },
    {
      "cell_type": "markdown",
      "source": [
        "14. **Função Recursiva**:\n",
        "    - Crie uma função chamada `contagemRegressiva` que receba um número como argumento e exiba uma contagem regressiva a partir desse número até 0, usando recursão."
      ],
      "metadata": {
        "id": "nIA590fgpBGj"
      }
    },
    {
      "cell_type": "code",
      "source": [
        "def countdown(number: int):\n",
        "  if not isinstance(number, int):\n",
        "    raise TypeError('Invalid arguments')\n",
        "  elif number < 0:\n",
        "    raise ValueError('Invalid value')\n",
        "\n",
        "  if number > 0 :\n",
        "    print(number)\n",
        "    countdown(number - 1)\n",
        "  else:\n",
        "    print(number)\n",
        "\n",
        "\n",
        "try:\n",
        "  countdown(5)\n",
        "except TypeError as e:\n",
        "  print(e)\n",
        "except ValueError as e:\n",
        "  print(e.args)\n"
      ],
      "metadata": {
        "colab": {
          "base_uri": "https://localhost:8080/"
        },
        "id": "aBxcSzRMpCJr",
        "outputId": "934e57b1-d290-4c70-aaa2-492c29e0a8d5"
      },
      "execution_count": null,
      "outputs": [
        {
          "output_type": "stream",
          "name": "stdout",
          "text": [
            "5\n",
            "4\n",
            "3\n",
            "2\n",
            "1\n",
            "0\n"
          ]
        }
      ]
    },
    {
      "cell_type": "markdown",
      "source": [
        "15. **Função para Calcular Fibonacci**:\n",
        "    - Crie uma função chamada `fibonacci` que receba um número `n` como argumento e retorne o `n`-ésimo número da sequência de Fibonacci.\n"
      ],
      "metadata": {
        "id": "nPycvecoyuaR"
      }
    },
    {
      "cell_type": "code",
      "source": [
        "def fibonacci(n:int) -> int:\n",
        "  if not isinstance(n, int):\n",
        "    raise TypeError('Invalid arguments')\n",
        "  elif n < 0:\n",
        "    raise ValueError('Invalid value')\n",
        "\n",
        "  if n == 0:\n",
        "    return 0\n",
        "  elif n == 1:\n",
        "    return 1\n",
        "  else:\n",
        "    return fibonacci(n-1) + fibonacci(n-2)\n",
        "\n",
        "try:\n",
        "  print(fibonacci(10))\n",
        "except TypeError as e:\n",
        "  print(e)\n",
        "except ValueError as e:\n",
        "  print(e.args)\n"
      ],
      "metadata": {
        "colab": {
          "base_uri": "https://localhost:8080/"
        },
        "id": "KUOTGthGzXsA",
        "outputId": "2cfadf7b-1c7f-47d8-ece8-30c875b76ce3"
      },
      "execution_count": null,
      "outputs": [
        {
          "output_type": "stream",
          "name": "stdout",
          "text": [
            "55\n"
          ]
        }
      ]
    },
    {
      "cell_type": "markdown",
      "source": [
        "16. **Função para Converter Celsius para Fahrenheit**:\n",
        "    - Crie uma função chamada `celsiusParaFahrenheit` que receba uma temperatura em Celsius e retorne a temperatura convertida para Fahrenheit."
      ],
      "metadata": {
        "id": "G_Thhm8N1i-F"
      }
    },
    {
      "cell_type": "code",
      "source": [
        "def celsius_to_fahrenheit(celsius: float) -> float:\n",
        "  if not isinstance(celsius, (int, float)):\n",
        "    raise TypeError('Invalid arguments')\n",
        "\n",
        "  return (celsius * 9/5) + 32\n",
        "\n",
        "try:\n",
        "  print(celsius_to_fahrenheit(celsius=30))\n",
        "except TypeError as e:\n",
        "  print(e)"
      ],
      "metadata": {
        "colab": {
          "base_uri": "https://localhost:8080/"
        },
        "id": "UjrZQGXR1lvz",
        "outputId": "e41b795b-d0c2-46ff-9589-7341964972e2"
      },
      "execution_count": null,
      "outputs": [
        {
          "output_type": "stream",
          "name": "stdout",
          "text": [
            "86.0\n"
          ]
        }
      ]
    },
    {
      "cell_type": "markdown",
      "source": [
        "17. **Função para Converter Fahrenheit para Celsius**:\n",
        "    - Crie uma função chamada `fahrenheitParaCelsius` que receba uma temperatura em Fahrenheit e retorne a temperatura convertida para Celsius."
      ],
      "metadata": {
        "id": "Zsl-cMQu166k"
      }
    },
    {
      "cell_type": "code",
      "source": [
        "def fahrenheit_to_celsius(fahrenheit: float) -> float:\n",
        "  if not isinstance(fahrenheit, (int, float)):\n",
        "    raise TypeError('Invalid arguments')\n",
        "\n",
        "  return (fahrenheit - 32) * 5/9\n",
        "\n",
        "try:\n",
        "  print(fahrenheit_to_celsius(fahrenheit=95))\n",
        "except TypeError as e:\n",
        "  print(e)"
      ],
      "metadata": {
        "colab": {
          "base_uri": "https://localhost:8080/"
        },
        "id": "F71X6Z7Y16Pb",
        "outputId": "a597a33a-be6b-4c13-a4ca-93e6b1502e86"
      },
      "execution_count": null,
      "outputs": [
        {
          "output_type": "stream",
          "name": "stdout",
          "text": [
            "35.0\n"
          ]
        }
      ]
    },
    {
      "cell_type": "markdown",
      "source": [
        "18. **Função para Verificar Paridade**:\n",
        "    - Crie uma função chamada `ePar` que receba um número como argumento e retorne `true` se o número for par e `false` caso contrário."
      ],
      "metadata": {
        "id": "kCSVR8Ub2VA2"
      }
    },
    {
      "cell_type": "code",
      "source": [
        "def is_even(number: int) -> bool:\n",
        "  if not isinstance(number, int):\n",
        "    raise TypeError('Invalid arguments')\n",
        "\n",
        "  return number % 2 == 0\n",
        "\n",
        "try:\n",
        "  print(is_even(number=2))\n",
        "except TypeError as e:\n",
        "  print(e)\n"
      ],
      "metadata": {
        "colab": {
          "base_uri": "https://localhost:8080/"
        },
        "id": "wfTyF1cX2Z3r",
        "outputId": "0b2c5b87-7fee-4a72-f654-a3ef2527174a"
      },
      "execution_count": null,
      "outputs": [
        {
          "output_type": "stream",
          "name": "stdout",
          "text": [
            "True\n"
          ]
        }
      ]
    },
    {
      "cell_type": "markdown",
      "source": [
        "19. **Função para Calcular Quadrado**:\n",
        "    - Crie uma função chamada `quadrado` que receba um número como argumento e retorne o quadrado desse número."
      ],
      "metadata": {
        "id": "dQQWf_Hn2xHK"
      }
    },
    {
      "cell_type": "code",
      "source": [
        "def square(number: int) -> int:\n",
        "  if not isinstance(number, (int, float)):\n",
        "    raise TypeError('Invalid arguments')\n",
        "\n",
        "  return number ** 2\n",
        "\n",
        "try:\n",
        "  print(square(number=2))\n",
        "  # print(square(number='2'))\n",
        "except TypeError as e:\n",
        "  print(e)"
      ],
      "metadata": {
        "colab": {
          "base_uri": "https://localhost:8080/"
        },
        "id": "JnMzX57w20zF",
        "outputId": "93a1c61e-cda1-4713-8456-7c5799f3f112"
      },
      "execution_count": null,
      "outputs": [
        {
          "output_type": "stream",
          "name": "stdout",
          "text": [
            "4\n"
          ]
        }
      ]
    },
    {
      "cell_type": "markdown",
      "source": [
        "20. **Função para Calcular Raiz Quadrada**:\n",
        "    - Crie uma função chamada `raizQuadrada` que receba um número como argumento e retorne a raiz quadrada desse número."
      ],
      "metadata": {
        "id": "VwT9Y9mD3PhV"
      }
    },
    {
      "cell_type": "code",
      "source": [
        "import math\n",
        "def sqrt(number: int) -> int:\n",
        "  if not isinstance(number, (int, float)):\n",
        "    raise TypeError('Invalid arguments')\n",
        "\n",
        "  return number ** 0.5\n",
        "\n",
        "try:\n",
        "  print(sqrt(number=2))\n",
        "  print(sqrt(number=25))\n",
        "except TypeError as e:\n",
        "  print(e)"
      ],
      "metadata": {
        "colab": {
          "base_uri": "https://localhost:8080/"
        },
        "id": "DuGgDyz03QYj",
        "outputId": "354f97db-c6cf-40e6-b267-d1172082b77c"
      },
      "execution_count": null,
      "outputs": [
        {
          "output_type": "stream",
          "name": "stdout",
          "text": [
            "1.4142135623730951\n",
            "5.0\n"
          ]
        }
      ]
    },
    {
      "cell_type": "markdown",
      "source": [
        "21. **Função para Contar Vogais**:\n",
        "    - Crie uma função chamada `contarVogais` que receba uma string como argumento e retorne o número de vogais na string."
      ],
      "metadata": {
        "id": "_SRGVHR44PRf"
      }
    },
    {
      "cell_type": "code",
      "source": [
        "vowels = ['a', 'e', 'i', 'o', 'u']\n",
        "\n",
        "\n",
        "def count_vowels(string: str) -> int:\n",
        "  count = 0\n",
        "\n",
        "  if not isinstance(string, str):\n",
        "    raise TypeError('Invalid arguments')\n",
        "\n",
        "  for char in string:\n",
        "    if char.lower() in vowels:\n",
        "      count += 1\n",
        "\n",
        "  return count\n",
        "\n",
        "try:\n",
        "  print(count_vowels(string='Agatha'))\n",
        "except TypeError as e:\n",
        "  print(e)\n",
        "\n"
      ],
      "metadata": {
        "id": "-2KmzOmq4YVb",
        "colab": {
          "base_uri": "https://localhost:8080/"
        },
        "outputId": "fab428c0-0edc-4041-e98c-f4a577f96bf0"
      },
      "execution_count": null,
      "outputs": [
        {
          "output_type": "stream",
          "name": "stdout",
          "text": [
            "3\n"
          ]
        }
      ]
    },
    {
      "cell_type": "markdown",
      "source": [],
      "metadata": {
        "id": "np8bJDys3Ioo"
      }
    },
    {
      "cell_type": "markdown",
      "source": [
        "22. **Função para Verificar Palíndromo**:\n",
        "    - Crie uma função chamada `ePalindromo` que receba uma string como argumento e retorne `true` se a string for um palíndromo e `false` caso contrário."
      ],
      "metadata": {
        "id": "0Qhgzr5EpHSN"
      }
    },
    {
      "cell_type": "code",
      "source": [
        "!pip install unidecode\n",
        "\n",
        "import string\n",
        "from unidecode import unidecode\n",
        "import re\n",
        "\n",
        "\n",
        "def is_palindrome(text: str) -> bool:\n",
        "  if not isinstance(text, str):\n",
        "    raise TypeError('Invalid arguments')\n",
        "\n",
        "  text = unidecode(text)\n",
        "  text = re.sub(r'\\d', '', text)\n",
        "  text = ''.join(filter(str.isalnum, text)).lower()\n",
        "\n",
        "  if not text:\n",
        "    return False\n",
        "\n",
        "  #Verifica as pontuações\n",
        "  # text = text.translate(str.maketrans('', '', string.punctuation))\n",
        "  return text == text[::-1]\n",
        "\n",
        "try:\n",
        "  print(is_palindrome(text='texto'))\n",
        "  print(is_palindrome(text='radar'))\n",
        "  print(is_palindrome(text='ANa'))\n",
        "  print(is_palindrome(text='A Rita, sobre vovô, verbos atira'))\n",
        "  print(is_palindrome(text='A grama é amarga?'))\n",
        "  print(is_palindrome(text='111111111111'))\n",
        "except TypeError as e:\n",
        "  print(e.args)"
      ],
      "metadata": {
        "colab": {
          "base_uri": "https://localhost:8080/"
        },
        "id": "7YlP0mM9pIIF",
        "outputId": "87fc2e4b-73fa-4bf5-e5f0-e8966ecac678"
      },
      "execution_count": null,
      "outputs": [
        {
          "output_type": "stream",
          "name": "stdout",
          "text": [
            "Requirement already satisfied: unidecode in /usr/local/lib/python3.10/dist-packages (1.3.8)\n",
            "False\n",
            "True\n",
            "True\n",
            "True\n",
            "True\n",
            "False\n"
          ]
        }
      ]
    },
    {
      "cell_type": "markdown",
      "source": [
        "23. **Função para Encontrar o Maior Número em um Array**:\n",
        "    - Crie uma função chamada `maiorNumero` que receba um array de números como argumento e retorne o maior número do array."
      ],
      "metadata": {
        "id": "F8P6uCxHzl_Z"
      }
    },
    {
      "cell_type": "code",
      "source": [
        "def all_integers(numbers: list) -> bool:\n",
        "  return all(isinstance(number, int) for number in numbers)\n",
        "\n",
        "def big_number_with_max(numbers: list) -> int:\n",
        "  if not numbers:\n",
        "    raise ValueError(\"String cannot be empty\")\n",
        "\n",
        "  if all_integers(numbers):\n",
        "    return max(numbers)\n",
        "  else:\n",
        "    return max(map(int, numbers))\n",
        "\n",
        "\n",
        "def big_number(numbers: list) -> int:\n",
        "  if not numbers:\n",
        "    raise ValueError()\n",
        "\n",
        "  big_number = numbers[0]\n",
        "\n",
        "  for number in numbers:\n",
        "    if number > big_number:\n",
        "      big_number = number\n",
        "\n",
        "  return big_number\n",
        "\n",
        "\n",
        "try:\n",
        "  # print(big_number([1, 2, 3, 4, 5]))\n",
        "  print(big_number([1, 2, 3, 4, 5]))\n",
        "  print(big_number_with_max([1, 'aa', 3, 4, 5]))\n",
        "  # print(big_number_with_max([]))\n",
        "\n",
        "except ValueError as e:\n",
        "  print(e)"
      ],
      "metadata": {
        "colab": {
          "base_uri": "https://localhost:8080/"
        },
        "id": "LhPKv0Yyzx2l",
        "outputId": "7a1d981b-c6cc-4045-f5f2-763a211a616f"
      },
      "execution_count": null,
      "outputs": [
        {
          "output_type": "stream",
          "name": "stdout",
          "text": [
            "5\n",
            "invalid literal for int() with base 10: 'aa'\n"
          ]
        }
      ]
    },
    {
      "cell_type": "markdown",
      "source": [
        "24. **Função para Ordenar um Array em Ordem Crescente**:\n",
        "    - Crie uma função chamada `ordenarArray` que receba um array de números como argumento e retorne o array ordenado em ordem crescente.\n"
      ],
      "metadata": {
        "id": "oIsjH3JUb9L1"
      }
    },
    {
      "cell_type": "code",
      "source": [
        "def sort_array(numbers: list) -> list:\n",
        "  if not numbers:\n",
        "    raise ValueError(\"String cannot be empty\")\n",
        "\n",
        "  return sorted(numbers)\n",
        "\n",
        "sort_array([5,4,3,1,2])"
      ],
      "metadata": {
        "colab": {
          "base_uri": "https://localhost:8080/"
        },
        "id": "HQ7LRMT4cM2j",
        "outputId": "bf7185ce-a077-44ff-ee05-8bbfc321e3f2"
      },
      "execution_count": null,
      "outputs": [
        {
          "output_type": "execute_result",
          "data": {
            "text/plain": [
              "[1, 2, 3, 4, 5]"
            ]
          },
          "metadata": {},
          "execution_count": 4
        }
      ]
    },
    {
      "cell_type": "markdown",
      "source": [
        "25. **Função para Filtrar Números Pares**:\n",
        "    - Crie uma função chamada `filtrarPares` que receba um array de números como argumento e retorne um novo array contendo apenas os números pares."
      ],
      "metadata": {
        "id": "bE0u9Grkc3_2"
      }
    },
    {
      "cell_type": "code",
      "source": [
        "def filter_even_numbers(numbers: list) -> list:\n",
        "  if not numbers:\n",
        "    raise ValueError(\"String cannot be empty\")\n",
        "  evens = []\n",
        "\n",
        "  return [number for number in numbers if number % 2 == 0]\n",
        "\n",
        "filter_even_numbers([1, 2, 3, 4, 5])\n"
      ],
      "metadata": {
        "colab": {
          "base_uri": "https://localhost:8080/"
        },
        "id": "lJbUwOMhc4sh",
        "outputId": "0f5e7238-6b83-4459-a62e-c63e1e64b246"
      },
      "execution_count": null,
      "outputs": [
        {
          "output_type": "execute_result",
          "data": {
            "text/plain": [
              "[2, 4]"
            ]
          },
          "metadata": {},
          "execution_count": 6
        }
      ]
    },
    {
      "cell_type": "markdown",
      "source": [
        "26. **Função para Concatenar Arrays**:\n",
        "    - Crie uma função chamada `concatenarArrays` que receba dois arrays como argumentos e retorne um novo array que seja a concatenação dos dois arrays."
      ],
      "metadata": {
        "id": "3jaw-V23dolF"
      }
    },
    {
      "cell_type": "code",
      "source": [
        "def concat_arrays(array1: list, array2: list) -> list:\n",
        "  if not array1 or not array2:\n",
        "    raise ValueError(\"String cannot be empty\")\n",
        "\n",
        "  return array1 + array2\n",
        "\n",
        "concat_arrays([1, 2, 3], [4, 5, 6])"
      ],
      "metadata": {
        "colab": {
          "base_uri": "https://localhost:8080/"
        },
        "id": "S2MftTjjdsok",
        "outputId": "46752cdd-6f0a-4036-90f9-27cfe86f9838"
      },
      "execution_count": null,
      "outputs": [
        {
          "output_type": "execute_result",
          "data": {
            "text/plain": [
              "[1, 2, 3, 4, 5, 6]"
            ]
          },
          "metadata": {},
          "execution_count": 7
        }
      ]
    },
    {
      "cell_type": "markdown",
      "source": [
        "27. **Função de Memoização para Fatorial**:\n",
        "    - Crie uma função chamada `memoFatorial` que usa memoização para otimizar o cálculo do fatorial."
      ],
      "metadata": {
        "id": "EWUkdjrud-n4"
      }
    },
    {
      "cell_type": "code",
      "source": [
        "import time\n",
        "\n",
        "def timeit(func):\n",
        "    def wrapper(*args, **kwargs):\n",
        "        start = time.time()\n",
        "        result = func(*args, **kwargs)\n",
        "        end = time.time()\n",
        "        print(f\"{func.__name__} took {end - start:.6f} seconds to execute.\")\n",
        "        return result\n",
        "    return wrapper\n",
        "\n",
        "\n",
        "def memoize(func):\n",
        "    cache = {}\n",
        "    def wrapper(*args):\n",
        "        if args not in cache:\n",
        "            cache[args] = func(*args)\n",
        "            # print(cache[args])\n",
        "        return cache[args]\n",
        "    return wrapper\n",
        "\n",
        "\n",
        "@timeit\n",
        "@memoize\n",
        "def memo_factorial(n: int) -> int:\n",
        "  if n < 0:\n",
        "    raise ValueError(\"Invalid arguments\")\n",
        "  elif n == 0:\n",
        "    return 1\n",
        "  else:\n",
        "    return n * memo_factorial(n - 1)\n",
        "\n",
        "\n",
        "try:\n",
        "  print(memo_factorial(5))\n",
        "  print(memo_factorial(5))\n",
        "except ValueError as e:\n",
        "  print(e)\n",
        "\n"
      ],
      "metadata": {
        "colab": {
          "base_uri": "https://localhost:8080/"
        },
        "id": "wyUGjIpXd_B8",
        "outputId": "081bae75-23af-4bbc-eb3e-2bd0261df6ba"
      },
      "execution_count": null,
      "outputs": [
        {
          "output_type": "stream",
          "name": "stdout",
          "text": [
            "wrapper took 0.000002 seconds to execute.\n",
            "wrapper took 0.000103 seconds to execute.\n",
            "wrapper took 0.000136 seconds to execute.\n",
            "wrapper took 0.000167 seconds to execute.\n",
            "wrapper took 0.000204 seconds to execute.\n",
            "wrapper took 0.000233 seconds to execute.\n",
            "120\n",
            "wrapper took 0.000001 seconds to execute.\n",
            "120\n"
          ]
        }
      ]
    },
    {
      "cell_type": "markdown",
      "source": [
        "28. **Função para Verificar Substring**:\n",
        "    - Crie uma função chamada `contemSubstring` que receba duas strings como argumentos e retorne `true` se a primeira string contiver a segunda string, e `false` caso contrário.\n"
      ],
      "metadata": {
        "id": "hTUMP8YbnqYZ"
      }
    },
    {
      "cell_type": "code",
      "source": [
        "def contains_substring(string1: str, string2: str) -> bool:\n",
        "  if not string1 or not string2:\n",
        "    raise ValueError(\"String cannot be empty\")\n",
        "\n",
        "  return string2 in string1\n",
        "\n",
        "string = \"Verificando se a substring está presente na string\"\n",
        "string2 = \"substring2\"\n",
        "\n",
        "try:\n",
        "  print(contains_substring(string1=string, string2=string2))\n",
        "except ValueError as e:\n",
        "  print(e)"
      ],
      "metadata": {
        "colab": {
          "base_uri": "https://localhost:8080/"
        },
        "id": "9CMu7dX4nrF-",
        "outputId": "08358f43-f4c9-474f-af1e-b779610c188d"
      },
      "execution_count": null,
      "outputs": [
        {
          "output_type": "stream",
          "name": "stdout",
          "text": [
            "False\n"
          ]
        }
      ]
    },
    {
      "cell_type": "markdown",
      "source": [],
      "metadata": {
        "id": "VUmtFjj7pxu1"
      }
    },
    {
      "cell_type": "markdown",
      "source": [
        "29. **Função de Curry**:\n",
        "    - Crie uma função chamada `currySoma` que usa currying para somar três números. A função deve ser chamada assim: `currySoma(a)(b)(c)"
      ],
      "metadata": {
        "id": "5lr9-VzJqEIW"
      }
    },
    {
      "cell_type": "code",
      "source": [
        "def curry_sum(a: int):\n",
        "  def b_add(b: int):\n",
        "    def c_add(c: int):\n",
        "      return a + b + c\n",
        "    return c_add\n",
        "  return b_add\n",
        "\n",
        "\n",
        "curry_sum(1)(2)(3)\n",
        "\n"
      ],
      "metadata": {
        "colab": {
          "base_uri": "https://localhost:8080/"
        },
        "id": "hDYdRfxKqFvD",
        "outputId": "86e991ec-d3ff-432f-cb17-df19e110fba7"
      },
      "execution_count": null,
      "outputs": [
        {
          "output_type": "execute_result",
          "data": {
            "text/plain": [
              "6"
            ]
          },
          "metadata": {},
          "execution_count": 26
        }
      ]
    },
    {
      "cell_type": "markdown",
      "source": [
        "30. **Função para Reduzir um Array**:\n",
        "    - Crie uma função chamada `reduzirArray` que receba um array de números e uma função de redução (callback) como argumentos e retorne o valor reduzido."
      ],
      "metadata": {
        "id": "HYGbW_gIuMes"
      }
    },
    {
      "cell_type": "code",
      "source": [
        "def is_lambda(func):\n",
        "  try:\n",
        "    return func.__name__ == '<lambda>'\n",
        "  except AttributeError:\n",
        "    return False\n",
        "\n",
        "def reduce_array(array:list, callback, **kwargs):\n",
        "  \"\"\"\n",
        "\n",
        "  Args:\n",
        "    array: list of numbers\n",
        "    callback: function to reduce the array\n",
        "    **kwargs: size of the array to reduce\n",
        "\n",
        "  Returns: list: reduced array\n",
        "\n",
        "  \"\"\"\n",
        "  if not array:\n",
        "    raise ValueError(\"String cannot be empty\")\n",
        "\n",
        "  if is_lambda(callback):\n",
        "    return callback(array)\n",
        "\n",
        "  if 'size' in kwargs:\n",
        "    return callback(array, kwargs['size'])\n",
        "\n",
        "  return False\n",
        "\n",
        "\n",
        "\n",
        "def reduce_callback(array: list, size: int) -> list:\n",
        "\n",
        "  if len(array) < size:\n",
        "    raise ValueError(\"Unable to reduce value to be reduced greater than array size\")\n",
        "\n",
        "  return array[:size]\n",
        "\n",
        "\n",
        "\n",
        "\n",
        "array = [1,2,3,4,5]\n",
        "print(reduce_array(array, lambda array: array[:3]))\n",
        "array = [1,2,3,4,5]\n",
        "print(reduce_array(array, reduce_callback, size=3))\n"
      ],
      "metadata": {
        "colab": {
          "base_uri": "https://localhost:8080/"
        },
        "id": "O6PTJ_kuuVz1",
        "outputId": "a0f5954f-a715-42e6-972d-c5c3ac635ccf"
      },
      "execution_count": 9,
      "outputs": [
        {
          "output_type": "stream",
          "name": "stdout",
          "text": [
            "[1, 2, 3]\n",
            "[1, 2, 3]\n"
          ]
        }
      ]
    },
    {
      "cell_type": "markdown",
      "source": [
        "31. **Função para Remover Duplicatas de um Array**:\n",
        "    - Crie uma função chamada `removerDuplicatas` que receba um array como argumento e retorne um novo array sem duplicatas."
      ],
      "metadata": {
        "id": "Ha0umRwZwdqO"
      }
    },
    {
      "cell_type": "code",
      "source": [
        "def remove_duplicates(array: list) -> list:\n",
        "  if not array:\n",
        "    raise ValueError(\"String cannot be empty\")\n",
        "\n",
        "  return list(set(array))\n",
        "\n",
        "remove_duplicates([1,1,2,2,3,3,4,4,5,5])"
      ],
      "metadata": {
        "colab": {
          "base_uri": "https://localhost:8080/"
        },
        "id": "K4bIgHUwwkYU",
        "outputId": "af382c3a-35c9-4fe7-f1f9-fd244d99c3f5"
      },
      "execution_count": null,
      "outputs": [
        {
          "output_type": "execute_result",
          "data": {
            "text/plain": [
              "[1, 2, 3, 4, 5]"
            ]
          },
          "metadata": {},
          "execution_count": 30
        }
      ]
    },
    {
      "cell_type": "markdown",
      "source": [
        "32. **Função de Composição**:\n",
        "    - Crie uma função chamada `compor` que receba duas funções como argumentos e retorne uma nova função que é a composição das duas."
      ],
      "metadata": {
        "id": "n5-vw4qgw1CI"
      }
    },
    {
      "cell_type": "code",
      "source": [
        "def compose(funcs1, func2):\n",
        "  return lambda x: funcs1(func2(x))\n",
        "\n",
        "def compose2(*args):\n",
        "  def wrapper(x):\n",
        "    for func in args:\n",
        "      x = func(x)\n",
        "    return x\n",
        "  return wrapper\n",
        "\n",
        "\n",
        "compose(lambda x: x + 1, lambda x: x * 2)(5)\n",
        "compose(lambda x: x + 1, lambda x: x * 2)(5)\n",
        "\n",
        "compose2(lambda x: x + 1, lambda x: x * 2)(5)\n"
      ],
      "metadata": {
        "colab": {
          "base_uri": "https://localhost:8080/"
        },
        "id": "3yO9UxRjw6h6",
        "outputId": "f8d4eec1-50f3-40a0-d895-ed1baa4af62d"
      },
      "execution_count": null,
      "outputs": [
        {
          "output_type": "execute_result",
          "data": {
            "text/plain": [
              "12"
            ]
          },
          "metadata": {},
          "execution_count": 37
        }
      ]
    },
    {
      "cell_type": "markdown",
      "source": [
        "33. **Função para Mapear um Array**:\n",
        "    - Crie uma função chamada `mapearArray` que receba um array e uma função de mapeamento (callback) como argumentos e retorne um novo array com os resultados da função de mapeamento aplicada a cada elemento.\n"
      ],
      "metadata": {
        "id": "pw0Yh-UI6Pd4"
      }
    },
    {
      "cell_type": "code",
      "source": [
        "def map_array(array: list, callback) -> list:\n",
        "  if not array:\n",
        "    raise ValueError(\"String cannot be empty\")\n",
        "\n",
        "  return list(map(callback, array))\n",
        "\n",
        "def map_array2(array: list, callback) -> list:\n",
        "  if not array:\n",
        "    raise ValueError(\"String cannot be empty\")\n",
        "\n",
        "  return [callback(x) for x in array]\n",
        "\n",
        "\n",
        "\n",
        "def map_array3(array: list, callback) -> list:\n",
        "  if not array:\n",
        "    raise ValueError(\"String cannot be empty\")\n",
        "\n",
        "  def wrapper(array):\n",
        "    return [callback(x) for x in array]\n",
        "  return wrapper(array)\n",
        "\n",
        "\n",
        "array = [1,2,3,4,5]\n",
        "\n",
        "print(list(map_array(array, lambda x: x * 2)))\n",
        "print(map_array2(array, lambda x: x * 2))\n",
        "print(map_array3(array, lambda x: x * 2))"
      ],
      "metadata": {
        "colab": {
          "base_uri": "https://localhost:8080/"
        },
        "id": "Wxzteirz6QHl",
        "outputId": "a83f569b-a3f5-470b-dab2-968c4cdecf3c"
      },
      "execution_count": null,
      "outputs": [
        {
          "output_type": "stream",
          "name": "stdout",
          "text": [
            "[2, 4, 6, 8, 10]\n",
            "[2, 4, 6, 8, 10]\n",
            "[2, 4, 6, 8, 10]\n"
          ]
        }
      ]
    },
    {
      "cell_type": "markdown",
      "source": [
        "34. **Função de Ordenação Personalizada**:\n",
        "    - Crie uma função chamada `ordenarPersonalizado` que receba um array de objetos e uma função de comparação (callback) como argumentos e retorne o array ordenado."
      ],
      "metadata": {
        "id": "dGuacsZC8IzR"
      }
    },
    {
      "cell_type": "markdown",
      "source": [],
      "metadata": {
        "id": "7zCXVl9l54rt"
      }
    },
    {
      "cell_type": "code",
      "source": [
        "''''\n",
        "https://docs.python.org/3/howto/sorting.html\n",
        "\n",
        "'''\n",
        "\n",
        "def order_persolized(array: list, callback) -> list:\n",
        "  if not array:\n",
        "    raise ValueError(\"String cannot be empty\")\n",
        "\n",
        "  return sorted(array, key=callback)\n",
        "\n",
        "array = \"This is a test string from Andrew\".split()\n",
        "\n",
        "print(order_persolized(array, str.casefold))\n",
        "\n",
        "\n",
        "## Example 2\n",
        "\n",
        "def order_persolized2(array:list, callback) -> list:\n",
        "  if not array:\n",
        "    raise ValueError(\"String cannot be empty\")\n",
        "\n",
        "  return sorted(array, callback)\n",
        "\n",
        "array2 = [1,4,6,5]\n",
        "# não faz sentido para array de numeros inteiros(Experimento)\n",
        "print(order_persolized(array=array2, callback=lambda x: x > 1))"
      ],
      "metadata": {
        "colab": {
          "base_uri": "https://localhost:8080/"
        },
        "id": "GyyF-XvX8Jzq",
        "outputId": "61abe2a7-2521-4368-b9cb-cf08a52031cb"
      },
      "execution_count": null,
      "outputs": [
        {
          "output_type": "stream",
          "name": "stdout",
          "text": [
            "['a', 'Andrew', 'from', 'is', 'string', 'test', 'This']\n",
            "[1, 4, 6, 5]\n"
          ]
        }
      ]
    }
  ]
}