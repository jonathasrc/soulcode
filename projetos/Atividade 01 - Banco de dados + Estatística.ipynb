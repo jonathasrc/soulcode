{
 "cells": [
  {
   "cell_type": "markdown",
   "id": "a6600cd2-6711-43e5-bac5-518f77baf78c",
   "metadata": {},
   "source": [
    "# 1. Introdução\n",
    "\n",
    "Objetivo: O objetivo deste projeto é montar um banco de dados SQL na plataforma\n",
    "Google Cloud Platform (GCP), consumir essa base no Google Colab e transformá-la\n",
    "em DataFrames para análise de dados. O tratamento dos dados será realizado \n",
    "conforme necessário, e técnicas estatísticas serão aplicadas para suportar\n",
    "decisões informadas."
   ]
  },
  {
   "cell_type": "markdown",
   "id": "c246961f-c657-4614-ba41-f4be66f8235d",
   "metadata": {},
   "source": [
    "# 2. Arquitetura\n",
    "\n",
    "Este projeto consiste em três partes principais:\n",
    "\n",
    "    1. Montvalor_aluguelm do banco de dados no GCP.\n",
    "    2. Consumo da base no Google Colab e transformação em DataFrames.\n",
    "    3. Tratamento de dados e análise estatística."
   ]
  },
  {
   "cell_type": "markdown",
   "id": "99c720cc-1990-453e-8fa7-8288d813c6da",
   "metadata": {},
   "source": [
    "# 3. Passos para Montar o Banco de Dados no GCP"
   ]
  },
  {
   "cell_type": "markdown",
   "id": "6ad540f7-fe02-41d2-b47b-14595760d035",
   "metadata": {},
   "source": [
    "## 3.1. Criação do Banco de Dados SQL no GCP\n",
    "\n",
    "1. Acesse o Google Cloud Console.\n",
    "2. Navegue até a seção Cloud SQL e crie uma nova instância.\n",
    "3. Escolha a versão do banco de dados (MySQL, PostgreSQL, etc.).\n",
    "4. Importe a base de dados SQL fornecida, utilizando o comando de importação disponível no console ou por meio de gcloud\n",
    "\n",
    "   ```bash\n",
    "    gcloud auth login --no-launch-browser\n",
    "    gcloud sql import sql mysql-soulcode gs://soulcode-analytics-data-bootcamp/projeto_logistica.sql\n",
    "    ```\n",
    "   "
   ]
  },
  {
   "cell_type": "code",
   "execution_count": 89,
   "id": "90844658-dfd9-4949-8e06-7bbd4be63744",
   "metadata": {},
   "outputs": [],
   "source": [
    "import os\n",
    "import io\n",
    "import math\n",
    "import numpy as np\n",
    "import pandas as pd\n",
    "import mysql.connector\n",
    "from mysql.connector import Error\n",
    "from google.cloud import storage\n",
    "from pyspark.sql import DataFrame, SparkSession\n",
    "from unidecode import unidecode\n",
    "\n",
    "from scipy import stats\n",
    "\n",
    "from sqlalchemy import Column, Integer, Float, String, Boolean, DateTime, Text\n",
    "from sqlalchemy.orm import declarative_base\n",
    "\n",
    "import matplotlib.pyplot as plt\n",
    "import seaborn as sns"
   ]
  },
  {
   "cell_type": "code",
   "execution_count": 2,
   "id": "c2f0fea9-e605-4b24-8986-17805dd6e3c7",
   "metadata": {},
   "outputs": [],
   "source": [
    "# credentials_path = \"/home/jovyan/code/.devcontainer/soulcode-iam-key.json\"\n",
    "# os.environ[\"GOOGLE_APPLICATION_CREDENTIALS\"] = credentials_path"
   ]
  },
  {
   "cell_type": "markdown",
   "id": "ea8c05c6-93d9-4f51-a24d-235ee8ddb244",
   "metadata": {},
   "source": [
    "# 5. Consumindo o Banco de Dados no Google Colab"
   ]
  },
  {
   "cell_type": "markdown",
   "id": "f537ec87-d36b-4c8b-8bdc-182a8794aeff",
   "metadata": {},
   "source": [
    "# 5.1. Database Locadora"
   ]
  },
  {
   "cell_type": "markdown",
   "id": "e0b5f24b-4f87-485d-8e50-498d39ccfa44",
   "metadata": {},
   "source": [
    "### 5.1.1 Configuração do Ambiente"
   ]
  },
  {
   "cell_type": "markdown",
   "id": "f1f59cab-de16-4c7c-a9d4-ed09a0d9796a",
   "metadata": {},
   "source": [
    "1. Configure a conexão com o banco de dados no GCP"
   ]
  },
  {
   "cell_type": "code",
   "execution_count": 3,
   "id": "e0c0b1ec-e419-4d3a-9730-4f0514144299",
   "metadata": {},
   "outputs": [],
   "source": [
    "HOST = '34.16.33.165'\n",
    "DB = 'locadora'\n",
    "USER = 'soulcode'\n",
    "PASSWORD = 'Soulcode@!12pass'"
   ]
  },
  {
   "cell_type": "code",
   "execution_count": 4,
   "id": "e1110fb7-8a34-4ea6-83ba-ad0c990e945f",
   "metadata": {},
   "outputs": [],
   "source": [
    "from sqlalchemy import create_engine\n",
    "from urllib.parse import quote_plus\n",
    "\n",
    "engine = create_engine(f'mysql+pymysql://{USER}:{quote_plus(PASSWORD)}@{HOST}/{DB}')\n",
    "connection = engine.connect()"
   ]
  },
  {
   "cell_type": "markdown",
   "id": "3a00f666-aa43-440a-9424-1d02d85ccd6c",
   "metadata": {},
   "source": [
    "## 5.1.2 Transformação em DataFrames Pandas"
   ]
  },
  {
   "cell_type": "code",
   "execution_count": 5,
   "id": "88279b74-3329-435a-95ab-9dd073aa7380",
   "metadata": {},
   "outputs": [
    {
     "data": {
      "text/html": [
       "<div>\n",
       "<style scoped>\n",
       "    .dataframe tbody tr th:only-of-type {\n",
       "        vertical-align: middle;\n",
       "    }\n",
       "\n",
       "    .dataframe tbody tr th {\n",
       "        vertical-align: top;\n",
       "    }\n",
       "\n",
       "    .dataframe thead th {\n",
       "        text-align: right;\n",
       "    }\n",
       "</style>\n",
       "<table border=\"1\" class=\"dataframe\">\n",
       "  <thead>\n",
       "    <tr style=\"text-align: right;\">\n",
       "      <th></th>\n",
       "      <th>codigo_aluguel</th>\n",
       "      <th>data_aluguel</th>\n",
       "      <th>nome_cliente</th>\n",
       "      <th>cidade_cliente</th>\n",
       "      <th>sexo_cliente</th>\n",
       "      <th>estado_cliente</th>\n",
       "      <th>estadocivil_cliente</th>\n",
       "      <th>modelo_carro</th>\n",
       "      <th>valor_aluguel</th>\n",
       "      <th>marca_carro</th>\n",
       "    </tr>\n",
       "  </thead>\n",
       "  <tbody>\n",
       "    <tr>\n",
       "      <th>0</th>\n",
       "      <td>2</td>\n",
       "      <td>2023-04-02</td>\n",
       "      <td>Bruna Pereira</td>\n",
       "      <td>Niterói</td>\n",
       "      <td>F</td>\n",
       "      <td>RJ</td>\n",
       "      <td>C</td>\n",
       "      <td>Ka</td>\n",
       "      <td>100.0</td>\n",
       "      <td>Ford</td>\n",
       "    </tr>\n",
       "    <tr>\n",
       "      <th>1</th>\n",
       "      <td>3</td>\n",
       "      <td>2023-04-03</td>\n",
       "      <td>Bruna Pereira</td>\n",
       "      <td>Niterói</td>\n",
       "      <td>F</td>\n",
       "      <td>RJ</td>\n",
       "      <td>C</td>\n",
       "      <td>Ka</td>\n",
       "      <td>100.0</td>\n",
       "      <td>Ford</td>\n",
       "    </tr>\n",
       "    <tr>\n",
       "      <th>2</th>\n",
       "      <td>7</td>\n",
       "      <td>2023-04-15</td>\n",
       "      <td>Ana Silva</td>\n",
       "      <td>Duque de Caxias</td>\n",
       "      <td>F</td>\n",
       "      <td>RJ</td>\n",
       "      <td>C</td>\n",
       "      <td>Ka</td>\n",
       "      <td>100.0</td>\n",
       "      <td>Ford</td>\n",
       "    </tr>\n",
       "    <tr>\n",
       "      <th>3</th>\n",
       "      <td>10</td>\n",
       "      <td>2023-04-25</td>\n",
       "      <td>Túlio Nascimento</td>\n",
       "      <td>Duque de Caxias</td>\n",
       "      <td>M</td>\n",
       "      <td>RJ</td>\n",
       "      <td>S</td>\n",
       "      <td>Ka</td>\n",
       "      <td>100.0</td>\n",
       "      <td>Ford</td>\n",
       "    </tr>\n",
       "    <tr>\n",
       "      <th>4</th>\n",
       "      <td>1</td>\n",
       "      <td>2023-04-01</td>\n",
       "      <td>Túlio Nascimento</td>\n",
       "      <td>Duque de Caxias</td>\n",
       "      <td>M</td>\n",
       "      <td>RJ</td>\n",
       "      <td>S</td>\n",
       "      <td>Argo</td>\n",
       "      <td>150.0</td>\n",
       "      <td>Fiat</td>\n",
       "    </tr>\n",
       "    <tr>\n",
       "      <th>5</th>\n",
       "      <td>8</td>\n",
       "      <td>2023-04-19</td>\n",
       "      <td>Lúcia Andrade</td>\n",
       "      <td>São Paulo</td>\n",
       "      <td>F</td>\n",
       "      <td>SP</td>\n",
       "      <td>C</td>\n",
       "      <td>Argo</td>\n",
       "      <td>150.0</td>\n",
       "      <td>Fiat</td>\n",
       "    </tr>\n",
       "    <tr>\n",
       "      <th>6</th>\n",
       "      <td>9</td>\n",
       "      <td>2023-04-21</td>\n",
       "      <td>Lúcia Andrade</td>\n",
       "      <td>São Paulo</td>\n",
       "      <td>F</td>\n",
       "      <td>SP</td>\n",
       "      <td>C</td>\n",
       "      <td>Argo</td>\n",
       "      <td>150.0</td>\n",
       "      <td>Fiat</td>\n",
       "    </tr>\n",
       "    <tr>\n",
       "      <th>7</th>\n",
       "      <td>4</td>\n",
       "      <td>2023-04-04</td>\n",
       "      <td>Bruna Pereira</td>\n",
       "      <td>Niterói</td>\n",
       "      <td>F</td>\n",
       "      <td>RJ</td>\n",
       "      <td>C</td>\n",
       "      <td>Onix</td>\n",
       "      <td>170.0</td>\n",
       "      <td>Chevrolet</td>\n",
       "    </tr>\n",
       "    <tr>\n",
       "      <th>8</th>\n",
       "      <td>5</td>\n",
       "      <td>2023-04-05</td>\n",
       "      <td>Ana Silva</td>\n",
       "      <td>Duque de Caxias</td>\n",
       "      <td>F</td>\n",
       "      <td>RJ</td>\n",
       "      <td>C</td>\n",
       "      <td>Polo</td>\n",
       "      <td>150.0</td>\n",
       "      <td>Volkswagen</td>\n",
       "    </tr>\n",
       "    <tr>\n",
       "      <th>9</th>\n",
       "      <td>6</td>\n",
       "      <td>2023-04-13</td>\n",
       "      <td>Ana Silva</td>\n",
       "      <td>Duque de Caxias</td>\n",
       "      <td>F</td>\n",
       "      <td>RJ</td>\n",
       "      <td>C</td>\n",
       "      <td>Polo</td>\n",
       "      <td>150.0</td>\n",
       "      <td>Volkswagen</td>\n",
       "    </tr>\n",
       "  </tbody>\n",
       "</table>\n",
       "</div>"
      ],
      "text/plain": [
       "   codigo_aluguel data_aluguel      nome_cliente   cidade_cliente  \\\n",
       "0               2   2023-04-02     Bruna Pereira          Niterói   \n",
       "1               3   2023-04-03     Bruna Pereira          Niterói   \n",
       "2               7   2023-04-15         Ana Silva  Duque de Caxias   \n",
       "3              10   2023-04-25  Túlio Nascimento  Duque de Caxias   \n",
       "4               1   2023-04-01  Túlio Nascimento  Duque de Caxias   \n",
       "5               8   2023-04-19     Lúcia Andrade        São Paulo   \n",
       "6               9   2023-04-21     Lúcia Andrade        São Paulo   \n",
       "7               4   2023-04-04     Bruna Pereira          Niterói   \n",
       "8               5   2023-04-05         Ana Silva  Duque de Caxias   \n",
       "9               6   2023-04-13         Ana Silva  Duque de Caxias   \n",
       "\n",
       "  sexo_cliente estado_cliente estadocivil_cliente modelo_carro  valor_aluguel  \\\n",
       "0            F             RJ                   C           Ka          100.0   \n",
       "1            F             RJ                   C           Ka          100.0   \n",
       "2            F             RJ                   C           Ka          100.0   \n",
       "3            M             RJ                   S           Ka          100.0   \n",
       "4            M             RJ                   S         Argo          150.0   \n",
       "5            F             SP                   C         Argo          150.0   \n",
       "6            F             SP                   C         Argo          150.0   \n",
       "7            F             RJ                   C         Onix          170.0   \n",
       "8            F             RJ                   C         Polo          150.0   \n",
       "9            F             RJ                   C         Polo          150.0   \n",
       "\n",
       "  marca_carro  \n",
       "0        Ford  \n",
       "1        Ford  \n",
       "2        Ford  \n",
       "3        Ford  \n",
       "4        Fiat  \n",
       "5        Fiat  \n",
       "6        Fiat  \n",
       "7   Chevrolet  \n",
       "8  Volkswagen  \n",
       "9  Volkswagen  "
      ]
     },
     "execution_count": 5,
     "metadata": {},
     "output_type": "execute_result"
    }
   ],
   "source": [
    "query = \"\"\"SELECT\n",
    "    a.codaluguel AS codigo_aluguel,\n",
    "    a.data_aluguel AS data_aluguel,\n",
    "    c.nome AS nome_cliente,\n",
    "    c.cidade AS cidade_cliente,\n",
    "    c.sexo AS sexo_cliente,\n",
    "    c.estado AS estado_cliente,\n",
    "    c.estadocivil AS estadocivil_cliente,\n",
    "    car.modelo AS modelo_carro,\n",
    "    car.valor AS valor_aluguel,\n",
    "    m.marca AS marca_carro\n",
    "FROM\n",
    "    aluguel a\n",
    "INNER JOIN cliente c ON a.codcliente = c.codcliente\n",
    "INNER JOIN carro car ON a.codcarro = car.codcarro\n",
    "INNER JOIN marca m ON car.codmarca = m.codmarca;\"\"\"\n",
    "\n",
    "df = pd.read_sql(query, connection)\n",
    "df"
   ]
  },
  {
   "cell_type": "markdown",
   "id": "5624aaba-a1cc-43e2-baa0-d6f7ea23657b",
   "metadata": {},
   "source": [
    "## 5.1.3. Tratamento de Dados"
   ]
  },
  {
   "cell_type": "markdown",
   "id": "08331677-aaa1-4bbf-9f4e-60340db96b9f",
   "metadata": {},
   "source": [
    "**Analisando o dataset**"
   ]
  },
  {
   "cell_type": "markdown",
   "id": "f4e6118c-88e2-4040-b361-791c751f69a7",
   "metadata": {},
   "source": [
    "Dimensão do dataset:"
   ]
  },
  {
   "cell_type": "code",
   "execution_count": 20,
   "id": "d8d4cba0-273d-4d16-8126-4288ffde3875",
   "metadata": {},
   "outputs": [
    {
     "data": {
      "text/plain": [
       "(10, 10)"
      ]
     },
     "execution_count": 20,
     "metadata": {},
     "output_type": "execute_result"
    }
   ],
   "source": [
    "df.shape"
   ]
  },
  {
   "cell_type": "markdown",
   "id": "fbb31b75-9945-4d51-8824-80100d9a4afb",
   "metadata": {},
   "source": [
    "Verificação de dados faltantes:"
   ]
  },
  {
   "cell_type": "code",
   "execution_count": 22,
   "id": "e3cf555f-299f-4afd-90e9-eb02e5c609dc",
   "metadata": {},
   "outputs": [
    {
     "data": {
      "text/plain": [
       "codigo_aluguel         0\n",
       "data_aluguel           0\n",
       "nome_cliente           0\n",
       "cidade_cliente         0\n",
       "sexo_cliente           0\n",
       "estado_cliente         0\n",
       "estadocivil_cliente    0\n",
       "modelo_carro           0\n",
       "valor_aluguel          0\n",
       "marca_carro            0\n",
       "dtype: int64"
      ]
     },
     "execution_count": 22,
     "metadata": {},
     "output_type": "execute_result"
    }
   ],
   "source": [
    "df.isnull().sum()"
   ]
  },
  {
   "cell_type": "markdown",
   "id": "4f1fa1f3-5fd9-454c-af97-de13fefb3102",
   "metadata": {},
   "source": [
    "Verficando informações sobre sobre dataframe incluindo index, tipo dos dados e\n",
    "colunas não nulas e uso da memoria"
   ]
  },
  {
   "cell_type": "code",
   "execution_count": 23,
   "id": "7ddce970-8f63-42e3-b808-5d510b960ea8",
   "metadata": {},
   "outputs": [
    {
     "name": "stdout",
     "output_type": "stream",
     "text": [
      "<class 'pandas.core.frame.DataFrame'>\n",
      "RangeIndex: 10 entries, 0 to 9\n",
      "Data columns (total 10 columns):\n",
      " #   Column               Non-Null Count  Dtype  \n",
      "---  ------               --------------  -----  \n",
      " 0   codigo_aluguel       10 non-null     int64  \n",
      " 1   data_aluguel         10 non-null     object \n",
      " 2   nome_cliente         10 non-null     object \n",
      " 3   cidade_cliente       10 non-null     object \n",
      " 4   sexo_cliente         10 non-null     object \n",
      " 5   estado_cliente       10 non-null     object \n",
      " 6   estadocivil_cliente  10 non-null     object \n",
      " 7   modelo_carro         10 non-null     object \n",
      " 8   valor_aluguel        10 non-null     float64\n",
      " 9   marca_carro          10 non-null     object \n",
      "dtypes: float64(1), int64(1), object(8)\n",
      "memory usage: 932.0+ bytes\n"
     ]
    }
   ],
   "source": [
    "df.info()"
   ]
  },
  {
   "cell_type": "markdown",
   "id": "f296215b-9e01-4549-9a8c-1566f6fa2bb3",
   "metadata": {},
   "source": [
    "Analisando o dataframe, para identificar o tipo que corresponde aos dados"
   ]
  },
  {
   "cell_type": "code",
   "execution_count": 46,
   "id": "606b4346-f7ad-44e4-ae1d-c254f13d503e",
   "metadata": {},
   "outputs": [
    {
     "data": {
      "text/html": [
       "<div>\n",
       "<style scoped>\n",
       "    .dataframe tbody tr th:only-of-type {\n",
       "        vertical-align: middle;\n",
       "    }\n",
       "\n",
       "    .dataframe tbody tr th {\n",
       "        vertical-align: top;\n",
       "    }\n",
       "\n",
       "    .dataframe thead th {\n",
       "        text-align: right;\n",
       "    }\n",
       "</style>\n",
       "<table border=\"1\" class=\"dataframe\">\n",
       "  <thead>\n",
       "    <tr style=\"text-align: right;\">\n",
       "      <th></th>\n",
       "      <th>codigo_aluguel</th>\n",
       "      <th>data_aluguel</th>\n",
       "      <th>nome_cliente</th>\n",
       "      <th>cidade_cliente</th>\n",
       "      <th>sexo_cliente</th>\n",
       "      <th>estado_cliente</th>\n",
       "      <th>estadocivil_cliente</th>\n",
       "      <th>modelo_carro</th>\n",
       "      <th>valor_aluguel</th>\n",
       "      <th>marca_carro</th>\n",
       "      <th>ano_aluguel</th>\n",
       "      <th>mes_aluguel</th>\n",
       "      <th>dia_aluguel</th>\n",
       "    </tr>\n",
       "  </thead>\n",
       "  <tbody>\n",
       "    <tr>\n",
       "      <th>0</th>\n",
       "      <td>2</td>\n",
       "      <td>2023-04-02</td>\n",
       "      <td>Bruna Pereira</td>\n",
       "      <td>Niterói</td>\n",
       "      <td>F</td>\n",
       "      <td>RJ</td>\n",
       "      <td>C</td>\n",
       "      <td>Ka</td>\n",
       "      <td>100.0</td>\n",
       "      <td>Ford</td>\n",
       "      <td>2023</td>\n",
       "      <td>4</td>\n",
       "      <td>2</td>\n",
       "    </tr>\n",
       "    <tr>\n",
       "      <th>1</th>\n",
       "      <td>3</td>\n",
       "      <td>2023-04-03</td>\n",
       "      <td>Bruna Pereira</td>\n",
       "      <td>Niterói</td>\n",
       "      <td>F</td>\n",
       "      <td>RJ</td>\n",
       "      <td>C</td>\n",
       "      <td>Ka</td>\n",
       "      <td>100.0</td>\n",
       "      <td>Ford</td>\n",
       "      <td>2023</td>\n",
       "      <td>4</td>\n",
       "      <td>3</td>\n",
       "    </tr>\n",
       "    <tr>\n",
       "      <th>2</th>\n",
       "      <td>7</td>\n",
       "      <td>2023-04-15</td>\n",
       "      <td>Ana Silva</td>\n",
       "      <td>Duque de Caxias</td>\n",
       "      <td>F</td>\n",
       "      <td>RJ</td>\n",
       "      <td>C</td>\n",
       "      <td>Ka</td>\n",
       "      <td>100.0</td>\n",
       "      <td>Ford</td>\n",
       "      <td>2023</td>\n",
       "      <td>4</td>\n",
       "      <td>15</td>\n",
       "    </tr>\n",
       "    <tr>\n",
       "      <th>3</th>\n",
       "      <td>10</td>\n",
       "      <td>2023-04-25</td>\n",
       "      <td>Túlio Nascimento</td>\n",
       "      <td>Duque de Caxias</td>\n",
       "      <td>M</td>\n",
       "      <td>RJ</td>\n",
       "      <td>S</td>\n",
       "      <td>Ka</td>\n",
       "      <td>100.0</td>\n",
       "      <td>Ford</td>\n",
       "      <td>2023</td>\n",
       "      <td>4</td>\n",
       "      <td>25</td>\n",
       "    </tr>\n",
       "    <tr>\n",
       "      <th>4</th>\n",
       "      <td>1</td>\n",
       "      <td>2023-04-01</td>\n",
       "      <td>Túlio Nascimento</td>\n",
       "      <td>Duque de Caxias</td>\n",
       "      <td>M</td>\n",
       "      <td>RJ</td>\n",
       "      <td>S</td>\n",
       "      <td>Argo</td>\n",
       "      <td>150.0</td>\n",
       "      <td>Fiat</td>\n",
       "      <td>2023</td>\n",
       "      <td>4</td>\n",
       "      <td>1</td>\n",
       "    </tr>\n",
       "  </tbody>\n",
       "</table>\n",
       "</div>"
      ],
      "text/plain": [
       "   codigo_aluguel data_aluguel      nome_cliente   cidade_cliente  \\\n",
       "0               2   2023-04-02     Bruna Pereira          Niterói   \n",
       "1               3   2023-04-03     Bruna Pereira          Niterói   \n",
       "2               7   2023-04-15         Ana Silva  Duque de Caxias   \n",
       "3              10   2023-04-25  Túlio Nascimento  Duque de Caxias   \n",
       "4               1   2023-04-01  Túlio Nascimento  Duque de Caxias   \n",
       "\n",
       "  sexo_cliente estado_cliente estadocivil_cliente modelo_carro  valor_aluguel  \\\n",
       "0            F             RJ                   C           Ka          100.0   \n",
       "1            F             RJ                   C           Ka          100.0   \n",
       "2            F             RJ                   C           Ka          100.0   \n",
       "3            M             RJ                   S           Ka          100.0   \n",
       "4            M             RJ                   S         Argo          150.0   \n",
       "\n",
       "  marca_carro  ano_aluguel  mes_aluguel  dia_aluguel  \n",
       "0        Ford         2023            4            2  \n",
       "1        Ford         2023            4            3  \n",
       "2        Ford         2023            4           15  \n",
       "3        Ford         2023            4           25  \n",
       "4        Fiat         2023            4            1  "
      ]
     },
     "execution_count": 46,
     "metadata": {},
     "output_type": "execute_result"
    }
   ],
   "source": [
    "df.head()"
   ]
  },
  {
   "cell_type": "code",
   "execution_count": 45,
   "id": "ae84f782-1245-4880-86c3-0f9ba118a8d1",
   "metadata": {},
   "outputs": [
    {
     "data": {
      "text/html": [
       "<div>\n",
       "<style scoped>\n",
       "    .dataframe tbody tr th:only-of-type {\n",
       "        vertical-align: middle;\n",
       "    }\n",
       "\n",
       "    .dataframe tbody tr th {\n",
       "        vertical-align: top;\n",
       "    }\n",
       "\n",
       "    .dataframe thead th {\n",
       "        text-align: right;\n",
       "    }\n",
       "</style>\n",
       "<table border=\"1\" class=\"dataframe\">\n",
       "  <thead>\n",
       "    <tr style=\"text-align: right;\">\n",
       "      <th></th>\n",
       "      <th>codigo_aluguel</th>\n",
       "      <th>data_aluguel</th>\n",
       "      <th>nome_cliente</th>\n",
       "      <th>cidade_cliente</th>\n",
       "      <th>sexo_cliente</th>\n",
       "      <th>estado_cliente</th>\n",
       "      <th>estadocivil_cliente</th>\n",
       "      <th>modelo_carro</th>\n",
       "      <th>valor_aluguel</th>\n",
       "      <th>marca_carro</th>\n",
       "      <th>ano_aluguel</th>\n",
       "      <th>mes_aluguel</th>\n",
       "      <th>dia_aluguel</th>\n",
       "    </tr>\n",
       "  </thead>\n",
       "  <tbody>\n",
       "    <tr>\n",
       "      <th>5</th>\n",
       "      <td>8</td>\n",
       "      <td>2023-04-19</td>\n",
       "      <td>Lúcia Andrade</td>\n",
       "      <td>São Paulo</td>\n",
       "      <td>F</td>\n",
       "      <td>SP</td>\n",
       "      <td>C</td>\n",
       "      <td>Argo</td>\n",
       "      <td>150.0</td>\n",
       "      <td>Fiat</td>\n",
       "      <td>2023</td>\n",
       "      <td>4</td>\n",
       "      <td>19</td>\n",
       "    </tr>\n",
       "    <tr>\n",
       "      <th>6</th>\n",
       "      <td>9</td>\n",
       "      <td>2023-04-21</td>\n",
       "      <td>Lúcia Andrade</td>\n",
       "      <td>São Paulo</td>\n",
       "      <td>F</td>\n",
       "      <td>SP</td>\n",
       "      <td>C</td>\n",
       "      <td>Argo</td>\n",
       "      <td>150.0</td>\n",
       "      <td>Fiat</td>\n",
       "      <td>2023</td>\n",
       "      <td>4</td>\n",
       "      <td>21</td>\n",
       "    </tr>\n",
       "    <tr>\n",
       "      <th>7</th>\n",
       "      <td>4</td>\n",
       "      <td>2023-04-04</td>\n",
       "      <td>Bruna Pereira</td>\n",
       "      <td>Niterói</td>\n",
       "      <td>F</td>\n",
       "      <td>RJ</td>\n",
       "      <td>C</td>\n",
       "      <td>Onix</td>\n",
       "      <td>170.0</td>\n",
       "      <td>Chevrolet</td>\n",
       "      <td>2023</td>\n",
       "      <td>4</td>\n",
       "      <td>4</td>\n",
       "    </tr>\n",
       "    <tr>\n",
       "      <th>8</th>\n",
       "      <td>5</td>\n",
       "      <td>2023-04-05</td>\n",
       "      <td>Ana Silva</td>\n",
       "      <td>Duque de Caxias</td>\n",
       "      <td>F</td>\n",
       "      <td>RJ</td>\n",
       "      <td>C</td>\n",
       "      <td>Polo</td>\n",
       "      <td>150.0</td>\n",
       "      <td>Volkswagen</td>\n",
       "      <td>2023</td>\n",
       "      <td>4</td>\n",
       "      <td>5</td>\n",
       "    </tr>\n",
       "    <tr>\n",
       "      <th>9</th>\n",
       "      <td>6</td>\n",
       "      <td>2023-04-13</td>\n",
       "      <td>Ana Silva</td>\n",
       "      <td>Duque de Caxias</td>\n",
       "      <td>F</td>\n",
       "      <td>RJ</td>\n",
       "      <td>C</td>\n",
       "      <td>Polo</td>\n",
       "      <td>150.0</td>\n",
       "      <td>Volkswagen</td>\n",
       "      <td>2023</td>\n",
       "      <td>4</td>\n",
       "      <td>13</td>\n",
       "    </tr>\n",
       "  </tbody>\n",
       "</table>\n",
       "</div>"
      ],
      "text/plain": [
       "   codigo_aluguel data_aluguel   nome_cliente   cidade_cliente sexo_cliente  \\\n",
       "5               8   2023-04-19  Lúcia Andrade        São Paulo            F   \n",
       "6               9   2023-04-21  Lúcia Andrade        São Paulo            F   \n",
       "7               4   2023-04-04  Bruna Pereira          Niterói            F   \n",
       "8               5   2023-04-05      Ana Silva  Duque de Caxias            F   \n",
       "9               6   2023-04-13      Ana Silva  Duque de Caxias            F   \n",
       "\n",
       "  estado_cliente estadocivil_cliente modelo_carro  valor_aluguel marca_carro  \\\n",
       "5             SP                   C         Argo          150.0        Fiat   \n",
       "6             SP                   C         Argo          150.0        Fiat   \n",
       "7             RJ                   C         Onix          170.0   Chevrolet   \n",
       "8             RJ                   C         Polo          150.0  Volkswagen   \n",
       "9             RJ                   C         Polo          150.0  Volkswagen   \n",
       "\n",
       "   ano_aluguel  mes_aluguel  dia_aluguel  \n",
       "5         2023            4           19  \n",
       "6         2023            4           21  \n",
       "7         2023            4            4  \n",
       "8         2023            4            5  \n",
       "9         2023            4           13  "
      ]
     },
     "execution_count": 45,
     "metadata": {},
     "output_type": "execute_result"
    }
   ],
   "source": [
    "df.tail()"
   ]
  },
  {
   "cell_type": "markdown",
   "id": "4f72cc89-a47a-46db-bffe-58b7500060ae",
   "metadata": {},
   "source": [
    "Verificando colunas numéricas com valores zerados"
   ]
  },
  {
   "cell_type": "code",
   "execution_count": 27,
   "id": "f296aec8-38c9-4837-92b3-2249f35e0fd0",
   "metadata": {},
   "outputs": [
    {
     "data": {
      "text/plain": [
       "codigo_aluguel         0\n",
       "data_aluguel           0\n",
       "nome_cliente           0\n",
       "cidade_cliente         0\n",
       "sexo_cliente           0\n",
       "estado_cliente         0\n",
       "estadocivil_cliente    0\n",
       "modelo_carro           0\n",
       "valor_aluguel          0\n",
       "marca_carro            0\n",
       "dtype: int64"
      ]
     },
     "execution_count": 27,
     "metadata": {},
     "output_type": "execute_result"
    }
   ],
   "source": [
    "df.eq(0).sum()"
   ]
  },
  {
   "cell_type": "markdown",
   "id": "fb64a15a-e64b-46cc-bde3-7cdc0a4d00f1",
   "metadata": {},
   "source": [
    "Remover registro duplicados"
   ]
  },
  {
   "cell_type": "markdown",
   "id": "cfd999fa-d494-450e-bc97-c647830833f0",
   "metadata": {},
   "source": [
    "Deletar registro duplicados"
   ]
  },
  {
   "cell_type": "code",
   "execution_count": 36,
   "id": "f13ae7ce-73d3-4108-a8a9-0bd259d88138",
   "metadata": {},
   "outputs": [],
   "source": [
    "df = df.drop_duplicates()"
   ]
  },
  {
   "cell_type": "markdown",
   "id": "fd033ec3-7863-4e48-9d8f-7c54fd0f2f75",
   "metadata": {},
   "source": [
    " Conversão de Tipos de Dados"
   ]
  },
  {
   "cell_type": "code",
   "execution_count": 40,
   "id": "3f4dbdc2-aaff-41ef-8924-1bbe84bedc32",
   "metadata": {},
   "outputs": [],
   "source": [
    "df['data_aluguel'] = pd.to_datetime(df['data_aluguel'], errors='coerce')\n",
    "df['ano_aluguel'] = df['data_aluguel'].dt.year\n",
    "df['mes_aluguel'] = df['data_aluguel'].dt.month\n",
    "df['dia_aluguel'] = df['data_aluguel'].dt.day\n"
   ]
  },
  {
   "cell_type": "markdown",
   "id": "5bc87b77-9964-44c6-a68f-d16aef673f2b",
   "metadata": {},
   "source": [
    "## 5.1.4. Análise Estatística Descritiva"
   ]
  },
  {
   "cell_type": "code",
   "execution_count": 52,
   "id": "bc310ae2-8134-4d83-9b00-2e3b75ec16b9",
   "metadata": {},
   "outputs": [
    {
     "data": {
      "text/html": [
       "<div>\n",
       "<style scoped>\n",
       "    .dataframe tbody tr th:only-of-type {\n",
       "        vertical-align: middle;\n",
       "    }\n",
       "\n",
       "    .dataframe tbody tr th {\n",
       "        vertical-align: top;\n",
       "    }\n",
       "\n",
       "    .dataframe thead th {\n",
       "        text-align: right;\n",
       "    }\n",
       "</style>\n",
       "<table border=\"1\" class=\"dataframe\">\n",
       "  <thead>\n",
       "    <tr style=\"text-align: right;\">\n",
       "      <th></th>\n",
       "      <th>codigo_aluguel</th>\n",
       "      <th>data_aluguel</th>\n",
       "      <th>valor_aluguel</th>\n",
       "      <th>ano_aluguel</th>\n",
       "      <th>mes_aluguel</th>\n",
       "      <th>dia_aluguel</th>\n",
       "    </tr>\n",
       "  </thead>\n",
       "  <tbody>\n",
       "    <tr>\n",
       "      <th>count</th>\n",
       "      <td>10.00000</td>\n",
       "      <td>10</td>\n",
       "      <td>10.000000</td>\n",
       "      <td>10.0</td>\n",
       "      <td>10.0</td>\n",
       "      <td>10.000000</td>\n",
       "    </tr>\n",
       "    <tr>\n",
       "      <th>mean</th>\n",
       "      <td>5.50000</td>\n",
       "      <td>2023-04-10 19:12:00</td>\n",
       "      <td>132.000000</td>\n",
       "      <td>2023.0</td>\n",
       "      <td>4.0</td>\n",
       "      <td>10.800000</td>\n",
       "    </tr>\n",
       "    <tr>\n",
       "      <th>min</th>\n",
       "      <td>1.00000</td>\n",
       "      <td>2023-04-01 00:00:00</td>\n",
       "      <td>100.000000</td>\n",
       "      <td>2023.0</td>\n",
       "      <td>4.0</td>\n",
       "      <td>1.000000</td>\n",
       "    </tr>\n",
       "    <tr>\n",
       "      <th>25%</th>\n",
       "      <td>3.25000</td>\n",
       "      <td>2023-04-03 06:00:00</td>\n",
       "      <td>100.000000</td>\n",
       "      <td>2023.0</td>\n",
       "      <td>4.0</td>\n",
       "      <td>3.250000</td>\n",
       "    </tr>\n",
       "    <tr>\n",
       "      <th>50%</th>\n",
       "      <td>5.50000</td>\n",
       "      <td>2023-04-09 00:00:00</td>\n",
       "      <td>150.000000</td>\n",
       "      <td>2023.0</td>\n",
       "      <td>4.0</td>\n",
       "      <td>9.000000</td>\n",
       "    </tr>\n",
       "    <tr>\n",
       "      <th>75%</th>\n",
       "      <td>7.75000</td>\n",
       "      <td>2023-04-18 00:00:00</td>\n",
       "      <td>150.000000</td>\n",
       "      <td>2023.0</td>\n",
       "      <td>4.0</td>\n",
       "      <td>18.000000</td>\n",
       "    </tr>\n",
       "    <tr>\n",
       "      <th>max</th>\n",
       "      <td>10.00000</td>\n",
       "      <td>2023-04-25 00:00:00</td>\n",
       "      <td>170.000000</td>\n",
       "      <td>2023.0</td>\n",
       "      <td>4.0</td>\n",
       "      <td>25.000000</td>\n",
       "    </tr>\n",
       "    <tr>\n",
       "      <th>std</th>\n",
       "      <td>3.02765</td>\n",
       "      <td>NaN</td>\n",
       "      <td>28.205594</td>\n",
       "      <td>0.0</td>\n",
       "      <td>0.0</td>\n",
       "      <td>8.879439</td>\n",
       "    </tr>\n",
       "  </tbody>\n",
       "</table>\n",
       "</div>"
      ],
      "text/plain": [
       "       codigo_aluguel         data_aluguel  valor_aluguel  ano_aluguel  \\\n",
       "count        10.00000                   10      10.000000         10.0   \n",
       "mean          5.50000  2023-04-10 19:12:00     132.000000       2023.0   \n",
       "min           1.00000  2023-04-01 00:00:00     100.000000       2023.0   \n",
       "25%           3.25000  2023-04-03 06:00:00     100.000000       2023.0   \n",
       "50%           5.50000  2023-04-09 00:00:00     150.000000       2023.0   \n",
       "75%           7.75000  2023-04-18 00:00:00     150.000000       2023.0   \n",
       "max          10.00000  2023-04-25 00:00:00     170.000000       2023.0   \n",
       "std           3.02765                  NaN      28.205594          0.0   \n",
       "\n",
       "       mes_aluguel  dia_aluguel  \n",
       "count         10.0    10.000000  \n",
       "mean           4.0    10.800000  \n",
       "min            4.0     1.000000  \n",
       "25%            4.0     3.250000  \n",
       "50%            4.0     9.000000  \n",
       "75%            4.0    18.000000  \n",
       "max            4.0    25.000000  \n",
       "std            0.0     8.879439  "
      ]
     },
     "execution_count": 52,
     "metadata": {},
     "output_type": "execute_result"
    }
   ],
   "source": [
    "df.describe()"
   ]
  },
  {
   "cell_type": "code",
   "execution_count": 59,
   "id": "c595e698-2b21-478b-a659-3484ba49d081",
   "metadata": {},
   "outputs": [
    {
     "data": {
      "text/html": [
       "<div>\n",
       "<style scoped>\n",
       "    .dataframe tbody tr th:only-of-type {\n",
       "        vertical-align: middle;\n",
       "    }\n",
       "\n",
       "    .dataframe tbody tr th {\n",
       "        vertical-align: top;\n",
       "    }\n",
       "\n",
       "    .dataframe thead th {\n",
       "        text-align: right;\n",
       "    }\n",
       "</style>\n",
       "<table border=\"1\" class=\"dataframe\">\n",
       "  <thead>\n",
       "    <tr style=\"text-align: right;\">\n",
       "      <th></th>\n",
       "      <th>valor_aluguel</th>\n",
       "      <th>dia_aluguel</th>\n",
       "    </tr>\n",
       "  </thead>\n",
       "  <tbody>\n",
       "    <tr>\n",
       "      <th>valor_aluguel</th>\n",
       "      <td>1.000000</td>\n",
       "      <td>-0.100264</td>\n",
       "    </tr>\n",
       "    <tr>\n",
       "      <th>dia_aluguel</th>\n",
       "      <td>-0.100264</td>\n",
       "      <td>1.000000</td>\n",
       "    </tr>\n",
       "  </tbody>\n",
       "</table>\n",
       "</div>"
      ],
      "text/plain": [
       "               valor_aluguel  dia_aluguel\n",
       "valor_aluguel       1.000000    -0.100264\n",
       "dia_aluguel        -0.100264     1.000000"
      ]
     },
     "execution_count": 59,
     "metadata": {},
     "output_type": "execute_result"
    }
   ],
   "source": [
    "# Matriz de correlação #TODO:estudar\n",
    "# correlacao = df[['valor_aluguel', 'dia_aluguel']].corr()  # ou 'spearman' para correlação não linear\n",
    "# correlacao"
   ]
  },
  {
   "cell_type": "markdown",
   "id": "7f29437b-5e2e-4553-a8d7-3e8cfb58f4d5",
   "metadata": {},
   "source": [
    "Boxplot e Identificação de Outliers"
   ]
  },
  {
   "cell_type": "code",
   "execution_count": 68,
   "id": "4d56eec5-0091-48ab-ae64-b744c74fe3b3",
   "metadata": {},
   "outputs": [
    {
     "data": {
      "image/png": "[encoded data removed]",
      "text/plain": [
       "<Figure size 640x480 with 1 Axes>"
      ]
     },
     "metadata": {},
     "output_type": "display_data"
    }
   ],
   "source": [
    "sns.boxplot(y='valor_aluguel', data=df)\n",
    "plt.title('Boxplot da Valor de aluguel')\n",
    "plt.xlabel('valor_aluguel')\n",
    "plt.ylabel('Values')\n",
    "plt.show()"
   ]
  },
  {
   "cell_type": "markdown",
   "id": "e39adb1c-5154-4eac-b067-c71993a3152d",
   "metadata": {},
   "source": [
    "Z-Score: Identifica outliers com base em quantos desvios padrão uma observação está distante da média"
   ]
  },
  {
   "cell_type": "code",
   "execution_count": 77,
   "id": "8b353709-2869-420e-b2a6-8d94b6a52a65",
   "metadata": {},
   "outputs": [
    {
     "data": {
      "text/plain": [
       "0   -1.195896\n",
       "1   -1.195896\n",
       "2   -1.195896\n",
       "3   -1.195896\n",
       "4    0.672692\n",
       "5    0.672692\n",
       "6    0.672692\n",
       "7    1.420127\n",
       "8    0.672692\n",
       "9    0.672692\n",
       "Name: valor_aluguel, dtype: float64"
      ]
     },
     "execution_count": 77,
     "metadata": {},
     "output_type": "execute_result"
    }
   ],
   "source": [
    "# z_scores = stats.zscore(df.select_dtypes(include=[float, int])) \n",
    "z_scores = stats.zscore(df['valor_aluguel'])\n",
    "z_scores"
   ]
  },
  {
   "cell_type": "code",
   "execution_count": 80,
   "id": "bf8ba707-7c1c-4529-8ddb-583b513e570d",
   "metadata": {},
   "outputs": [
    {
     "data": {
      "text/plain": [
       "Series([], Name: valor_aluguel, dtype: float64)"
      ]
     },
     "execution_count": 80,
     "metadata": {},
     "output_type": "execute_result"
    }
   ],
   "source": [
    "outliers = df['valor_aluguel'][(z_scores > 3)]\n",
    "outliers"
   ]
  },
  {
   "cell_type": "markdown",
   "id": "aa798829-e530-4a14-a67f-c873614a47e8",
   "metadata": {},
   "source": [
    "Histrograma para Frequência"
   ]
  },
  {
   "cell_type": "code",
   "execution_count": 84,
   "id": "28271dfa-906d-42c5-bada-7ae6c58f8a97",
   "metadata": {},
   "outputs": [
    {
     "data": {
      "text/plain": [
       "10"
      ]
     },
     "execution_count": 84,
     "metadata": {},
     "output_type": "execute_result"
    }
   ],
   "source": [
    "n = len(df)\n",
    "n"
   ]
  },
  {
   "cell_type": "code",
   "execution_count": 93,
   "id": "c6375f42-2d75-4247-965a-3f62447984e2",
   "metadata": {},
   "outputs": [
    {
     "data": {
      "image/png": "[encoded data removed]",
      "text/plain": [
       "<Figure size 640x480 with 1 Axes>"
      ]
     },
     "metadata": {},
     "output_type": "display_data"
    }
   ],
   "source": [
    " \n",
    "df['valor_aluguel'].hist(edgecolor='black')\n",
    "plt.title('Distribuição de idades')\n",
    "plt.xlabel('Valor do alguel')\n",
    "plt.ylabel('Frequencia')\n",
    "plt.show()\n"
   ]
  },
  {
   "cell_type": "code",
   "execution_count": 94,
   "id": "86a18c41-81a1-4b3f-aa3b-0649ab115a16",
   "metadata": {},
   "outputs": [
    {
     "data": {
      "text/plain": [
       "Index(['codigo_aluguel', 'data_aluguel', 'nome_cliente', 'cidade_cliente',\n",
       "       'sexo_cliente', 'estado_cliente', 'estadocivil_cliente', 'modelo_carro',\n",
       "       'valor_aluguel', 'marca_carro', 'ano_aluguel', 'mes_aluguel',\n",
       "       'dia_aluguel'],\n",
       "      dtype='object')"
      ]
     },
     "execution_count": 94,
     "metadata": {},
     "output_type": "execute_result"
    }
   ],
   "source": [
    "df.columns"
   ]
  },
  {
   "cell_type": "code",
   "execution_count": null,
   "id": "e5ffa92e-808e-4387-b462-4fef7cb39d89",
   "metadata": {},
   "outputs": [],
   "source": [
    "Análise de Séries Temporais"
   ]
  },
  {
   "cell_type": "code",
   "execution_count": 100,
   "id": "b72227f7-00c1-4af0-b552-ed1c343c07f7",
   "metadata": {},
   "outputs": [
    {
     "data": {
      "text/html": [
       "<div>\n",
       "<style scoped>\n",
       "    .dataframe tbody tr th:only-of-type {\n",
       "        vertical-align: middle;\n",
       "    }\n",
       "\n",
       "    .dataframe tbody tr th {\n",
       "        vertical-align: top;\n",
       "    }\n",
       "\n",
       "    .dataframe thead th {\n",
       "        text-align: right;\n",
       "    }\n",
       "</style>\n",
       "<table border=\"1\" class=\"dataframe\">\n",
       "  <thead>\n",
       "    <tr style=\"text-align: right;\">\n",
       "      <th></th>\n",
       "      <th>codigo_aluguel</th>\n",
       "      <th>nome_cliente</th>\n",
       "      <th>cidade_cliente</th>\n",
       "      <th>sexo_cliente</th>\n",
       "      <th>estado_cliente</th>\n",
       "      <th>estadocivil_cliente</th>\n",
       "      <th>modelo_carro</th>\n",
       "      <th>valor_aluguel</th>\n",
       "      <th>marca_carro</th>\n",
       "      <th>ano_aluguel</th>\n",
       "      <th>mes_aluguel</th>\n",
       "      <th>dia_aluguel</th>\n",
       "    </tr>\n",
       "    <tr>\n",
       "      <th>data_aluguel</th>\n",
       "      <th></th>\n",
       "      <th></th>\n",
       "      <th></th>\n",
       "      <th></th>\n",
       "      <th></th>\n",
       "      <th></th>\n",
       "      <th></th>\n",
       "      <th></th>\n",
       "      <th></th>\n",
       "      <th></th>\n",
       "      <th></th>\n",
       "      <th></th>\n",
       "    </tr>\n",
       "  </thead>\n",
       "  <tbody>\n",
       "    <tr>\n",
       "      <th>2023-04-02</th>\n",
       "      <td>2</td>\n",
       "      <td>Bruna Pereira</td>\n",
       "      <td>Niterói</td>\n",
       "      <td>F</td>\n",
       "      <td>RJ</td>\n",
       "      <td>C</td>\n",
       "      <td>Ka</td>\n",
       "      <td>100.0</td>\n",
       "      <td>Ford</td>\n",
       "      <td>2023</td>\n",
       "      <td>4</td>\n",
       "      <td>2</td>\n",
       "    </tr>\n",
       "    <tr>\n",
       "      <th>2023-04-03</th>\n",
       "      <td>3</td>\n",
       "      <td>Bruna Pereira</td>\n",
       "      <td>Niterói</td>\n",
       "      <td>F</td>\n",
       "      <td>RJ</td>\n",
       "      <td>C</td>\n",
       "      <td>Ka</td>\n",
       "      <td>100.0</td>\n",
       "      <td>Ford</td>\n",
       "      <td>2023</td>\n",
       "      <td>4</td>\n",
       "      <td>3</td>\n",
       "    </tr>\n",
       "    <tr>\n",
       "      <th>2023-04-15</th>\n",
       "      <td>7</td>\n",
       "      <td>Ana Silva</td>\n",
       "      <td>Duque de Caxias</td>\n",
       "      <td>F</td>\n",
       "      <td>RJ</td>\n",
       "      <td>C</td>\n",
       "      <td>Ka</td>\n",
       "      <td>100.0</td>\n",
       "      <td>Ford</td>\n",
       "      <td>2023</td>\n",
       "      <td>4</td>\n",
       "      <td>15</td>\n",
       "    </tr>\n",
       "    <tr>\n",
       "      <th>2023-04-25</th>\n",
       "      <td>10</td>\n",
       "      <td>Túlio Nascimento</td>\n",
       "      <td>Duque de Caxias</td>\n",
       "      <td>M</td>\n",
       "      <td>RJ</td>\n",
       "      <td>S</td>\n",
       "      <td>Ka</td>\n",
       "      <td>100.0</td>\n",
       "      <td>Ford</td>\n",
       "      <td>2023</td>\n",
       "      <td>4</td>\n",
       "      <td>25</td>\n",
       "    </tr>\n",
       "    <tr>\n",
       "      <th>2023-04-01</th>\n",
       "      <td>1</td>\n",
       "      <td>Túlio Nascimento</td>\n",
       "      <td>Duque de Caxias</td>\n",
       "      <td>M</td>\n",
       "      <td>RJ</td>\n",
       "      <td>S</td>\n",
       "      <td>Argo</td>\n",
       "      <td>150.0</td>\n",
       "      <td>Fiat</td>\n",
       "      <td>2023</td>\n",
       "      <td>4</td>\n",
       "      <td>1</td>\n",
       "    </tr>\n",
       "    <tr>\n",
       "      <th>2023-04-19</th>\n",
       "      <td>8</td>\n",
       "      <td>Lúcia Andrade</td>\n",
       "      <td>São Paulo</td>\n",
       "      <td>F</td>\n",
       "      <td>SP</td>\n",
       "      <td>C</td>\n",
       "      <td>Argo</td>\n",
       "      <td>150.0</td>\n",
       "      <td>Fiat</td>\n",
       "      <td>2023</td>\n",
       "      <td>4</td>\n",
       "      <td>19</td>\n",
       "    </tr>\n",
       "    <tr>\n",
       "      <th>2023-04-21</th>\n",
       "      <td>9</td>\n",
       "      <td>Lúcia Andrade</td>\n",
       "      <td>São Paulo</td>\n",
       "      <td>F</td>\n",
       "      <td>SP</td>\n",
       "      <td>C</td>\n",
       "      <td>Argo</td>\n",
       "      <td>150.0</td>\n",
       "      <td>Fiat</td>\n",
       "      <td>2023</td>\n",
       "      <td>4</td>\n",
       "      <td>21</td>\n",
       "    </tr>\n",
       "    <tr>\n",
       "      <th>2023-04-04</th>\n",
       "      <td>4</td>\n",
       "      <td>Bruna Pereira</td>\n",
       "      <td>Niterói</td>\n",
       "      <td>F</td>\n",
       "      <td>RJ</td>\n",
       "      <td>C</td>\n",
       "      <td>Onix</td>\n",
       "      <td>170.0</td>\n",
       "      <td>Chevrolet</td>\n",
       "      <td>2023</td>\n",
       "      <td>4</td>\n",
       "      <td>4</td>\n",
       "    </tr>\n",
       "    <tr>\n",
       "      <th>2023-04-05</th>\n",
       "      <td>5</td>\n",
       "      <td>Ana Silva</td>\n",
       "      <td>Duque de Caxias</td>\n",
       "      <td>F</td>\n",
       "      <td>RJ</td>\n",
       "      <td>C</td>\n",
       "      <td>Polo</td>\n",
       "      <td>150.0</td>\n",
       "      <td>Volkswagen</td>\n",
       "      <td>2023</td>\n",
       "      <td>4</td>\n",
       "      <td>5</td>\n",
       "    </tr>\n",
       "    <tr>\n",
       "      <th>2023-04-13</th>\n",
       "      <td>6</td>\n",
       "      <td>Ana Silva</td>\n",
       "      <td>Duque de Caxias</td>\n",
       "      <td>F</td>\n",
       "      <td>RJ</td>\n",
       "      <td>C</td>\n",
       "      <td>Polo</td>\n",
       "      <td>150.0</td>\n",
       "      <td>Volkswagen</td>\n",
       "      <td>2023</td>\n",
       "      <td>4</td>\n",
       "      <td>13</td>\n",
       "    </tr>\n",
       "  </tbody>\n",
       "</table>\n",
       "</div>"
      ],
      "text/plain": [
       "              codigo_aluguel      nome_cliente   cidade_cliente sexo_cliente  \\\n",
       "data_aluguel                                                                   \n",
       "2023-04-02                 2     Bruna Pereira          Niterói            F   \n",
       "2023-04-03                 3     Bruna Pereira          Niterói            F   \n",
       "2023-04-15                 7         Ana Silva  Duque de Caxias            F   \n",
       "2023-04-25                10  Túlio Nascimento  Duque de Caxias            M   \n",
       "2023-04-01                 1  Túlio Nascimento  Duque de Caxias            M   \n",
       "2023-04-19                 8     Lúcia Andrade        São Paulo            F   \n",
       "2023-04-21                 9     Lúcia Andrade        São Paulo            F   \n",
       "2023-04-04                 4     Bruna Pereira          Niterói            F   \n",
       "2023-04-05                 5         Ana Silva  Duque de Caxias            F   \n",
       "2023-04-13                 6         Ana Silva  Duque de Caxias            F   \n",
       "\n",
       "             estado_cliente estadocivil_cliente modelo_carro  valor_aluguel  \\\n",
       "data_aluguel                                                                  \n",
       "2023-04-02               RJ                   C           Ka          100.0   \n",
       "2023-04-03               RJ                   C           Ka          100.0   \n",
       "2023-04-15               RJ                   C           Ka          100.0   \n",
       "2023-04-25               RJ                   S           Ka          100.0   \n",
       "2023-04-01               RJ                   S         Argo          150.0   \n",
       "2023-04-19               SP                   C         Argo          150.0   \n",
       "2023-04-21               SP                   C         Argo          150.0   \n",
       "2023-04-04               RJ                   C         Onix          170.0   \n",
       "2023-04-05               RJ                   C         Polo          150.0   \n",
       "2023-04-13               RJ                   C         Polo          150.0   \n",
       "\n",
       "             marca_carro  ano_aluguel  mes_aluguel  dia_aluguel  \n",
       "data_aluguel                                                     \n",
       "2023-04-02          Ford         2023            4            2  \n",
       "2023-04-03          Ford         2023            4            3  \n",
       "2023-04-15          Ford         2023            4           15  \n",
       "2023-04-25          Ford         2023            4           25  \n",
       "2023-04-01          Fiat         2023            4            1  \n",
       "2023-04-19          Fiat         2023            4           19  \n",
       "2023-04-21          Fiat         2023            4           21  \n",
       "2023-04-04     Chevrolet         2023            4            4  \n",
       "2023-04-05    Volkswagen         2023            4            5  \n",
       "2023-04-13    Volkswagen         2023            4           13  "
      ]
     },
     "execution_count": 100,
     "metadata": {},
     "output_type": "execute_result"
    }
   ],
   "source": [
    "df_resample = df[['dia_aluguel','valor_aluguel']]\n",
    "df_resample = df.set_index('data_aluguel')\n",
    "df_resample"
   ]
  },
  {
   "cell_type": "code",
   "execution_count": null,
   "id": "d8a9be79-f956-4fd8-87c0-0220abc70b72",
   "metadata": {},
   "outputs": [],
   "source": []
  },
  {
   "cell_type": "code",
   "execution_count": null,
   "id": "2c8f030a-3162-415e-863c-8ae50bb77906",
   "metadata": {},
   "outputs": [],
   "source": []
  }
 ],
 "metadata": {
  "kernelspec": {
   "display_name": "Python 3 (ipykernel)",
   "language": "python",
   "name": "python3"
  },
  "language_info": {
   "codemirror_mode": {
    "name": "ipython",
    "version": 3
   },
   "file_extension": ".py",
   "mimetype": "text/x-python",
   "name": "python",
   "nbconvert_exporter": "python",
   "pygments_lexer": "ipython3",
   "version": "3.11.6"
  }
 },
 "nbformat": 4,
 "nbformat_minor": 5
}
