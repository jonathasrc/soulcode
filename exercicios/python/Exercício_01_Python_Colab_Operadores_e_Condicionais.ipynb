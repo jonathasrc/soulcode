{
  "nbformat": 4,
  "nbformat_minor": 0,
  "metadata": {
    "colab": {
      "provenance": []
    },
    "kernelspec": {
      "name": "python3",
      "display_name": "Python 3"
    },
    "language_info": {
      "name": "python"
    }
  },
  "cells": [
    {
      "cell_type": "markdown",
      "source": [
        "1. Cálculo de Despesa com Desconto Progressivo\n",
        "   **Problema:** Crie um programa que receba o custo de três produtos e calcule o valor total. Se o total exceder R$ 500, aplique um desconto progressivo: 10% se o total for entre R$ 500 e R$ 1.000, e 15% se for acima de R$ 1.000. Mostre o valor final após o desconto."
      ],
      "metadata": {
        "id": "PoHv8o1gJW3E"
      }
    },
    {
      "cell_type": "code",
      "execution_count": 1,
      "metadata": {
        "colab": {
          "base_uri": "https://localhost:8080/"
        },
        "id": "xXeZYsiAJV68",
        "outputId": "7bae8671-7be0-43e0-bfc3-d65d56e14979"
      },
      "outputs": [
        {
          "output_type": "stream",
          "name": "stdout",
          "text": [
            "Digite o custo de três produtos separados por vírgula: 10, 100, 300\n",
            "410.0\n",
            "O valor total após o desconto é: R$ 410.0\n"
          ]
        }
      ],
      "source": [
        "custos = input(\"Digite o custo de três produtos separados por vírgula: \")\n",
        "custos = [float(custo) for custo in custos.split(\",\")]\n",
        "# custos = [300, 100, 100]\n",
        "# custos_2 = [900, 100, 100]\n",
        "\n",
        "total_custo = sum(custos)\n",
        "\n",
        "if 500 <= total_custo <= 1000:\n",
        "  total_custo = total_custo * 0.9\n",
        "elif total_custo > 1000:\n",
        "  total_custo = total_custo * 0.85\n",
        "else:\n",
        "  print(total_custo)\n",
        "\n",
        "print(\"O valor total após o desconto é: R$\", total_custo)\n",
        "\n",
        "# testes\n",
        "# assert total_custo == 450, \"O valor com desconto para a lista 'custos' deveria ser 450\"\n",
        "# assert total_custo == 935, \"O valor com desconto para a lista 'custos_2' deveria ser 935\"\n",
        "\n"
      ]
    },
    {
      "cell_type": "markdown",
      "source": [
        "2. Classificação de Idade com Mensagens Personalizadas\n",
        "   **Problema:** Desenvolva um programa que receba a idade de uma pessoa e determine sua categoria: \"Criança\" (0-12 anos), \"Adolescente\" (13-17 anos), \"Adulto\" (18-64 anos) ou \"Idoso\" (65 anos ou mais). Exiba uma mensagem personalizada para cada faixa etária, como \"Você é uma criança cheia de energia!\" ou \"Você tem muita sabedoria como idoso!\".\\"
      ],
      "metadata": {
        "id": "2_leiawOoRWI"
      }
    },
    {
      "cell_type": "code",
      "source": [
        "idade = int(input(\"Digite a idade: \"))\n",
        "\n",
        "if idade <= 12:\n",
        "  print(\"Você é criança com muita energia\")\n",
        "elif idade <= 17:\n",
        "  print(\"Você é um aborrecente\")\n",
        "elif idade <= 64:\n",
        "  print(\"Adulto, coda e dorme\")\n",
        "else:\n",
        "  print(\"Idoso, Agora é um software engineer senior\")\n"
      ],
      "metadata": {
        "colab": {
          "base_uri": "https://localhost:8080/"
        },
        "id": "GEmuIbrmfb0q",
        "outputId": "05a222d2-3874-45ab-bcd9-51b7973d64d0"
      },
      "execution_count": 2,
      "outputs": [
        {
          "output_type": "stream",
          "name": "stdout",
          "text": [
            "Digite a idade: 32\n",
            "Adulto, coda e dorme\n"
          ]
        }
      ]
    },
    {
      "cell_type": "markdown",
      "source": [
        "3. Verificação de Número Par, Ímpar e Positivo/Negativo\n",
        "   **Problema:** Crie um programa que receba um número inteiro e informe se ele é par ou ímpar e, adicionalmente, se é positivo, negativo ou zero. Inclua uma mensagem especial para números que sejam múltiplos de 10."
      ],
      "metadata": {
        "id": "Gf03lCU5-UN5"
      }
    },
    {
      "cell_type": "code",
      "source": [
        "numero = int(input(\"Digite um número inteiro: \"))\n",
        "\n",
        "texto = \"O número é par, \" if numero % 2 == 0 else \"O número é ímpar,\"\n",
        "texto += \"positivo \" if numero > 0 else \"negativo \"\n",
        "texto += \"e múltiplo de 10, Eba!!!\" if numero % 10 == 0 else \"\"\n",
        "\n",
        "print(texto)\n"
      ],
      "metadata": {
        "colab": {
          "base_uri": "https://localhost:8080/"
        },
        "id": "WKkCd2dM-mpE",
        "outputId": "78427745-0a37-4f73-be7a-55ee343c9df4"
      },
      "execution_count": 3,
      "outputs": [
        {
          "output_type": "stream",
          "name": "stdout",
          "text": [
            "Digite um número inteiro: 23\n",
            "O número é ímpar,positivo \n"
          ]
        }
      ]
    },
    {
      "cell_type": "markdown",
      "source": [
        "4. Cálculo de Média com Condição de Recuperação\n",
        "   **Problema:** Desenvolva um programa que receba as notas de quatro provas e calcule a média. Se a média for menor que 5, informe que o aluno está reprovado. Se estiver entre 5 e 7, informe que o aluno está em recuperação, e se for maior ou igual a 7, informe que o aluno está aprovado."
      ],
      "metadata": {
        "id": "Zacaxg_cBoWX"
      }
    },
    {
      "cell_type": "code",
      "source": [
        "notas = input(\"Digite as notas separadas por vírgula: \")\n",
        "notas = [float(nota) for nota in notas.split(\",\")]\n",
        "\n",
        "media = sum(notas) / len(notas)\n",
        "\n",
        "if media < 5:\n",
        "  print(\"Reprovado\")\n",
        "elif media < 7:\n",
        "  print(\"Recuperação\")\n",
        "else:\n",
        "  print(\"Aprovado\")\n"
      ],
      "metadata": {
        "colab": {
          "base_uri": "https://localhost:8080/"
        },
        "id": "aHUHntsvBpc-",
        "outputId": "518a6c92-3b7e-4feb-855e-f87c0d467c90"
      },
      "execution_count": 7,
      "outputs": [
        {
          "output_type": "stream",
          "name": "stdout",
          "text": [
            "Digite as notas separadas por vírgula: 10, 7, 8, 8\n",
            "Aprovado\n"
          ]
        }
      ]
    },
    {
      "cell_type": "markdown",
      "source": [
        "5. Classificação e Ajuste de Salário com Reajuste\n",
        "   **Problema:** Crie um programa que receba o salário de um funcionário e determine sua faixa salarial: \"Baixa\" (até R$ 2.500), \"Média\" (de R$ 2.501 a R$ 5.000) ou \"Alta\" (acima de R$ 5.000). Aplique um reajuste de 7% para a faixa baixa, 5% para a faixa média e 3% para a faixa alta. Mostre o salário reajustado."
      ],
      "metadata": {
        "id": "nruCmFvkFL57"
      }
    },
    {
      "cell_type": "code",
      "source": [
        "salario = float(input(\"Digite o salário: \"))\n",
        "\n",
        "if salario <= 2500:\n",
        "  salario = salario * 1.07\n",
        "elif salario <= 5000:\n",
        "  salario = salario * 1.05\n",
        "else:\n",
        "  salario = salario * 1.03\n",
        "\n",
        "\n",
        "print(\"O salário reajustado é: R$\", salario)"
      ],
      "metadata": {
        "colab": {
          "base_uri": "https://localhost:8080/"
        },
        "id": "Hwt0kmRPFMss",
        "outputId": "5639d6d9-3b8f-4036-e182-dac0913826e7"
      },
      "execution_count": 9,
      "outputs": [
        {
          "output_type": "stream",
          "name": "stdout",
          "text": [
            "Digite o salário: 5100\n",
            "O salário reajustado é: R$ 5253.0\n"
          ]
        }
      ]
    },
    {
      "cell_type": "markdown",
      "source": [
        "6. Verificação de Ano Bissexto com Mensagens\n",
        "   **Problema:** Desenvolva um programa que receba um ano e determine se ele é bissexto. Se for, informe que \"O ano é bissexto e possui 366 dias.\" Caso contrário, informe que \"O ano não é bissexto e possui 365 dias.\"\n"
      ],
      "metadata": {
        "id": "kGyryWZrFn3n"
      }
    },
    {
      "cell_type": "code",
      "source": [
        "ano = input(\"Digite o ano: \")\n",
        "\n",
        "texto = \"Ano bissexto e possui 366 dias\" if int(ano) % 4 == 0 else \"Ano não é bissexto e possui 365 dias\"\n",
        "\n",
        "print(texto)\n",
        "\n",
        "\n"
      ],
      "metadata": {
        "colab": {
          "base_uri": "https://localhost:8080/"
        },
        "id": "xB8C-UWjFr56",
        "outputId": "4379e8cf-c8dc-487f-e545-9cadb69b3974"
      },
      "execution_count": 12,
      "outputs": [
        {
          "output_type": "stream",
          "name": "stdout",
          "text": [
            "Digite o ano: 267\n",
            "Ano não é bissexto e possui 365 dias\n"
          ]
        }
      ]
    },
    {
      "cell_type": "markdown",
      "source": [
        "7. Conversão e Comparação de Temperatura\n",
        "   **Problema:** Crie um programa que receba uma temperatura em graus Celsius e a converta para Fahrenheit. Em seguida, verifique se a temperatura em Fahrenheit é inferior a 32°F (fria), entre 32°F e 68°F (amena), ou superior a 68°F (quente). Mostre a classificação junto com a temperatura convertida.\n"
      ],
      "metadata": {
        "id": "WNSve3uTGw0S"
      }
    },
    {
      "cell_type": "code",
      "source": [
        "celsius = input(\"Digite a temperatura em graus Celsius: \")\n",
        "\n",
        "fahrenheit = (float(celsius) * 9/5) + 32\n",
        "\n",
        "if fahrenheit < 32:\n",
        "  print(f\"A temperatura é {fahrenheit}°F e é fria\")\n",
        "elif fahrenheit <= 68:\n",
        "  print(f\"A temperatura é {fahrenheit}°F e é amena\")\n",
        "else:\n",
        "  print(f\"A temperatura é {fahrenheit}°F e é quente\")\n",
        "\n",
        "\n"
      ],
      "metadata": {
        "colab": {
          "base_uri": "https://localhost:8080/"
        },
        "id": "do5ZnFC4GxkX",
        "outputId": "e1cdc345-b9b5-47c5-f0b4-eeaa71856408"
      },
      "execution_count": 20,
      "outputs": [
        {
          "output_type": "stream",
          "name": "stdout",
          "text": [
            "Digite a temperatura em graus Celsius: 10\n",
            "A temperatura é 50.0°F e é amena\n"
          ]
        }
      ]
    },
    {
      "cell_type": "markdown",
      "source": [
        "8. Comparação de Três Números com Verificação de Ordenação\n",
        "   **Problema:** Desenvolva um programa que receba três números inteiros e determine qual é o maior e o menor. Além disso, verifique e informe se os números estão em ordem crescente, decrescente ou se não estão ordenados."
      ],
      "metadata": {
        "id": "djwgByzkIMca"
      }
    },
    {
      "cell_type": "code",
      "source": [
        "numeros = input(\"Digite os números separados por vírgula: \")\n",
        "numeros = [int(numero) for numero in numeros.split(\",\")]\n",
        "\n",
        "maior = max(numeros)\n",
        "menor = min(numeros)\n",
        "\n",
        "if numeros == sorted(numeros):\n",
        "  print(\"Os números estão em ordem crescente\")\n",
        "elif numeros == sorted(numeros, reverse=True):\n",
        "  print(\"Os números estão em ordem decrescente\")\n",
        "else:\n",
        "  print(\"Os números não estão ordenados\")"
      ],
      "metadata": {
        "colab": {
          "base_uri": "https://localhost:8080/"
        },
        "id": "kL875nmgINGM",
        "outputId": "066d97b9-19d5-4db8-fcfc-31607e97ea3a"
      },
      "execution_count": 21,
      "outputs": [
        {
          "output_type": "stream",
          "name": "stdout",
          "text": [
            "Digite os números separados por vírgula: 10,30,40\n",
            "Os números estão em ordem crescente\n"
          ]
        }
      ]
    },
    {
      "cell_type": "markdown",
      "source": [
        "9. Calculadora de Desconto com Condição de Pagamento\n",
        "   **Problema:** Crie um programa que receba o valor de uma compra e determine o desconto a ser aplicado. Aplique 20% de desconto para compras acima de R$ 1.500, 10% para compras entre R$ 800 e R$ 1.500, e 5% para compras abaixo de R$ 800. Se o pagamento for à vista, aplique um desconto adicional de 5% sobre o valor final com desconto."
      ],
      "metadata": {
        "id": "HBanA43EIt8Z"
      }
    },
    {
      "cell_type": "code",
      "source": [
        "valor = input(\"Digite o valor da compra: \")\n",
        "\n",
        "if float(valor) > 1500:\n",
        "  valor = float(valor) * 0.8\n",
        "elif float(valor) >= 800:\n",
        "  valor = float(valor) * 0.9\n",
        "else:\n",
        "  valor = float(valor) * 0.95\n",
        "\n",
        "print(f\"O valor ficou: R$ {valor}. No caso de avista fica {valor * 0.95}\")"
      ],
      "metadata": {
        "colab": {
          "base_uri": "https://localhost:8080/"
        },
        "id": "ajhrEcd4I4VC",
        "outputId": "0755a7ed-920b-44fd-98d4-412caf151467"
      },
      "execution_count": 23,
      "outputs": [
        {
          "output_type": "stream",
          "name": "stdout",
          "text": [
            "Digite o valor da compra: 1500\n",
            "O valor ficou: R$ 1350.0. No caso de avista fica 1282.5\n"
          ]
        }
      ]
    },
    {
      "cell_type": "markdown",
      "source": [
        "10. Verificação de Senha Segura com Requisitos Adicionais\n",
        "   **Problema:** Desenvolva um programa que receba uma senha e verifique se ela é segura. Uma senha é considerada segura se tiver pelo menos 8 caracteres, incluir pelo menos uma letra maiúscula, uma letra minúscula, um número e um caractere especial (como !, @, #). Informe se a senha é segura ou não e liste quais requisitos estão faltando."
      ],
      "metadata": {
        "id": "MOWoF9fsLCHN"
      }
    },
    {
      "cell_type": "code",
      "source": [
        "senha = input(\"Digite a senha: \")\n",
        "requisitos_faltando = []\n",
        "\n",
        "if len(senha) < 8:\n",
        "  requisitos_faltando.append(\"Ter pelo menos 8 caratecters\")\n",
        "if not any(char.isupper() for char in senha):\n",
        "  requisitos_faltando.append(\"A senha deve ter pelo menos uma letra maiúscula\")\n",
        "if not any(char.islower() for char in senha):\n",
        "  requisitos_faltando.append(\"A senha deve ter pelo menos uma letra minúscula\")\n",
        "if not any(char.isdigit() for char in senha):\n",
        "  requisitos_faltando.append(\"A senha deve ter pelo menos um número\")\n",
        "if not any(char in \"!@#$%^&*()_+=[\\]{};':\\\"\\\\|,.<>/?\" for char in senha):\n",
        "  requisitos_faltando.append(\"A senha deve ter pelo menos um caractere especial\")\n",
        "\n",
        "if requisitos_faltando:\n",
        "  print(\"A senha não é segura. Faltam os seguintes requisitos: \")\n",
        "  for requisito in requisitos_faltando:\n",
        "    print(requisito)\n",
        "else:\n",
        "  print(\"A senha é segura\")"
      ],
      "metadata": {
        "colab": {
          "base_uri": "https://localhost:8080/"
        },
        "id": "6pgu-2WSLC4D",
        "outputId": "282d2e2a-e898-42c8-a03b-4ef5ab4d05f5"
      },
      "execution_count": 33,
      "outputs": [
        {
          "output_type": "stream",
          "name": "stdout",
          "text": [
            "Digite a senha: wewe@@#4::v\n",
            "A senha não é segura. Faltam os seguintes requisitos: \n",
            "A senha deve ter pelo menos uma letra maiúscula\n"
          ]
        }
      ]
    },
    {
      "cell_type": "markdown",
      "source": [
        "11. Contador de Números Ímpares\n",
        "   - **Descrição:** Crie um programa que conte e imprima todos os números ímpares entre 1 e 100 usando um loop `for`."
      ],
      "metadata": {
        "id": "oj7X614hOniP"
      }
    },
    {
      "cell_type": "code",
      "source": [
        "pares = 0\n",
        "impares = 0\n",
        "\n",
        "for numero in range(1, 101):\n",
        "  if numero % 2 == 0:\n",
        "    pares += 1\n",
        "    print(f\"PAR:{numero}\")\n",
        "  else:\n",
        "    impares += 1\n",
        "    print(f\"IMPAR:{numero}\")\n",
        "\n",
        "print(f\"Números pares: {pares}\")\n",
        "print(f\"Números ímpares: {impares}\")\n",
        "\n",
        "\n"
      ],
      "metadata": {
        "colab": {
          "base_uri": "https://localhost:8080/"
        },
        "id": "_lu5SONmOop1",
        "outputId": "67f72ccd-647c-43aa-ee9c-d0b0427ee250"
      },
      "execution_count": 34,
      "outputs": [
        {
          "output_type": "stream",
          "name": "stdout",
          "text": [
            "IMPAR:1\n",
            "PAR:2\n",
            "IMPAR:3\n",
            "PAR:4\n",
            "IMPAR:5\n",
            "PAR:6\n",
            "IMPAR:7\n",
            "PAR:8\n",
            "IMPAR:9\n",
            "PAR:10\n",
            "IMPAR:11\n",
            "PAR:12\n",
            "IMPAR:13\n",
            "PAR:14\n",
            "IMPAR:15\n",
            "PAR:16\n",
            "IMPAR:17\n",
            "PAR:18\n",
            "IMPAR:19\n",
            "PAR:20\n",
            "IMPAR:21\n",
            "PAR:22\n",
            "IMPAR:23\n",
            "PAR:24\n",
            "IMPAR:25\n",
            "PAR:26\n",
            "IMPAR:27\n",
            "PAR:28\n",
            "IMPAR:29\n",
            "PAR:30\n",
            "IMPAR:31\n",
            "PAR:32\n",
            "IMPAR:33\n",
            "PAR:34\n",
            "IMPAR:35\n",
            "PAR:36\n",
            "IMPAR:37\n",
            "PAR:38\n",
            "IMPAR:39\n",
            "PAR:40\n",
            "IMPAR:41\n",
            "PAR:42\n",
            "IMPAR:43\n",
            "PAR:44\n",
            "IMPAR:45\n",
            "PAR:46\n",
            "IMPAR:47\n",
            "PAR:48\n",
            "IMPAR:49\n",
            "PAR:50\n",
            "IMPAR:51\n",
            "PAR:52\n",
            "IMPAR:53\n",
            "PAR:54\n",
            "IMPAR:55\n",
            "PAR:56\n",
            "IMPAR:57\n",
            "PAR:58\n",
            "IMPAR:59\n",
            "PAR:60\n",
            "IMPAR:61\n",
            "PAR:62\n",
            "IMPAR:63\n",
            "PAR:64\n",
            "IMPAR:65\n",
            "PAR:66\n",
            "IMPAR:67\n",
            "PAR:68\n",
            "IMPAR:69\n",
            "PAR:70\n",
            "IMPAR:71\n",
            "PAR:72\n",
            "IMPAR:73\n",
            "PAR:74\n",
            "IMPAR:75\n",
            "PAR:76\n",
            "IMPAR:77\n",
            "PAR:78\n",
            "IMPAR:79\n",
            "PAR:80\n",
            "IMPAR:81\n",
            "PAR:82\n",
            "IMPAR:83\n",
            "PAR:84\n",
            "IMPAR:85\n",
            "PAR:86\n",
            "IMPAR:87\n",
            "PAR:88\n",
            "IMPAR:89\n",
            "PAR:90\n",
            "IMPAR:91\n",
            "PAR:92\n",
            "IMPAR:93\n",
            "PAR:94\n",
            "IMPAR:95\n",
            "PAR:96\n",
            "IMPAR:97\n",
            "PAR:98\n",
            "IMPAR:99\n",
            "PAR:100\n",
            "Números pares: 50\n",
            "Números ímpares: 50\n"
          ]
        }
      ]
    },
    {
      "cell_type": "markdown",
      "source": [
        "12. Soma de Números até um Limite\n",
        "   - **Descrição:** Desenvolva um programa que receba um número inteiro positivo e use um loop `while` para calcular a soma de todos os números de 1 até o número fornecido."
      ],
      "metadata": {
        "id": "JVsq_QdVTOUW"
      }
    },
    {
      "cell_type": "code",
      "source": [
        "numero = int(input(\"Digite um número inteiro positivo: \"))\n",
        "soma = 0\n",
        "contador = 1\n",
        "\n",
        "while contador <= numero:\n",
        "  soma += contador\n",
        "  contador += 1\n",
        "\n",
        "print(f\"A soma de 1 até {numero} é {soma}\")"
      ],
      "metadata": {
        "colab": {
          "base_uri": "https://localhost:8080/"
        },
        "id": "K4isxQTUTXO7",
        "outputId": "d01a7ef0-32d8-47e4-e0e0-1db0a2369038"
      },
      "execution_count": 35,
      "outputs": [
        {
          "output_type": "stream",
          "name": "stdout",
          "text": [
            "Digite um número inteiro positivo: 10\n",
            "A soma de 1 até 10 é 55\n"
          ]
        }
      ]
    },
    {
      "cell_type": "markdown",
      "source": [
        "13. Número de Tentativas para Senha\n",
        "   - **Descrição:** Crie um programa que limite o número de tentativas para digitar a senha correta. O usuário deve ter no máximo 3 tentativas. Use `while` e `if`."
      ],
      "metadata": {
        "id": "r7Sz0SpmTsee"
      }
    },
    {
      "cell_type": "code",
      "source": [
        "tentativas = 3\n",
        "\n",
        "while tentativas > 0:\n",
        "  senha = input(\"Digite a senha: \")\n",
        "  if senha == \"1234\":\n",
        "    print(\"Acesso permitido\")\n",
        "    break\n",
        "  else:\n",
        "    tentativas -= 1\n",
        "    print(f\"Senha incorreta. Tentativas restantes: {tentativas}\")\n",
        "    print(\"Tente novamente\")\n",
        "    if tentativas == 0:\n",
        "      print(\"Acesso bloqueado\")\n",
        "      break"
      ],
      "metadata": {
        "colab": {
          "base_uri": "https://localhost:8080/"
        },
        "id": "cMVvK4b3T4Xd",
        "outputId": "1181dd72-6f70-4dff-d0cd-4c7c29b8e382"
      },
      "execution_count": 36,
      "outputs": [
        {
          "output_type": "stream",
          "name": "stdout",
          "text": [
            "Digite a senha: 342\n",
            "Senha incorreta. Tentativas restantes: 2\n",
            "Tente novamente\n",
            "Digite a senha: 234\n",
            "Senha incorreta. Tentativas restantes: 1\n",
            "Tente novamente\n",
            "Digite a senha: 532\n",
            "Senha incorreta. Tentativas restantes: 0\n",
            "Tente novamente\n",
            "Acesso bloqueado\n"
          ]
        }
      ]
    },
    {
      "cell_type": "markdown",
      "source": [
        "14. Fatorial de um Número\n",
        "   - **Descrição:** Calcule o fatorial de um número fornecido pelo usuário usando um loop `for`. O fatorial de um número `n` é o produto de todos os números de 1 até `n`.\n"
      ],
      "metadata": {
        "id": "LdjclLiOUek_"
      }
    },
    {
      "cell_type": "code",
      "source": [
        "numero = int(input(\"Digite um número: \"))\n",
        "fatorial = 1\n",
        "\n",
        "for i in range(1, numero + 1):\n",
        "  # print(i)\n",
        "  fatorial *= i\n",
        "\n",
        "print(f\"O fatorial de {numero} é {fatorial}\")"
      ],
      "metadata": {
        "colab": {
          "base_uri": "https://localhost:8080/"
        },
        "id": "_VwaviunUjXs",
        "outputId": "7e62ef95-c404-4257-d350-a27ea57b6910"
      },
      "execution_count": 38,
      "outputs": [
        {
          "output_type": "stream",
          "name": "stdout",
          "text": [
            "Digite um número: 10\n",
            "1\n",
            "2\n",
            "3\n",
            "4\n",
            "5\n",
            "6\n",
            "7\n",
            "8\n",
            "9\n",
            "10\n",
            "O fatorial de 10 é 3628800\n"
          ]
        }
      ]
    },
    {
      "cell_type": "markdown",
      "source": [
        "15. Verificação de Primalidade\n",
        "   - **Descrição:** Crie um programa que verifique se um número é primo. Use um loop `for` e condicionais para determinar se o número tem apenas dois divisores: 1 e ele mesmo."
      ],
      "metadata": {
        "id": "ljtXqhwkVMsR"
      }
    },
    {
      "cell_type": "code",
      "source": [
        "numero = int(input(\"Digite um número: \"))\n",
        "eh_primo = True\n",
        "\n",
        "for i in range(2, numero):\n",
        "  if numero % i == 0:\n",
        "    eh_primo = False\n",
        "    break\n",
        "\n",
        "if eh_primo:\n",
        "  print(f\"{numero} é primo\")\n",
        "else:\n",
        "  print(f\"{numero} não é primo\")"
      ],
      "metadata": {
        "colab": {
          "base_uri": "https://localhost:8080/"
        },
        "id": "LYT_ZwfbVPnz",
        "outputId": "64dd2438-4546-42f0-d38a-b423650c0b07"
      },
      "execution_count": 40,
      "outputs": [
        {
          "output_type": "stream",
          "name": "stdout",
          "text": [
            "Digite um número: 12\n",
            "12 não é primo\n"
          ]
        }
      ]
    },
    {
      "cell_type": "markdown",
      "source": [
        "16. Sequência de Fibonacci\n",
        "   - **Descrição:** Gere a sequência de Fibonacci até um número máximo fornecido pelo usuário usando um loop `while`. A sequência começa com 0 e 1, e cada número subsequente é a soma dos dois anteriores."
      ],
      "metadata": {
        "id": "wtGOffd5WgY9"
      }
    },
    {
      "cell_type": "code",
      "source": [
        "numero = input(\"Digite um número: \")\n",
        "a, b = 0, 1\n",
        "iterador = 0\n",
        "fibonacci = []\n",
        "\n",
        "while iterador < int(numero):\n",
        "  fibonacci.append(a)\n",
        "  a, b = b, a + b\n",
        "  iterador += 1\n",
        "\n",
        "print(fibonacci)\n",
        ""
      ],
      "metadata": {
        "colab": {
          "base_uri": "https://localhost:8080/"
        },
        "id": "bn4P0lxhWhWK",
        "outputId": "3f5aa973-8d6f-4d31-b6e9-b48073266bca"
      },
      "execution_count": 45,
      "outputs": [
        {
          "output_type": "stream",
          "name": "stdout",
          "text": [
            "Digite um número: 10\n",
            "[0, 1, 1, 2, 3, 5, 8, 13, 21, 34]\n"
          ]
        }
      ]
    },
    {
      "cell_type": "markdown",
      "source": [
        "17. Contar Caracteres em uma String\n",
        "   - **Descrição:** Conte quantas vezes um caractere específico aparece em uma string fornecida pelo usuário usando um loop `for`."
      ],
      "metadata": {
        "id": "7pAkdIw-YLGK"
      }
    },
    {
      "cell_type": "code",
      "source": [
        "texto = input(\"Digite um texto: \")\n",
        "\n",
        "caractere = input(\"Digite o caractere que deseja contar: \")\n",
        "contador = 0\n",
        "\n",
        "for letra in texto:\n",
        "  if letra == caractere:\n",
        "    contador += 1\n",
        "\n",
        "print(f\"O caractere '{caractere}' aparece {contador} vezes no texto\")\n"
      ],
      "metadata": {
        "colab": {
          "base_uri": "https://localhost:8080/"
        },
        "id": "_oU1vSh8YMNR",
        "outputId": "ad82e22b-0ee9-4613-ceea-db052b3a02ef"
      },
      "execution_count": 46,
      "outputs": [
        {
          "output_type": "stream",
          "name": "stdout",
          "text": [
            "Digite um texto: caractere\n",
            "Digite o caractere que deseja contar: c\n",
            "O caractere 'c' aparece 2 vezes no texto\n"
          ]
        }
      ]
    },
    {
      "cell_type": "markdown",
      "source": [
        "18. Tabuada de um Número\n",
        "   - **Descrição:** Crie um programa que exiba a tabuada (de 1 a 10) de um número fornecido pelo usuário usando um loop `for`."
      ],
      "metadata": {
        "id": "y-vaYRWcYyJc"
      }
    },
    {
      "cell_type": "code",
      "source": [
        "numero = input(\"Digite um número: \")\n",
        "\n",
        "for i in range(1, 11):\n",
        "  print(f\"{numero} x {i} = {int(numero) * i}\")"
      ],
      "metadata": {
        "colab": {
          "base_uri": "https://localhost:8080/"
        },
        "id": "WuYvtiXTYy_7",
        "outputId": "b48e4d5f-8df1-4f4e-fd1c-7198daea6f51"
      },
      "execution_count": 47,
      "outputs": [
        {
          "output_type": "stream",
          "name": "stdout",
          "text": [
            "Digite um número: 19\n",
            "19 x 1 = 19\n",
            "19 x 2 = 38\n",
            "19 x 3 = 57\n",
            "19 x 4 = 76\n",
            "19 x 5 = 95\n",
            "19 x 6 = 114\n",
            "19 x 7 = 133\n",
            "19 x 8 = 152\n",
            "19 x 9 = 171\n",
            "19 x 10 = 190\n"
          ]
        }
      ]
    },
    {
      "cell_type": "markdown",
      "source": [
        "\n",
        "19. Contador de Letras em Palavras\n",
        "   - **Descrição:** Dada uma lista de palavras, conte quantas letras `a` existem em todas as palavras usando um loop `for` e condicionais."
      ],
      "metadata": {
        "id": "sIObMBnLZgxB"
      }
    },
    {
      "cell_type": "code",
      "source": [
        "texto = input(\"Digite um texto: \")\n",
        "contador = 0\n",
        "\n",
        "for letra in texto:\n",
        "  if letra == \"a\":\n",
        "    contador += 1\n",
        "\n",
        "print(f\"A letra 'a' aparece {contador} vezes no texto\")"
      ],
      "metadata": {
        "colab": {
          "base_uri": "https://localhost:8080/"
        },
        "id": "WOqxbt1FZlF7",
        "outputId": "060bb377-3895-4dde-9926-c22439676930"
      },
      "execution_count": 48,
      "outputs": [
        {
          "output_type": "stream",
          "name": "stdout",
          "text": [
            "Digite um texto: texto novo aaa\n",
            "A letra 'a' aparece 3 vezes no texto\n"
          ]
        }
      ]
    },
    {
      "cell_type": "markdown",
      "source": [
        "20. Conversão de Temperatura\n",
        "    - **Descrição:** Desenvolva um programa que converta temperaturas de Celsius para Fahrenheit e vice-versa. Use loops para permitir múltiplas conversões até que o usuário decida parar.\n"
      ],
      "metadata": {
        "id": "FOMtLodyZ4q8"
      }
    },
    {
      "cell_type": "code",
      "source": [
        "while True:\n",
        "  print(\"Escolha a conversão:\")\n",
        "  print(\"1. Celsius para Fahrenheit\")\n",
        "  print(\"2. Fahrenheit para Celsius\")\n",
        "  print(\"3. Sair\")\n",
        "\n",
        "  opcao = input(\"Escolha uma opção: \")\n",
        "\n",
        "  if opcao == \"3\":\n",
        "    break\n",
        "  elif opcao not in [\"1\", \"2\"]:\n",
        "    print(\"Opção inválida\")\n",
        "    continue\n",
        "\n",
        "  temperatura = input(\"Digite a temperatura: \")\n",
        "\n",
        "  if opcao == \"1\":\n",
        "    temperatura = (float(temperatura) * 9/5) + 32\n",
        "    print(f\"A temperatura em Fahrenheit é {temperatura}\")\n",
        "\n",
        "  if opcao == \"2\":\n",
        "    temperatura = (float(temperatura) - 32) * 5/9\n",
        "    print(f\"A temperatura em Celsius é {temperatura}\")\n",
        "\n",
        "\n"
      ],
      "metadata": {
        "colab": {
          "base_uri": "https://localhost:8080/"
        },
        "id": "t_lj92dHap9U",
        "outputId": "32a4d194-7a12-45e8-d621-3e17548524fa"
      },
      "execution_count": 49,
      "outputs": [
        {
          "name": "stdout",
          "output_type": "stream",
          "text": [
            "Escolha a conversão:\n",
            "1. Celsius para Fahrenheit\n",
            "2. Fahrenheit para Celsius\n",
            "3. Sair\n",
            "Escolha uma opção: 1\n",
            "Digite a temperatura: 35\n",
            "A temperatura em Fahrenheit é 95.0\n",
            "Escolha a conversão:\n",
            "1. Celsius para Fahrenheit\n",
            "2. Fahrenheit para Celsius\n",
            "3. Sair\n",
            "Escolha uma opção: 2\n",
            "Digite a temperatura: 95\n",
            "A temperatura em Celsius é 35.0\n",
            "Escolha a conversão:\n",
            "1. Celsius para Fahrenheit\n",
            "2. Fahrenheit para Celsius\n",
            "3. Sair\n",
            "Escolha uma opção: 3\n"
          ]
        }
      ]
    },
    {
      "cell_type": "markdown",
      "source": [
        "21. Média de Notas\n",
        "    - **Descrição:** Crie um programa que calcule a média de uma série de notas fornecidas pelo usuário. O programa deve parar quando o usuário digitar um valor negativo."
      ],
      "metadata": {
        "id": "W57JFBE5b7Ag"
      }
    },
    {
      "cell_type": "code",
      "source": [
        "media = []\n",
        "\n",
        "while True:\n",
        "  nota = input(\"Digite uma nota: \")\n",
        "  if float(nota) < 0:\n",
        "    break\n",
        "\n",
        "  media.append(float(nota))\n",
        "\n",
        "print(f\"A média é {sum(media) / len(media)}\")\n",
        ""
      ],
      "metadata": {
        "colab": {
          "base_uri": "https://localhost:8080/"
        },
        "id": "CMfwCvQ9b75l",
        "outputId": "8d03a48d-01f7-4904-b938-4797523b6457"
      },
      "execution_count": 50,
      "outputs": [
        {
          "output_type": "stream",
          "name": "stdout",
          "text": [
            "Digite uma nota: 10\n",
            "Digite uma nota: 20\n",
            "Digite uma nota: 39\n",
            "Digite uma nota: 49\n",
            "Digite uma nota: -20\n",
            "A média é 29.5\n"
          ]
        }
      ]
    },
    {
      "cell_type": "markdown",
      "source": [
        "22. Números Divisíveis por 3 e 5\n",
        "    - **Descrição:** Crie um programa que liste todos os números entre 1 e 100 que são divisíveis por 3 e por 5 usando um loop `for` e condicionais."
      ],
      "metadata": {
        "id": "NVPhGIoMcc63"
      }
    },
    {
      "cell_type": "code",
      "source": [
        "divisiveis = []\n",
        "\n",
        "for i in range(1, 101):\n",
        "  if i % 3 == 0 and i % 5 == 0:\n",
        "    divisiveis.append(i)\n",
        "\n",
        "print(divisiveis)"
      ],
      "metadata": {
        "colab": {
          "base_uri": "https://localhost:8080/"
        },
        "id": "9Nt1dZl4cfwo",
        "outputId": "963974ad-c0f5-42c7-b734-f53df1342f73"
      },
      "execution_count": 51,
      "outputs": [
        {
          "output_type": "stream",
          "name": "stdout",
          "text": [
            "[15, 30, 45, 60, 75, 90]\n"
          ]
        }
      ]
    },
    {
      "cell_type": "markdown",
      "source": [
        "\n",
        "23. Inverter uma String\n",
        "    - **Descrição:** Crie um programa que inverta uma string fornecida pelo usuário sem usar funções embutidas, utilizando um loop `for`."
      ],
      "metadata": {
        "id": "KklHIzTvctZS"
      }
    },
    {
      "cell_type": "code",
      "source": [
        "texto = input(\"Digite um texto: \")\n",
        "texto_invertido = \"\"\n",
        "\n",
        "for letra in texto:\n",
        "  texto_invertido = letra + texto_invertido\n",
        "\n",
        "print(texto_invertido)"
      ],
      "metadata": {
        "colab": {
          "base_uri": "https://localhost:8080/"
        },
        "id": "Z6epKyBOcv1H",
        "outputId": "311eca34-43ed-44f8-af49-123c06585594"
      },
      "execution_count": 52,
      "outputs": [
        {
          "output_type": "stream",
          "name": "stdout",
          "text": [
            "Digite um texto: texto\n",
            "otxet\n"
          ]
        }
      ]
    },
    {
      "cell_type": "markdown",
      "source": [
        "24. Verificar Palíndromo\n",
        "    - **Descrição:** Desenvolva um programa que verifique se uma palavra é um palíndromo (ou seja, se pode ser lida da mesma forma de trás para frente). Use um loop `for` e condicionais."
      ],
      "metadata": {
        "id": "roXjqa6mdbfI"
      }
    },
    {
      "cell_type": "code",
      "source": [
        "texto = input(\"Digite um texto: \")\n",
        "texto_invertido = \"\"\n",
        "\n",
        "for letra in texto:\n",
        "  texto_invertido = letra + texto_invertido\n",
        "\n",
        "if texto == texto_invertido:\n",
        "  print(\"É um palíndromo\")"
      ],
      "metadata": {
        "colab": {
          "base_uri": "https://localhost:8080/"
        },
        "id": "nddhk7Xbdckz",
        "outputId": "3e52534e-9ccb-4b1c-c3ed-32af2580f4b0"
      },
      "execution_count": 54,
      "outputs": [
        {
          "output_type": "stream",
          "name": "stdout",
          "text": [
            "Digite um texto: arara\n",
            "É um palíndromo\n"
          ]
        }
      ]
    },
    {
      "cell_type": "markdown",
      "source": [
        "25. Múltiplos de um Número\n",
        "    - **Descrição:** Crie um programa que encontre todos os múltiplos de um número fornecido pelo usuário até um valor máximo também fornecido pelo usuário.\n"
      ],
      "metadata": {
        "id": "K74efe3JeNPn"
      }
    },
    {
      "cell_type": "code",
      "source": [
        "numero1, numero2 = input(\"Digite dois números separados por vírgula: \").split(\",\")\n",
        "\n",
        "multiplos = []\n",
        "\n",
        "for i in range(int(numero1), int(numero2) + 1):\n",
        "  if i % int(numero1) == 0:\n",
        "    multiplos.append(i)\n",
        "\n",
        "print(multiplos)"
      ],
      "metadata": {
        "colab": {
          "base_uri": "https://localhost:8080/"
        },
        "id": "TlHipeVueSmh",
        "outputId": "661da941-d865-4a24-babf-34eef85ae4af"
      },
      "execution_count": 61,
      "outputs": [
        {
          "output_type": "stream",
          "name": "stdout",
          "text": [
            "Digite dois números separados por vírgula: 10, 15\n",
            "[10]\n"
          ]
        }
      ]
    },
    {
      "cell_type": "markdown",
      "source": [
        "26. Gerar Números Aleatórios\n",
        "    - **Descrição:** Gere e exiba uma lista de 10 números aleatórios entre 1 e 100. Use um loop `for` e a biblioteca `random` para isso"
      ],
      "metadata": {
        "id": "RIxosmSsfy2z"
      }
    },
    {
      "cell_type": "code",
      "source": [
        "import random\n",
        "numeros_aleatorios = []\n",
        "\n",
        "for i in range(10):\n",
        "  numeros_aleatorios.append(random.randint(1, 100))\n",
        "\n",
        "print(numeros_aleatorios)"
      ],
      "metadata": {
        "colab": {
          "base_uri": "https://localhost:8080/"
        },
        "id": "5Mm5MxCYf0Hi",
        "outputId": "975a99bc-c286-4b0a-95b3-8b424113413a"
      },
      "execution_count": 63,
      "outputs": [
        {
          "output_type": "stream",
          "name": "stdout",
          "text": [
            "[63, 14, 65, 49, 50, 30, 63, 38, 88, 69]\n"
          ]
        }
      ]
    },
    {
      "cell_type": "markdown",
      "source": [
        "27. Contar Palavras em uma Frase\n",
        "    - **Descrição:** Crie um programa que conte o número de palavras em uma frase fornecida pelo usuário. Use um loop `for` para iterar sobre as palavras da frase."
      ],
      "metadata": {
        "id": "VOr0mu1ugmDK"
      }
    },
    {
      "cell_type": "code",
      "source": [
        "texto = input(\"Digite um texto: \")\n",
        "palavras = texto.split()\n",
        "contador = 0\n",
        "\n",
        "for palavra in palavras:\n",
        "  contador += 1\n",
        "\n",
        "print(f\"O texto tem {contador} palavras\")\n"
      ],
      "metadata": {
        "colab": {
          "base_uri": "https://localhost:8080/"
        },
        "id": "d5tleZ9HhBPa",
        "outputId": "dcdf6cac-6673-4ed2-ceed-990430804f7a"
      },
      "execution_count": 64,
      "outputs": [
        {
          "output_type": "stream",
          "name": "stdout",
          "text": [
            "Digite um texto: O módulo time é usado para obter o tempo atual.\n",
            "O texto tem 10 palavras\n"
          ]
        }
      ]
    },
    {
      "cell_type": "markdown",
      "source": [],
      "metadata": {
        "id": "D6PDpGHJhwaB"
      }
    },
    {
      "cell_type": "markdown",
      "source": [
        "28. Tabuada de 1 a 10\n",
        "    - **Descrição:** Crie um programa que exiba a tabuada de 1 a 10 usando dois loops `for`: um para o número base e outro para o multiplicador."
      ],
      "metadata": {
        "id": "8xgkpirQiF0v"
      }
    },
    {
      "cell_type": "code",
      "source": [
        "numero_base = 1\n",
        "numero_multiplicador = 10\n",
        "\n",
        "for i in range(numero_base, numero_multiplicador + 1):\n",
        "  for j in range(1, 11):\n",
        "    print(f\"{i} x {j} = {i * j}\")"
      ],
      "metadata": {
        "colab": {
          "base_uri": "https://localhost:8080/"
        },
        "id": "DLWoc46yiLwD",
        "outputId": "39068c20-0fc4-45ae-eb1d-c1bbe27e6e51"
      },
      "execution_count": 65,
      "outputs": [
        {
          "output_type": "stream",
          "name": "stdout",
          "text": [
            "1 x 1 = 1\n",
            "1 x 2 = 2\n",
            "1 x 3 = 3\n",
            "1 x 4 = 4\n",
            "1 x 5 = 5\n",
            "1 x 6 = 6\n",
            "1 x 7 = 7\n",
            "1 x 8 = 8\n",
            "1 x 9 = 9\n",
            "1 x 10 = 10\n",
            "2 x 1 = 2\n",
            "2 x 2 = 4\n",
            "2 x 3 = 6\n",
            "2 x 4 = 8\n",
            "2 x 5 = 10\n",
            "2 x 6 = 12\n",
            "2 x 7 = 14\n",
            "2 x 8 = 16\n",
            "2 x 9 = 18\n",
            "2 x 10 = 20\n",
            "3 x 1 = 3\n",
            "3 x 2 = 6\n",
            "3 x 3 = 9\n",
            "3 x 4 = 12\n",
            "3 x 5 = 15\n",
            "3 x 6 = 18\n",
            "3 x 7 = 21\n",
            "3 x 8 = 24\n",
            "3 x 9 = 27\n",
            "3 x 10 = 30\n",
            "4 x 1 = 4\n",
            "4 x 2 = 8\n",
            "4 x 3 = 12\n",
            "4 x 4 = 16\n",
            "4 x 5 = 20\n",
            "4 x 6 = 24\n",
            "4 x 7 = 28\n",
            "4 x 8 = 32\n",
            "4 x 9 = 36\n",
            "4 x 10 = 40\n",
            "5 x 1 = 5\n",
            "5 x 2 = 10\n",
            "5 x 3 = 15\n",
            "5 x 4 = 20\n",
            "5 x 5 = 25\n",
            "5 x 6 = 30\n",
            "5 x 7 = 35\n",
            "5 x 8 = 40\n",
            "5 x 9 = 45\n",
            "5 x 10 = 50\n",
            "6 x 1 = 6\n",
            "6 x 2 = 12\n",
            "6 x 3 = 18\n",
            "6 x 4 = 24\n",
            "6 x 5 = 30\n",
            "6 x 6 = 36\n",
            "6 x 7 = 42\n",
            "6 x 8 = 48\n",
            "6 x 9 = 54\n",
            "6 x 10 = 60\n",
            "7 x 1 = 7\n",
            "7 x 2 = 14\n",
            "7 x 3 = 21\n",
            "7 x 4 = 28\n",
            "7 x 5 = 35\n",
            "7 x 6 = 42\n",
            "7 x 7 = 49\n",
            "7 x 8 = 56\n",
            "7 x 9 = 63\n",
            "7 x 10 = 70\n",
            "8 x 1 = 8\n",
            "8 x 2 = 16\n",
            "8 x 3 = 24\n",
            "8 x 4 = 32\n",
            "8 x 5 = 40\n",
            "8 x 6 = 48\n",
            "8 x 7 = 56\n",
            "8 x 8 = 64\n",
            "8 x 9 = 72\n",
            "8 x 10 = 80\n",
            "9 x 1 = 9\n",
            "9 x 2 = 18\n",
            "9 x 3 = 27\n",
            "9 x 4 = 36\n",
            "9 x 5 = 45\n",
            "9 x 6 = 54\n",
            "9 x 7 = 63\n",
            "9 x 8 = 72\n",
            "9 x 9 = 81\n",
            "9 x 10 = 90\n",
            "10 x 1 = 10\n",
            "10 x 2 = 20\n",
            "10 x 3 = 30\n",
            "10 x 4 = 40\n",
            "10 x 5 = 50\n",
            "10 x 6 = 60\n",
            "10 x 7 = 70\n",
            "10 x 8 = 80\n",
            "10 x 9 = 90\n",
            "10 x 10 = 100\n"
          ]
        }
      ]
    },
    {
      "cell_type": "markdown",
      "source": [
        "29. Verificar Paridade de Números\n",
        "    - **Descrição:** Dado um número máximo fornecido pelo usuário, crie um programa que exiba todos os números de 1 até o máximo e informe se cada um é par ou ímpar."
      ],
      "metadata": {
        "id": "0TDhM4knipAh"
      }
    },
    {
      "cell_type": "code",
      "source": [
        "numero = input(\"Digite um número: \")\n",
        "pares = []\n",
        "impares = []\n",
        "\n",
        "for i in range(1, int(numero) + 1):\n",
        "  if i % 2 == 0:\n",
        "    pares.append(i)\n",
        "  else:\n",
        "    impares.append(i)\n",
        "\n",
        "print(f\"Números pares: {pares}\")\n",
        "print(f\"Números ímpares: {impares}\")\n"
      ],
      "metadata": {
        "colab": {
          "base_uri": "https://localhost:8080/"
        },
        "id": "4sIuHUZBi5z7",
        "outputId": "19d76d10-043b-417f-914a-56e54825b204"
      },
      "execution_count": 66,
      "outputs": [
        {
          "output_type": "stream",
          "name": "stdout",
          "text": [
            "Digite um número: 50\n",
            "Números pares: [2, 4, 6, 8, 10, 12, 14, 16, 18, 20, 22, 24, 26, 28, 30, 32, 34, 36, 38, 40, 42, 44, 46, 48, 50]\n",
            "Números ímpares: [1, 3, 5, 7, 9, 11, 13, 15, 17, 19, 21, 23, 25, 27, 29, 31, 33, 35, 37, 39, 41, 43, 45, 47, 49]\n"
          ]
        }
      ]
    },
    {
      "cell_type": "markdown",
      "source": [
        "30. Somar Números em uma Lista\n",
        "    - **Descrição:** Crie uma lista de números e calcule a soma de todos os números positivos usando um loop `for`."
      ],
      "metadata": {
        "id": "Op0FmT7WjSJp"
      }
    },
    {
      "cell_type": "code",
      "source": [
        "numero = input(\"Digite uma lista de números separados por vírgula: \").split(\",\")\n",
        "soma = 0\n",
        "\n",
        "for i in numero:\n",
        "  if int(i) > 0:\n",
        "    soma += int(i)\n",
        "\n",
        "print(soma)"
      ],
      "metadata": {
        "colab": {
          "base_uri": "https://localhost:8080/"
        },
        "id": "DhXfSw3jjdtP",
        "outputId": "ed87d77a-f0cc-4b93-fc9d-9ea30ee00fac"
      },
      "execution_count": 67,
      "outputs": [
        {
          "output_type": "stream",
          "name": "stdout",
          "text": [
            "Digite uma lista de números separados por vírgula: 10,30,40,-20\n",
            "80\n"
          ]
        }
      ]
    }
  ]
}