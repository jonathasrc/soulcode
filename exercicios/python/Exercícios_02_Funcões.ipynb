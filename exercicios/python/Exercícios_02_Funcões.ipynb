{
  "cells": [
    {
      "cell_type": "markdown",
      "metadata": {
        "id": "Q1t_Q_mE8fyf"
      },
      "source": [
        "Exercícios 02 - *Funcões*"
      ]
    },
    {
      "cell_type": "code",
      "execution_count": null,
      "metadata": {
        "id": "WtaysTnDwmeR"
      },
      "outputs": [],
      "source": [
        "import time\n",
        "#decorator\n",
        "def calc_time(func):\n",
        "  def wrapper(*args, **kwargs):\n",
        "    start_time = time.time()\n",
        "    result = func(*args, **kwargs)\n",
        "    end_time = time.time()\n",
        "    print(f\"Tempo de execução de {func.__name__}: {float(end_time - start_time):.10f} segundos\")\n",
        "    return result\n",
        "  return wrapper"
      ]
    },
    {
      "cell_type": "markdown",
      "metadata": {
        "id": "EjLVTJ_J8kwo"
      },
      "source": [
        "1. Calculadora Científica\n",
        "   - Escreva uma função que simule uma calculadora científica, capaz de realizar operações básicas como adição, subtração, multiplicação, e divisão, além de funções trigonométricas, exponenciação, e logaritmos."
      ]
    },
    {
      "cell_type": "code",
      "execution_count": null,
      "metadata": {
        "colab": {
          "base_uri": "https://localhost:8080/"
        },
        "id": "w1qPr3S38eKZ",
        "outputId": "1c096324-ac27-4207-fedd-4a7aab69f3b8"
      },
      "outputs": [
        {
          "name": "stdout",
          "output_type": "stream",
          "text": [
            "Não pode ser divido por zero\n",
            "Tempo de execução de scientfic_calcutor: 0.0001590252 segundos\n",
            "Tempo de execução de calculadora_cientifica: 0.0000016689 segundos\n"
          ]
        },
        {
          "data": {
            "text/plain": [
              "-10"
            ]
          },
          "execution_count": 79,
          "metadata": {},
          "output_type": "execute_result"
        }
      ],
      "source": [
        "1import math\n",
        "\n",
        "@calc_time\n",
        "def calculadora_cientifica(a,b,operacao):\n",
        "  if operacao == '+':\n",
        "    return a + b;\n",
        "  elif operacao == '-':\n",
        "    return a - b;\n",
        "  elif operacao == '*':\n",
        "    return a * b;\n",
        "  elif operacao == '/':\n",
        "    return a / b;\n",
        "  elif operacao == '**':\n",
        "    return a ** b;\n",
        "  elif operacao == 'log':\n",
        "    return math.log(a,b);\n",
        "  elif operacao == 'seno':\n",
        "    return math.sin(a);\n",
        "  elif operacao == 'cosseno':\n",
        "    return math.cos(a);\n",
        "  elif operacao == 'tanente':\n",
        "    return math.tan(a);\n",
        "  else:\n",
        "    return 'Operação inválida';\n",
        "\n",
        "verificador = ''\n",
        "\n",
        "# while verificador != 'Operação inválida':\n",
        "\n",
        "#   a = float(input(\"Digite um numero: \"))\n",
        "#   b = float(input(\"Digite o segundo numero: \"))\n",
        "#   operador = input(\"Digite a operação:\")\n",
        "\n",
        "#   verificador = calculadora_cientifica(20,30,'-')\n",
        "#   print(verificador)\n",
        "\n",
        "@calc_time\n",
        "def scientfic_calcutor(a: float=0,b:float=0,operator:str=''):\n",
        "  \"\"\"Performs a scientific calculation.\n",
        "\n",
        "  Args:\n",
        "    a: The first number.\n",
        "    b: The second number.\n",
        "    operator: The operation to perform (e.g., '+',\n",
        "    '-',\n",
        "    '*',\n",
        "    '/',\n",
        "    '**',\n",
        "    'log',\n",
        "    'sin',\n",
        "    'cos',\n",
        "    'tan').\n",
        "  \"\"\"\n",
        "\n",
        "  if operator in ['+', '-', '*','/','**','log','sin','cos','tan']:\n",
        "    return {'+': a + b,\n",
        "            '-': a - b,\n",
        "            '*': a * b,\n",
        "            '**': a ** b,\n",
        "            '/': (a / b) if b == 0 else print(\"Não pode ser divido por zero\"),\n",
        "            'log': math.log(a,b),\n",
        "            'sin': math.log(a),\n",
        "            'cos': math.cos(a),\n",
        "            'tan': math.tan(a),\n",
        "            }[operator]\n",
        "  else:\n",
        "    return 'Operação inválida'\n",
        "\n",
        "\n",
        "# a = float(input(\"Digite um numero: \"))\n",
        "# b = float(input(\"Digite o segundo numero: \"))\n",
        "# operador = input(\"Digite a operação:\")\n",
        "\n",
        "scientfic_calcutor(20,30,'-')\n",
        "calculadora_cientifica(20,30,'-')\n",
        "\n",
        "\n"
      ]
    },
    {
      "cell_type": "markdown",
      "metadata": {
        "id": "lbx73vzSe--W"
      },
      "source": [
        "2. Conversor de Unidades\n",
        "   - Crie uma função que converta entre diferentes unidades de medida (por exemplo, metros para quilômetros, Celsius para Fahrenheit, etc.). A função deve receber a unidade original e a unidade desejada como parâmetros."
      ]
    },
    {
      "cell_type": "code",
      "execution_count": null,
      "metadata": {
        "colab": {
          "base_uri": "https://localhost:8080/"
        },
        "id": "_qubB6GqfIYZ",
        "outputId": "90988e20-30e8-4e5e-c936-92c7a1139d52"
      },
      "outputs": [
        {
          "name": "stdout",
          "output_type": "stream",
          "text": [
            "1.0\n",
            "95.0\n",
            "Invalid conversion\n"
          ]
        }
      ],
      "source": [
        "def measurement_unit_converter(unit_original:str,unit_desired:str,value:float):\n",
        "\n",
        "  match (unit_original, unit_desired):\n",
        "    case ('m', 'km'):\n",
        "      return value / 1000\n",
        "    case ('km', 'm'):\n",
        "      return value * 1000\n",
        "    case ('m', 'cm'):\n",
        "      return value * 100\n",
        "    case ('cm', 'm'):\n",
        "      return value / 100\n",
        "    case ('c', 'f'):\n",
        "      return (value * 9/5) + 32\n",
        "    case ('f', 'c'):\n",
        "      return (value - 32) * 5/9\n",
        "    case _:\n",
        "      return 'Invalid conversion'\n",
        "\n",
        "print(measurement_unit_converter('m','km',1000))\n",
        "print(measurement_unit_converter('c','f',35))\n",
        "print(measurement_unit_converter('cm','c',100))\n",
        "\n",
        "\n",
        "\n"
      ]
    },
    {
      "cell_type": "markdown",
      "metadata": {
        "id": "w01riLU1lG7A"
      },
      "source": [
        "3. Verificador de Palíndromo\n",
        "   - Escreva uma função que verifique se uma determinada palavra ou frase é um palíndromo (lê-se da mesma forma de frente para trás). A função deve ignorar espaços e pontuações."
      ]
    },
    {
      "cell_type": "code",
      "execution_count": null,
      "metadata": {
        "colab": {
          "base_uri": "https://localhost:8080/"
        },
        "id": "sh3bqndhlHnq",
        "outputId": "125b369c-e633-43a8-db00-da01578d79f2"
      },
      "outputs": [
        {
          "name": "stdout",
          "output_type": "stream",
          "text": [
            "Requirement already satisfied: unidecode in /usr/local/lib/python3.10/dist-packages (1.3.8)\n",
            "True\n"
          ]
        }
      ],
      "source": [
        "!pip install unidecode\n",
        "from unidecode import unidecode\n",
        "\n",
        "def is_palindrome(word):\n",
        "  word = unidecode(word.replace(' ', '').lower())\n",
        "  return word == word[::-1]\n",
        "\n",
        "print(is_palindrome('aná '))"
      ]
    },
    {
      "cell_type": "markdown",
      "metadata": {
        "id": "sZ59UnSQr3a6"
      },
      "source": [
        "4. Gerador de Senhas Seguras\n",
        "   - Desenvolva uma função que gere uma senha segura com um comprimento especificado. A senha deve conter letras maiúsculas e minúsculas, números e símbolos especiais."
      ]
    },
    {
      "cell_type": "code",
      "execution_count": null,
      "metadata": {
        "colab": {
          "base_uri": "https://localhost:8080/"
        },
        "id": "XV4klm4CyzjK",
        "outputId": "ba764f65-4648-4253-cc4e-b921e5a1f993"
      },
      "outputs": [
        {
          "name": "stdout",
          "output_type": "stream",
          "text": [
            "Digite o tamanho da senha: 15\n",
            "18O,}'2PDc(cUXJ\n"
          ]
        }
      ],
      "source": [
        "from random import randint\n",
        "\n",
        "\"\"\"\n",
        "Senha inferior 10 carecteres pode ser gerada em tempos muito grande devido\n",
        "a quantidade de combinações possíveis para que seja gerada com todos\n",
        "os requisitos.\n",
        "\n",
        "\"\"\"\n",
        "def generate_password(size):\n",
        "  password = ''\n",
        "  for i in range(size):\n",
        "    password += chr(randint(33,126))\n",
        "  return password\n",
        "\n",
        "def verify_password(password):\n",
        "  if len(password) <= 8:\n",
        "    return False\n",
        "  if not any(char.isupper() for char in senha):\n",
        "    return False\n",
        "  if not any(char.islower() for char in senha):\n",
        "    return False\n",
        "  if not any(char.isdigit() for char in senha):\n",
        "    return False\n",
        "  if not any(char in \"!@#$%^&*()_+=[\\]{};':\\\"\\|,.<>/?\" for char in senha):\n",
        "    return False\n",
        "  return True\n",
        "\n",
        "\n",
        "size = int(input(\"Digite o tamanho da senha: \"))\n",
        "safe = False\n",
        "password = ''\n",
        "\n",
        "while not safe:\n",
        "  password = generate_password(size)\n",
        "  safe = verify_password(password)\n",
        "\n",
        "\n",
        "print(password)\n"
      ]
    },
    {
      "cell_type": "markdown",
      "metadata": {
        "id": "1YwZYnz02EfE"
      },
      "source": [
        "5. Ordenação de Listas\n",
        "   - Implemente uma função que receba uma lista de números ou strings e a ordene usando um algoritmo de ordenação de sua escolha (por exemplo, QuickSort, MergeSort). A função deve permitir escolher entre ordem crescente ou decrescente."
      ]
    },
    {
      "cell_type": "code",
      "execution_count": null,
      "metadata": {
        "colab": {
          "base_uri": "https://localhost:8080/"
        },
        "id": "i6kZ2NJw2FKW",
        "outputId": "6fe2e4bb-f5e3-476e-e0f4-93db377a5710"
      },
      "outputs": [
        {
          "name": "stdout",
          "output_type": "stream",
          "text": [
            "Digite a ordem growing/decreasing growing\n",
            "[17, 20, 26, 31, 44, 54, 55, 77, 93]\n"
          ]
        }
      ],
      "source": [
        "from re import L\n",
        "\"\"\"\n",
        "Merge Sort\n",
        "\n",
        "#TODO:\n",
        "  1. listar order dentro do codigo sem utilizar o metodro .sorted=reverde da\n",
        "  string.\n",
        "  2. Contador de passos\n",
        "  3. Implementar Quicksort\n",
        "  4. calcular comlexidade logaritimica\n",
        "\"\"\"\n",
        "\n",
        "def merge_sort_list(list_number, order='crescent'):\n",
        "  mid = 0\n",
        "  left = []\n",
        "  right = []\n",
        "  i = j = k = 0\n",
        "\n",
        "  if len(list_number) > 1:\n",
        "    mid = len(list_number) // 2\n",
        "    left = list_number[:mid]\n",
        "    right = list_number[mid:]\n",
        "\n",
        "    merge_sort_list(left)\n",
        "    merge_sort_list(right)\n",
        "\n",
        "\n",
        "  while i < len(left) and j < len(right):\n",
        "\n",
        "    if left[i] < right[j]:\n",
        "      list_number[k] = left[i]\n",
        "      i += 1\n",
        "    else:\n",
        "      list_number[k] = right[j]\n",
        "      j += 1\n",
        "    k+= 1\n",
        "\n",
        "  while i < len(left):\n",
        "    list_number[k] = left[i]\n",
        "    i += 1\n",
        "    k += 1\n",
        "\n",
        "  while j < len(right):\n",
        "    list_number[k] = right[j]\n",
        "    j += 1\n",
        "    k += 1\n",
        "\n",
        "\n",
        "\n",
        "\n",
        "order = input(\"Digite a ordem growing/decreasing \")\n",
        "list_number = [54,26,93,17,77,31,44,55,20]\n",
        "merge_sort_list(list_number)\n",
        "\n",
        "if order == 'decreasing':\n",
        "  list_number.sort(reverse=True)\n",
        "  print(list_number)\n",
        "else:\n",
        "  print(list_number)\n",
        "\n",
        "\n",
        "\n",
        "\n"
      ]
    },
    {
      "cell_type": "markdown",
      "metadata": {
        "id": "YLoH_zPmX9FV"
      },
      "source": [
        "6. Validador de CPF\n",
        "Crie uma função que valide um CPF (Cadastro de Pessoas Físicas) de acordo com as regras brasileiras, verificando se o CPF é válido ou não."
      ]
    },
    {
      "cell_type": "code",
      "execution_count": null,
      "metadata": {
        "colab": {
          "base_uri": "https://localhost:8080/"
        },
        "id": "XB53gRyrYG36",
        "outputId": "47d95cf6-358d-4e78-88b4-95500afb4bb0"
      },
      "outputs": [
        {
          "name": "stdout",
          "output_type": "stream",
          "text": [
            "Tempo de execução de validate_cpf: 0.0000219345 segundos\n",
            "True\n",
            "Tempo de execução de validate_cpf: 0.0000152588 segundos\n",
            "True\n",
            "Tempo de execução de validate_cpf: 0.0000121593 segundos\n",
            "False\n",
            "Tempo de execução de validate_cpf: 0.0000050068 segundos\n",
            "False\n",
            "Tempo de execução de all_character_same_set: 0.0000073910 segundos\n",
            "True\n",
            "Tempo de execução de all_character_same_set: 0.0000047684 segundos\n",
            "False\n",
            "Tempo de execução de all_character_same: 0.0000071526 segundos\n",
            "True\n",
            "Tempo de execução de all_character_same: 0.0000047684 segundos\n",
            "False\n"
          ]
        }
      ],
      "source": [
        "@calc_time\n",
        "def all_character_same(s) :\n",
        "  #TODO: veriifcar se um set resolveria\n",
        "    \"\"\"\n",
        "    Verifica se todos os caracteres de uma string são iguais.\n",
        "\n",
        "    Args:\n",
        "      s: A string a ser verificada.\n",
        "\n",
        "    Returns:\n",
        "      True se todos os caracteres forem iguais, False caso contrário.\n",
        "    \"\"\"\n",
        "    s = s.replace('.', '').replace('-', '')\n",
        "    for i in range(len(s)) :\n",
        "        if s[i] != s[0] :\n",
        "            return False\n",
        "\n",
        "    return True\n",
        "@calc_time\n",
        "def all_character_same_set(s) :\n",
        "    \"\"\"\n",
        "    Verifica se todos os caracteres de uma string são iguais.\n",
        "\n",
        "    Args:\n",
        "      s: A string a ser verificada.\n",
        "\n",
        "    Returns:\n",
        "      True se todos os caracteres forem iguais, False caso contrário.\n",
        "    \"\"\"\n",
        "    s = s.replace('.', '').replace('-', '')\n",
        "\n",
        "    new_s = set(s)\n",
        "    if len(new_s) == 1:\n",
        "      return True\n",
        "    return False\n",
        "\n",
        "def calculate_first_digit(cpf):\n",
        "    multiply_decreasing = [10, 9, 8, 7, 6, 5, 4, 3, 2]\n",
        "    sum = 0\n",
        "    for i in range(9):\n",
        "      sum += multiply_decreasing[i]* int(cpf[i])\n",
        "\n",
        "    first_digit = 11 - (sum % 11)\n",
        "    if first_digit >= 10:\n",
        "      first_digit = 0\n",
        "\n",
        "    return first_digit\n",
        "\n",
        "def calculate_second_digit(cpf):\n",
        "\n",
        "    multiply_decreasing = [11, 10, 9, 8, 7, 6, 5, 4, 3, 2]\n",
        "    sum = 0\n",
        "    for i in range(len(multiply_decreasing)):\n",
        "      sum += multiply_decreasing[i]* int(cpf[i])\n",
        "\n",
        "    second_digit = 11 - (sum % 11)\n",
        "    if second_digit >= 10:\n",
        "      second_digit = 0\n",
        "\n",
        "    return second_digit\n",
        "\n",
        "\n",
        "\n",
        "@calc_time\n",
        "def validate_cpf(cpf):\n",
        "  \"\"\"\n",
        "  Valida um CPF (Cadastro de Pessoas Físicas) de acordo com as regras\n",
        "  brasileiras,verificando se o CPF é válido ou não.\n",
        "\n",
        "  Args:\n",
        "    cpf: O CPF a ser validado.\n",
        "\n",
        "  Returns:\n",
        "    True se o CPF for válido, False caso contrário.\n",
        "  \"\"\"\n",
        "  is_valid = True\n",
        "\n",
        "  # Remove caracteres não numéricos\n",
        "  cpf = cpf.replace('.', '').replace('-', '')\n",
        "\n",
        "  # Verifica se o CPF tem 11 dígitos\n",
        "  if len(cpf) != 11:\n",
        "    return False\n",
        "\n",
        "  # Verifica se todos os dígitos são iguais\n",
        "  # if all_character_same(cpf):\n",
        "    # return False\n",
        "  new_cpf = set(cpf)\n",
        "  if len(new_cpf) == 1:\n",
        "    return False\n",
        "\n",
        "  # Cálculo do primeiro dígito verificador\n",
        "  if calculate_first_digit(cpf) != int(cpf[9]):\n",
        "    return False\n",
        "\n",
        "  # print(calculate_first_digit(cpf))\n",
        "\n",
        "  # Cálculo do segundo dígito verificador\n",
        "  # print(calculate_second_digit(cpf))\n",
        "  if calculate_second_digit(cpf) != int(cpf[10]):\n",
        "    return False\n",
        "\n",
        "  return is_valid\n",
        "\n",
        "\n",
        "print(validate_cpf(\"116.695.224.07\"))\n",
        "print(validate_cpf(\"070.409.814-83\"))\n",
        "print(validate_cpf(\"123.456.789-00\"))\n",
        "print(validate_cpf(\"111.111.111-11\"))\n",
        "\n",
        "\n",
        "print(all_character_same_set(\"111.111.111-11\"))\n",
        "print(all_character_same_set(\"116.695.224.07\"))\n",
        "print(all_character_same(\"111.111.111-11\"))\n",
        "print(all_character_same(\"116.695.224.07\"))"
      ]
    },
    {
      "cell_type": "markdown",
      "metadata": {
        "id": "_VEB-n_AGW20"
      },
      "source": [
        "7. Jogo da Velha\n",
        "   - Escreva funções para implementar o jogo da velha, incluindo a verificação de vitória, empate, e a atualização do tabuleiro com cada jogada."
      ]
    },
    {
      "cell_type": "code",
      "execution_count": null,
      "metadata": {
        "colab": {
          "background_save": true,
          "base_uri": "https://localhost:8080/"
        },
        "id": "5HHKNzBGGgEB",
        "outputId": "b350d2f5-7b39-4188-b154-bc0e43884614"
      },
      "outputs": [
        {
          "name": "stdout",
          "output_type": "stream",
          "text": [
            "Jogada inválida\n",
            "Jogada inválida\n",
            "Jogada inválida\n",
            "Jogada inválida\n",
            "Jogada inválida\n",
            "Jogada inválida\n",
            "Jogada inválida\n",
            "Jogada inválida\n",
            "Jogada inválida\n"
          ]
        }
      ],
      "source": [
        "board = [\n",
        "    [\" \", \" \", \" \"],\n",
        "    [\" \", \" \", \" \"],\n",
        "    [\" \", \" \", \" \"]\n",
        "]\n",
        "\n",
        "# Visualizar o board\n",
        "# Capturar jogada do jogador\n",
        "def get_move(board):\n",
        "  try:\n",
        "    row = int(input(\"Digite a linha: \"))\n",
        "    col = int(input(\"Digite a coluna: \"))\n",
        "    if 0 <= row < 3 and 0 <= col < 3 and board[row][col] == \" \":\n",
        "      return row, col\n",
        "    else:\n",
        "      print(\"Jogada inválida\")\n",
        "      return get_move(board)\n",
        "  except ValueError:\n",
        "    print(\"Jogada inválida\")\n",
        "    return get_move(board)\n",
        "\n",
        "\n",
        "\n",
        "# Verificar se tem algum vencedor\n",
        "while True:\n",
        "  row, col = get_move(board)\n",
        "  board[row][col] = \"X\"\n",
        "  print(board)25\n",
        "\n",
        "# verificar se o tabuleiro está totalamente preenchido\n"
      ]
    }
  ],
  "metadata": {
    "colab": {
      "provenance": []
    },
    "kernelspec": {
      "display_name": "Python 3",
      "name": "python3"
    },
    "language_info": {
      "name": "python"
    }
  },
  "nbformat": 4,
  "nbformat_minor": 0
}